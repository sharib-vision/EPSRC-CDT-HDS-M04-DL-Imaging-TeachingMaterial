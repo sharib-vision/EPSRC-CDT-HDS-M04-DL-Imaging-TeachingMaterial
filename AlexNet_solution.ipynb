{
 "cells": [
    "cells": [
    {
      "cell_type": "markdown",
      "metadata": {
        "colab_type": "text",
        "id": "view-in-github"
      },
      "source": [
        "\u003ca href=\"https://github.com/sharibox/HDS-CDT2020/blob/main/AlexNet_solution.ipynb\" target=\"_parent\"\u003e\u003cimg src=\"https://colab.research.google.com/assets/colab-badge.svg\" alt=\"Open In Colab\"/\u003e\u003c/a\u003e\n"
      ]
    },
  {
   "cell_type": "markdown",
   "metadata": {},
   "source": [
    "### Solution to AlexNet assignment on CIFAR10 dataset for CDT-HDS2020 (Module: Deep Learning)\n",
    "\n",
    "*Author: [Sharib Ali](sharib.ali@eng.ox.ac.uk)*\n",
    "\n",
    "\n",
    "Reference: https://papers.nips.cc/paper/4824-imagenet-classification-with-deep-convolutional-neural-networks.pdf\n",
    "\n",
    "\n",
    "Courtesy:\n",
    "- https://pytorch.org/tutorials/beginner/blitz/cifar10_tutorial.html\n",
    "- sklearn example for metrics\n",
    "\n",
    "<img src=\"images/AlexNet.png\" style=\"width:800px;height:200px;\">\n",
    "<caption><center> <u>Figure</u>: AlexNet for image classification.</center></caption>"
   ]
  },
  {
   "cell_type": "markdown",
   "metadata": {},
   "source": [
    "#### Step1: Put all libraries and packages at top"
   ]
  },
  {
   "cell_type": "code",
   "execution_count": 22,
   "metadata": {},
   "outputs": [],
   "source": [
    "import torch\n",
    "import torch.nn as nn\n",
    "import torchvision\n",
    "import torchvision.transforms as transforms\n",
    "import torch.optim as optim\n",
    "import torch.optim.lr_scheduler as lr_scheduler\n",
    "from torch.optim.lr_scheduler import _LRScheduler\n",
    "import torch.utils.data as data\n",
    "import random\n",
    "import matplotlib.pyplot as plt\n",
    "import numpy as np\n",
    "import time\n",
    "from torch.utils.data.sampler import SubsetRandomSampler"
   ]
  },
  {
   "cell_type": "markdown",
   "metadata": {},
   "source": [
    "#### fix a seed for reproducibility"
   ]
  },
  {
   "cell_type": "code",
   "execution_count": 2,
   "metadata": {},
   "outputs": [],
   "source": [
    "random_seed= 42\n",
    "random.seed(random_seed)\n",
    "np.random.seed(random_seed)\n",
    "torch.manual_seed(random_seed)\n",
    "torch.cuda.manual_seed(random_seed)\n",
    "torch.backends.cudnn.deterministic = True"
   ]
  },
  {
   "cell_type": "markdown",
   "metadata": {},
   "source": [
    "#### Step 2: Make some function for visualisation"
   ]
  },
  {
   "cell_type": "code",
   "execution_count": 4,
   "metadata": {},
   "outputs": [],
   "source": [
    "# utils function to be used for visulisation of images\n",
    "label_names = [\n",
    "    'airplane',\n",
    "    'automobile',\n",
    "    'bird',\n",
    "    'cat',\n",
    "    'deer',\n",
    "    'dog',\n",
    "    'frog',\n",
    "    'horse',\n",
    "    'ship',\n",
    "    'truck'\n",
    "]\n",
    "\n",
    "def plot_images(images, cls_true, cls_pred=None):\n",
    "    \"\"\"\n",
    "    Adapted from https://github.com/Hvass-Labs/TensorFlow-Tutorials/\n",
    "    \"\"\"\n",
    "    fig, axes = plt.subplots(3, 3)\n",
    "\n",
    "    for i, ax in enumerate(axes.flat):\n",
    "        # plot img\n",
    "        ax.imshow(images[i, :, :, :], interpolation='spline16')\n",
    "\n",
    "        # show true & predicted classes\n",
    "        cls_true_name = label_names[cls_true[i]]\n",
    "        if cls_pred is None:\n",
    "            xlabel = \"{0} ({1})\".format(cls_true_name, cls_true[i])\n",
    "        else:\n",
    "            cls_pred_name = label_names[cls_pred[i]]\n",
    "            xlabel = \"True: {0}\\nPred: {1}\".format(\n",
    "                cls_true_name, cls_pred_name\n",
    "            )\n",
    "        ax.set_xlabel(xlabel)\n",
    "        ax.set_xticks([])\n",
    "        ax.set_yticks([])\n",
    "\n",
    "    plt.show()"
   ]
  },
  {
   "cell_type": "markdown",
   "metadata": {},
   "source": [
    "#### Step 3: Set your transforms, e.g, normalisation, resizing, rotation, flip, padding etc"
   ]
  },
  {
   "cell_type": "code",
   "execution_count": 5,
   "metadata": {},
   "outputs": [],
   "source": [
    "_size = 224 \n",
    "_means = [0.4914, 0.4822, 0.4465]\n",
    "_stds= [0.2023, 0.1994, 0.2010]\n",
    "# set your transforms \n",
    "train_transforms = transforms.Compose([\n",
    "                           transforms.Resize(_size),\n",
    "                           transforms.RandomRotation(5),\n",
    "                           transforms.RandomHorizontalFlip(0.5),\n",
    "                           transforms.RandomCrop(_size, padding = 10),\n",
    "                           transforms.ToTensor(),\n",
    "                           transforms.Normalize(mean = _means, \n",
    "                                                std = _stds)\n",
    "                       ])\n",
    "\n",
    "test_transforms = transforms.Compose([\n",
    "                           transforms.Resize(_size),\n",
    "                           transforms.ToTensor(),\n",
    "                           transforms.Normalize(mean = _means, \n",
    "                                                std = _stds)\n",
    "                       ])"
   ]
  },
  {
   "cell_type": "markdown",
   "metadata": {},
   "source": [
    "#### Step 4: Make your train and validation data loader with option to augment or not"
   ]
  },
  {
   "cell_type": "code",
   "execution_count": 6,
   "metadata": {},
   "outputs": [],
   "source": [
    "def get_train_val_loader(data_dir, batch_size, augment, val_percentage, shuffle, num_workers, show_sample):\n",
    "    \n",
    "    if augment:\n",
    "        train_T = train_transforms\n",
    "    else:\n",
    "        train_T = test_transforms\n",
    "\n",
    "    trainset = torchvision.datasets.CIFAR10(root=data_dir, train=True,\n",
    "                                            download=True, transform=train_T)\n",
    "\n",
    "    valset = torchvision.datasets.CIFAR10(root=data_dir, train=True,\n",
    "                                            download=True, transform=test_transforms)\n",
    "\n",
    "    # Step: Split between train and valset from the overall trainset\n",
    "    num_train = len(trainset)\n",
    "    indices = list(range(num_train))\n",
    "    split = int(np.floor(val_percentage * num_train))\n",
    "\n",
    "    if shuffle:\n",
    "        np.random.seed(random_seed)\n",
    "        np.random.shuffle(indices)\n",
    "\n",
    "    train_idx, valid_idx = indices[split:], indices[:split]\n",
    "    train_sampler = SubsetRandomSampler(train_idx)\n",
    "    valid_sampler = SubsetRandomSampler(valid_idx)\n",
    "    \n",
    "\n",
    "\n",
    "    # form data loader for train and val sets\n",
    "    train_loader = torch.utils.data.DataLoader(trainset, batch_size=batch_size, sampler=train_sampler,\n",
    "            num_workers=num_workers,)\n",
    "    val_loader = torch.utils.data.DataLoader(valset, batch_size=batch_size, sampler=valid_sampler,\n",
    "            num_workers=num_workers,)\n",
    "    \n",
    "    # visualize some images\n",
    "    if show_sample:\n",
    "        sample_loader = torch.utils.data.DataLoader(\n",
    "            trainset, batch_size=9, shuffle=shuffle,\n",
    "            num_workers=num_workers,)\n",
    "        data_iter = iter(sample_loader)\n",
    "        images, labels = data_iter.next()\n",
    "        X = images.numpy().transpose([0, 2, 3, 1])\n",
    "        plot_images(X, labels)\n",
    "    \n",
    "    return train_loader, val_loader"
   ]
  },
  {
   "cell_type": "markdown",
   "metadata": {},
   "source": [
    "#### Step 5: Make your test data loader with no augmentation"
   ]
  },
  {
   "cell_type": "code",
   "execution_count": 9,
   "metadata": {},
   "outputs": [],
   "source": [
    "def get_test_loader(data_dir, batch_size, shuffle, num_workers):\n",
    "    testset = torchvision.datasets.CIFAR10(root='./data', train=False,\n",
    "                                           download=True, transform=test_transforms)\n",
    "    test_loader = torch.utils.data.DataLoader(testset, batch_size=batch_size,\n",
    "                                             shuffle=False, num_workers=num_workers)\n",
    "    return test_loader"
   ]
  },
  {
   "cell_type": "markdown",
   "metadata": {},
   "source": [
    "#### Now since you have made your data loaders, now check your data here"
   ]
  },
  {
   "cell_type": "code",
   "execution_count": 13,
   "metadata": {},
   "outputs": [
    {
     "name": "stdout",
     "output_type": "stream",
     "text": [
      "Files already downloaded and verified\n",
      "Files already downloaded and verified\n",
      "Number of training examples: 45000\n",
      "Number of validation examples: 5000\n"
     ]
    },
    {
     "name": "stderr",
     "output_type": "stream",
     "text": [
      "Clipping input data to the valid range for imshow with RGB data ([0..1] for floats or [0..255] for integers).\n",
      "Clipping input data to the valid range for imshow with RGB data ([0..1] for floats or [0..255] for integers).\n",
      "Clipping input data to the valid range for imshow with RGB data ([0..1] for floats or [0..255] for integers).\n",
      "Clipping input data to the valid range for imshow with RGB data ([0..1] for floats or [0..255] for integers).\n",
      "Clipping input data to the valid range for imshow with RGB data ([0..1] for floats or [0..255] for integers).\n",
      "Clipping input data to the valid range for imshow with RGB data ([0..1] for floats or [0..255] for integers).\n",
      "Clipping input data to the valid range for imshow with RGB data ([0..1] for floats or [0..255] for integers).\n",
      "Clipping input data to the valid range for imshow with RGB data ([0..1] for floats or [0..255] for integers).\n",
      "Clipping input data to the valid range for imshow with RGB data ([0..1] for floats or [0..255] for integers).\n"
     ]
    },
    {
     "data": {
      "image/png": "iVBORw0KGgoAAAANSUhEUgAAAUIAAAD1CAYAAAAlFfzlAAAABHNCSVQICAgIfAhkiAAAAAlwSFlzAAALEgAACxIB0t1+/AAAADh0RVh0U29mdHdhcmUAbWF0cGxvdGxpYiB2ZXJzaW9uMy4xLjMsIGh0dHA6Ly9tYXRwbG90bGliLm9yZy+AADFEAAAgAElEQVR4nOy9d3gc13n2/TvbCxZYLLBoBAiAJNg7JVEi1YvVrbgllu24xzWxHftN4hQn9pt8KZ+vOC6pjoviksS2XGRVq9gS1dl7A0gUoi+wwPY6c94/zgwHJEESyyKJ4N4Xl7vYnT5n7vP0R0gpKaOMMsq4nGF7vQ+gjDLKKOP1RpkIyyijjMseZSIso4wyLnuUibCMMsq47FEmwjLKKOOyh6OUhYUQl7uLeUxKGX69D+JCo3xfZ+d9rayslAsXLny9D+N1QU9PD+Pj4zO+ryUR4cWCDXUgwnhJQAdcgGZ85zbeNSAPZAEnUIF1EhpQmLJNG2AHPIDPeHe7wOUChwM0HXIFKGqQL6r1JFCU6qUb28sC4+rn3otyAS4zBAIBfD4fUupICXlNR0odpI6Uknw+Ty6TfS0PaVbe17q6OrZu3fq67V9KCUIgpn6Z00CTSJ8DpEQIcbrVzwvve9/7+N73vjfj+3pRiNAG1ACVKLJyAa0oMpLAGNANRIA0UAssA6pRxJUFJoxXxFi/wdhu2lh/2Ph+HlBlbDcNRFEEZhKkEwgZ6/uBBg2qNfAJyOkQ0yClQVRCDkgACQlJFOEmjW2WYUHYbCAEUtfhjHGoLsBD+xU385FPvI81TR6KRY3FixdTXV2NlDrpouTISAytmCabT5DOTHDw8D7+6z++xZEdXa/VKZVxoWGMCwGQzUEsijY0SOJQH47m+VRsXIm8SCR4LrgoROgAWoC5QABFSuYpF1FkUzBeEpgEuoAg6tEpGN+NARkUOaaMZTNYUl/KWK8aRZJ5FGlJFPnZUeRoHpMNCGlQmVF/m49w0dhuAhhBEbE25ffZD1MOn/pVNc7qFuatWMNVd62nsUInpOmE3G4WXH0VT8ecPPLQr9nzy+8gO3dOs003Xn8LjtAcrr7pHn77nb/FPO+pS9UALfVKe1GagKR44x20NS/kjz7zWUa6ei7sqZbxmkEIgYyO0/fAtxk7tIdEZJR00U3btW9i6frlCIdN3fQ3AB9eFCLMA/0ognEZrzSKYOIokkuftPwx4zUdiijpcDrEUATmRF3PrPGeR6nTSeM7E1EUMTuNVwB1ETLGcSVnfJazB8JfjUyZMrABOQffwo+x6u3v4/p3+FhTD4tQ104Co2nYsneMA8G64xMTgMDF4rlXsuHm21h3/Trmzm9j3coFNHgBKZEITEFAnqQaCcCOwC4c3Hfrm3ns9pf53+5/Aq14sS9BGRcSUiINlVgO9BHfv4P8SD9+WcTtqUGLDEA6A5V+jBFxwQ9B1/WSlr9oNsIJlORWRD04WePzxYBu7MOFkgJ9QL3xOYN6vHUsuSdnvHtQ0qQLGOIEGrisYHd5KAofJPuNbwI4W9bRtmwF/oCTZByS9eoe+lGSeLQnzej2LRSOdB7fTthfy8Yr7uL9H/go1997FdWhKcNLylMk7OnsQyY5Vrrt3HfPO3nm0SeI9Oy5wGdcxsXEcZVXK2KLjTO/tQlXWz0Oh2Cwe4SJiSEYj0ClH4RQavQFVpM9Hk9Jy180G6EbRXxJzk/FdKEktzwWqU4HkwCdqIc1gEV2HizyMx0yNiyJXDe2fbnGEnk9HrzzljK6cxxkJbaGjSy7/Z1cfes1BOvspLKQL0psDsCYv31SMqfCT2rJMppqrmDj6itYv3QVq1evoXVh3RR1Rxr/BMa/M0IIcZwMr1mzko7F15WJ8BKEALTBESb2dxIdjFJp1wj63UQH+unuGyb0g+/S+KGPIZoalfR4gcnwxhtv5Fvf+taMl7/gRCgALxZ5lUqCHpTzJI6lWmuc3WbnwPIOe7HIzXTWmEToMH43vdQmUSeNfdiMdS8n2G12/BXV4AzhqltJ+xW30Dh3PnlpZ2BYIz9UoLHBw8Kwur5uYN0CP1UffReeD93D0qYgc0OBE7YppbRIz/QcGlLhTD2FzfUO7rz33Wx94UnyybLj5FKBeXe7tu7mlUd/Q+zAbmptOnOqvBzrO8bw6AS69kOucbio+/TnED7PBTcVvu4Soem9TXNukmAz0AEMoDzGGWNb05HTVBO/A0V4ZphMDqWam6Rokqnd+D6HUvFiKMKOn8OxzhbomiSZkJDN4nW5WLhwEd4KH4ODSeLZDDZXkcHxenJhJTPbpWSJW7BwcRUuqk7amhrSFtcJDuUg5IKwMfOfbBucHsp2VNcwj8rwasaSR7ic3FeXPPI6Tz/2ND95/AlGCglCQIvNhq7r1AKFw0fgwR9zx4abcN+wQUUhXMBwmjeEjfB8hqsZu1dASWmJGe7HjiI9H+qkEiiCq0Z5kP0oUo1jea3LUNAl2BzKhaRnCySGR3G66/FXBWhZGOKqK21c1yzoAMzQazsS+/E53JrPJYIhIIYgCTzVV+A//+77zGto5O8/cSdXhg016AwQQpDT4LFn8zz55D6ymhtl7Licp6tLA6aGO9w9wM+fe5bnCtYTLHSdCmANkCnCxPbdtPzgh6xdtATRUK2e54tgL5wJXreAajN8RTvp+15U8HKa0sjKlO5yWISXN7ZTj3qMTJKUnN4LfTlCajp23Q6imkw8x+ChTvz+ZpZ2LOD6jXZuaQSvYetThj5TFlcEOIZgnw7bIzCRg0MRGNMgLYts/fI3Kf70T+mxNfD3opIf/OVGvDOY/aNxePiJw2zZupWcVkBNZWUifMNDqDExODRC5+jwCT9JlBCyGaXtLQFefuwRgnMWMO9zn0QEXCeaVF5DXBAinCYK7awwHRMnE6GGIrRSkWH69IA+VPB1C0rtdmGFy7ymuQtvYAigoqIab107rS0dvPWtd3LdLStYutBDox+cSJAChKSApB/BIIKohL4UPLx7nK2bjjD+whGwhcA3B5xFyA3AI98EEqAn+NUD3+TFt63j1mWes076jdXw3vctIKUv58WntjIwIcAWhEwCtJNHTRlvFJihMLFEmkQ+Pe0yWeAQSoPbNthH/mtf5v3zF1D9u/deNC/y2XBBiNCNFbCsoaQynTM7HV7LUBUzQ8SMGwwYf/efaaXLCjbqW+ZhF3DtNdfwex+4krYa8zc1xUkBuxBs0eHFYegcgvH+HANHR0m+vBm27oHuLiAE62+HGg/07AbNUo1S3Zv42eOHuXXZSrVNebI9kePfCyFYv9zD/lvn0bk5w4CMQKASio4yEV4CqKwN4fYEIDM57e86igzdgHNyiM7vfpOr1i5BLFtwUbzIZ8MFIUIXyhbnx3JC5FFSV+ZC7OA8jquIuuiml7gGpSInUSr463l8bxgIO47wYlz2INnwfI45lOfeARQQbMnAr/rgyZez9B6JETs4ij46DtkYxEdh4DAkjqEUHqdK3J4chd5tUByasqMkB3Z1cyy5kpYKgRBSeZLlyWSodAwvgrY6iZcIZAqQGX/trkkZ5wRzEmtpn0tdfQvDE6dLk1A8cRjFHa8+9zjhvw3S/rWvIWpDyujyGmadXBAidKCY3XRYF1AEk5tmWR8qle7k7JKLgSDKqpTFcsA4UDnQNagc5TIRgrQ7mfQvImJv4bC/lseisFnAUBR6huGlxycZerILdm+G9DFUfk4MdQdjKKPEGGra2Qu794EeBznAiQYIO127d/LA/y7n9htbWLnAhUeAMKVOqUb9VFJcUOdmeauT2FHojkK6bM94Q8O0+9Y1VHL3Pe9k98GXOZPhbBw4CIR0DftPH+Q9G26k8pMfsuJJVbxVycehlag1nDcR2rHS26aerqkeT0UF0IgiKDMdrhQn9xJgubHPTcDgWZaPYmWzJFCPrfm3H0WGI5SDMjTppG8iQHQ4Q3RsjK7dKbRihni8gD6UhF07IboH2I+S+kx//nR3eRS00Wn2ouTLwUNP8cC/Jtm/60ruectNXL8+zBy/MALcVcIVWGaihS3tfOmLf0HP3T/il09s53+eOEjP6OWaA3RpwJQKP/EHH+LRR55g98HHzrh8P/AyMJ7L0vj1f+HNc5Zgv2cDOMQ5O09aWlpKWv68iNCOEmurUGRoFi/IoUivAiuGz4nlsc2gDKVVzNx7Ox/4L5Tr3S7gZxI+wpkrw0xN6cuiCjSAlfLnRkmoqbPs245VGmw2Qpc2xg/mYUsn2dR+stpmkH1Yd6wbGKX0PCEbykU1D2x+0J9Dz73I0R1HGR/ax8jYKPuP3MiKFa0smOtnbZPtuBPNyjCx0bBgAw25HYjhBIUJJw/tTDMwWSSd6CrxeMp47SBpnuvjG//8Vd59f5T+yCunXTIPHEE9y9WHdyA++HFu/tz/pfLP70Oa42AmaUnmnqVk48aNJR3teRGhHwij7Ek5lJJkFjkIGb8JFCGlUWpqDvV4OFEkOsnMhrJZ0caBWuE+YB/w98xMvZWoC73VWN7Mg6idcow6pzpxKlDhNxnOLoFespDAsSTE9gOPAFtQqu75QAC3gO/NEA5Duhsizxu/DREbHmfTIzGGo2kymXuZ17rk1BRHQyUqHHmGHV/9BpX18/m9O2/iiuub2Dde5Fvf+QpDJ4VolHHhcHKI07T1BaeBNYnB9bd08Hdf+hc+/Mm3kJN9Z1xvAtgOOCZ24/raN7hr49WIG+uRAosMTz5G4/+pv51LEYdzTq+1YTkjMigSjKDIJolVTzCNIr9JLKXKTHsziyXMBJUoKdKEA7gVpS6XAt04FlMt96JIO4Qi5gBKAjRVfrfx+Q1QKejiYrALeMZ4nQ8JesBzGyz5Flz1Zbj6ndC8AmSWE2XvPFryZY7u3I6/wsPyRuPrKQNCXXONAz/9KT/87hADm/YzV6Z467VL+MA7N3Lf3SvwTlPaq4zzgzxN9o8wQltm0gvdJEOA93x8Lb//4S8xk6foCMoA83zkRbZ9/h+Re2LHpcGp+5VGHKsAhBRgFFLOoBEVWUZLrCNVkkRoFjbIoxwjLqzg5RgnmsVNJcokkhiKNM183iSlPW5xlERmJnQdQtkVzqWijSmRasbxgRXu40edX854t3P2UKBLHVo2C4kfAk8zs8Amc/40r0o1sBZqbkCsuJbgm1bjW1/NUC/oh4B9TiPk5WQDtiQX2U5kKIKDduObkx4XXaNvzzg/0WD/81GO9X6HOz6r0f7RP+Szn307wYYx/uNbO5iInOPJlzEthBAUJPzq1U42b9/JulWLuHfjSmwGwc3MoWsFzv/JX/4uz276FdsO/e8Z1ygAR4EXyDL66ld41597uOUHX0RU2gxHhBFyNUVVzogio4zRxyDDjBCVE2T10rxqJRGhC1iFIgk3Vr2/CKcGQetYBU7NStEulMSVRgU6l5I5MgD8CFUTLwscQNn8TFW7FKKSKAI1i0KYrQIcU34zZRfze3sJ27/UoKWGgG9zdhJsxNd8E5l4ABkvAD2o6WwNcDvMuR37bSEq10JFHYxGQS8AOTfY56IMDSfN1LKTHZu3kc5fhcs1jYNQc5AcVxbKIrCiL8fGo7tpdKToWL6YT33q7bgDGj/58UH278qXTYbnAVPiMiXBbz36El/44z9l/OA2GlesZfAf/o4P37ERpyntncWbqwRI5UYNN9v56lf/lj/8TJqth355xvWiwDZgPxpDD3+d+J94ufYLHybcFAYhjofmRbQEXYUu+tnHgNbJWHqEWDpONpulWLyIucYuYD1WhRkHKmujCzVITQvA1DJXpgxQgZLmBIo0S831rUJ5lyKoh8L0WbpQXuiEsa8m4G4Ucb7C6aXOLOpimhVpzKo1YJX8KqAIcGrJrlkJfZIzTiX2+dQvv5vWjmtonbOK/UedHN6epTBwEBUJ1ggsBGcldgGFrCQeh+KIMFJ7cioO8DRXUdP1019fp435oTquQt3nJsDvSoIcAdpobLiPP/pMO7ffupn/89kHeOmF6QN4yzg9TM/sVFX4J9sP8Nd//ZeMH9gEwNDu5/nTT3+K0Hf/k9/ZsHbGxRGsRBHJtXe08/V//QfuuOcV4pnpIgssmDHITxCj+9+/wD1Du7j/y39BQ8dCDutJenMjHBk+QN/kXtKOblKFUdLJBOl0hmwud3GJ0AG0Y5W3MtXGBIrFJ1Gk4cHyEpsKURVKgYoYy80EXtTA96B6nniMdYdQj1QA5ZDxGr/VALcD71kMw2PwszH4Jpa32IQpzZqquukRNm2WZt1DswGU6fmevTjdoFkAnttZ81v3864PbSSgw2Q/TKagywcIH0ij3o+oBLcdKSBXBJkWSLPfQiypumRNa5IWCHfV8Z+mqlzm59amVq5EjbcGB3g9GZDHkNgBN35vLddcuZ7PfawPLf00W3fG0WazLeMCYKoNcCqpTQL/+Zvn+fJf/zWRzc+csE7s8HYe+OF/c9+GtXg40WYn1IZO3onxmzgeDtWxpp55S5vZue3MRHh8E8BBNDIP/RhXlZ3F772XyTkBRp059kY6GU6O4bTrSN2HVrCTS7uIT8bIZS+iaqxOygonkSjCqwTqsJQeH0pSs6FYPYmlfpopeGdDNXA9qjlTHEV2YWN/MZQn90rUIzyAIsyrXbB0NXju9zM/nucTzxWofQW+mLakVRNBY1tZlKqex8o+MVVmp7GsxomOmtmJAKrFVSXq6s8B/7W03HI7i65qIRaDXbsK7HkxQeeBLLmhHGpKSgEC7Flw6RR0O6k8CFPkTkhIpUCzG/s42YhiJ5GWxPNQ5ZheZqxat4Y2t42xnK4K7k6MwdgORNMIUkaQ1CDEfN7yO29h/bpr+N5/b+Z7P9lO//AkyVgMZLnU/1RMjc3LFnVGEkmORiLsG+jjmc2v8NQvf07q1em737383DP8qrOL+zoWTCsVmp0kPXACMZqfXFWSjhvr2LmttGPuRfLQ//6UAz2HKN64iIkWP4cGDzFxbBCXDraihGKRYipHIZpC5i5iQLUZA2gShVm8YGpYbQpLukpghdPYUKEqpgd2qikniHr0oqhHZY3xWory5u4z9tGECqHxAW3APXbw2qCzANUuWHAH8CYbcqVApMCfh+sOwZKTiNAsuGC2EjCPd6oqbPY0mc3xgyfiahD3gWMBuOvAX0PN2jBX3OylogoO9Uq2bo3Q/dxh0CRKxtdRV6sIMgOJFDJaSbZWYDNTiCokuOzgbIH8Wk7N8NboH4rRm4IW34m/CEMmdC+aR111BaPDcQoa5MYTkBwB3AgGkSSRhSJCq2ZOay2/+9Yb6ehYw8HeKI88/TybX9qCLFwed3HGEILRRJr/fvwpfv70E+zcuZn4sV6IRI37Oz1i+3fzN1/5MrFPfYSr2+cR9gTw4uBocoyXjvTQNxglHpukKVjBugUtBN0OUtk4Po9gTm2YFw8/waS/Rz3YJbaH3J/PcWjTNopbt0GlDdI6JFTr3fNFSUSooWyCBaweIAmUN3cYFS5j5hqbYTMmdJRtb2r3OFAzxyeBdagYPx9wkw0WBcEXBEcFLOiBvIRwC9icEBuG6gaoXAlkYd0eEAaDymodMZCETkj8GrYOndqQKYfKKDEJXRgv82KYkqCp+ueZ7aoxKBl+PtjngysIlW7yFV6yTpjUYDAuyPoqoC4MUR1c1ZBNQMGo/e0GtCzEKyFlTB5uwFcEbxF8Xsg3YnU9MRHEWdWAa9qCwoYc4YCi3U4SGJAwNq7TlDUsvMKNSMVhcAKp1yLCi2hePJ+3r1jP+NAQLfUaTjnMC8/3lh0pBkxJbv9AH48//zTPP/4Qsn9IPXx+1GD3O6CuGgoOOBqBgtn4W2frt7/DJ178NW0r22lsqcMfCHBk/xE6tx8mH88i0xmwC/yVHjwOgZbP4qt00r6mjmLVKMWaGKGrIXrmhJNTYJqtVOXnCzuxlUyEZtqaqRqbnmEPSrEqoOb86dTf6QKW7wY+VQN1IdjQAwUBDWvBsR5YaYcGJ+0vZtUGVwBBCE4CYRey3gnDGWxbdMiDXIDSYQ1dNy0BO8zT1aNnVqjOGedgOnPM8zHJ0IdVybpo/D2rnSUA2EGOQXYSsjXgbCGRnU9f0okvC31RiOk+aG6GQFGpuhNFiPrBpoPfD263ulBu8DRC0Q7FDifkA+DwwqRZn2gqQngCNfjMOKbpjIQuOx6n7bgpI5MFcqYNqEJJnIEi5AUyOYjQdPBHqanSePt9y2httvHL5c/yi4cP0n3sbHlElw88fhcOvxuZMq6J3Q7zQ+ASUB/EfuV6KqvnMPHgq/Dcy0YsKFAoktrTxb49Xew7w/ZTY7HjU96kC8ZdEa68w82CZU20LtJ5Ln+M8WflxevqVgJKVo1Ne5qpTgqUVSmEkqSGUEEVM8Ec4HeAuhuA9VD/Y9RF2QDyDuDa28C7ErHuN5DpQ9bkwa0hdGmUpsghGnXlJckqez3CKJ0XhvpGuHMezP0NHBxSZDgG7DKOM42SFqf2KzFL/TtR0q5pE539jZ3M0JZxYALGbTDSwNHJIHaXJJkEpAMCVVDQYCSmygzjALsD3EHw+dUFDEka2gS2WsnwuKBgq8bpryU9WANJLydGnObJx8cYT6Du43QzTlMLq65dxUTPr7EBhUnQ+saxryqCqwqctdCgIbIFGIkgR4fA7UbU1eCvW8WNd25k/co2lrc+zZ/9zUOMnKns+SzF1LaZpqPk6pZ5fPDdv8fmZzcz9urzSgVrWwb2DNRWsGDVWpYvWM4rx5wM7OiBWHdpO3UBjcoq0jAPFi2zs3L1XJo6WvF4K+iobeOp+kNs/+HIBT/fUlESEdqwPLRmo3bTqWCqkX3MvKLLFcBaAdwI8koQh4BxkA3AgiaE96PATVB/M/Aygr2o7sdKCRekoDEHdRroGhSLoNvAVYVc6Edc4aXqesmGOzKs2TpBcTTJ8GHwbIeXjC2Zar5JdGbnPRsnhvnMfiIMoM7WyA0quqC3hUxfEOqFuigZDLFeh8moUWsuDzYbVHuhTtXvqgjDqiA0hWHMC4kmL67eDnYVb6H3sX3Ao1i6wTGi+55jf/dbuKHmpOEoDKGwoormq1bQ9tNfk8qALQtyIqnKfbnMTjUZ8BShMYDI5aGYRdqiUNyFsNXgravnbW+7GZde4KvfeYFtnbO/2nUqn+LRQ48x2HWM3ESaUCDElSuvoqN9yXEv7tr5HYTC7YzxPAgvdl8YTYtgszlpDtbQ4PTjTgs1CZaCIFStgcalEKyEcAiam500+H00OH1UV4VpXzOPinSI7s0PM9H5+hqfSosjtMEyl1JNzMKmZimtBCo0ZqbFToPADcDcFqAJRBLyg0ASXG6QVa3AMpBVIG5HWRF7QR4B0clxChaj4OgHJsCVBvwIrgRXE9IXhFAQsbwK728PQW4/gZ3Pcusf/IaB3YoIU1gB0wKlNkexnD1m9NvsV40nUdPAJGoKsMNoPRxsgFwldGcgEoOJKKQjoPWjrpIH3I3Q7MazGBqXwdJFgje7YAGQapQkqwQVKx1sD6/lm6n76dvkNYo6xIBGalZcwfLm6Yeied0dNQFq54BrFKoqwO4075rh65c5EBq4apQkIgcQ6RjEY0h7DKoqqZpXzXs+cCfCCZ/8y8eIXew6cK8zYok4X/nmV+jdeoT8WJbli5bg+4CfjvYlxx26h3rH6N+7X/0xOoT2zAtQjKN7bWxLC3pr5tL90FaInz7T3u2DihDExqCYBUcVtK+G6+6CjuUwMQKpBISkwBsv4JnIU+kVBANhguvrGP90nv/+xvOMHnr9RPWSiFAICLgAw2RndogzW3dqzJwwQsAyGzhXo/TUV2HnCzBRgFvXgD3rBRKWi1nUArUg1qECajTUiI+jEu66UJKiG+U1mYegDoTh+nCDdIO4/i6WfeLNLPj9IXYVrcwUM2faDPMRnOhVnv129gKKmAZQU0EYZARGBsAhIB2H9KiqRygnoMJ1fC6ytQnmL7GzehVsuBbW18JawC2NNCifBB/cel8l1yx9O9//yQb27pwgMpagfmktb7u/hasaAKYr0qrgqPQSqFH+GI8bVcG4aHajNuNubCBdSCFBKyByabC5EQ4NtAEQExCu5qa71vLho91s3j/Ejm0JkonZ6QrLpNM897Nn0Xo1kJCdzHLvbUMnLPPqjk7Sx46oP3QNhq3fJ//nSSbdXoinOOUJCAjCISet1UAgz3BEMD6oltGTEN0LXQ6w9YHNWHXClSWS6KQ7OEDtnE7mti+ltm4Rd159K5V6O//4Vw+Qmnh9bLglEWFBg764FSRtOhXMTJIMMyt2KlDhMQtWAncFkQcn6X0C9iYN8jkE9qEINL2CylpoPGkLlVM++1FumlVADGRauZBFNUinZXA376NYjHPNfDw1Q+gjllPHVO1NW+FUe/3lEXhh1geaRMnJBagQsMJLeKWftqYKnMUG8hOLsGeLNFY5SEcTpBMRKvyCDWthwxrYUGvEXJrX2yysKSVOIbm5Q7Di83PYcWQOuQIsaoNWH7iRZhrptLCFG/HX2klMaCQTUBiI4hwbRwbrEFSh9mo+RB4EDojGKaaLSDGOsyYJ4Xpw2mnqCPKut19B3at7iUaOsG/fLFWT86D1WCSfy+cRLitZNCbhpS07QTtNgYKcBrlTf6te1Mwf/v1nWFYlSfXv4t++/yD9h7PHHxRdg/Ex2PQ0vPI0zK2E9hBkC5KReAHNESMQjNExf5DV68Z501s/yDvvfhed+9L85L9+TDH72pNhSUSoo2QFszqLSRpTpaiZzK23AJ+fC/P+6Hq4ZiO9P/s6DxxM4UOl8Lk1YGgIjj4NTfXgeduUtU92K2L8XY2U1ahc7D3AIIgrkdKm4tGEUaUCiagG/xyoG1HV8nSs4gtmTKRZMefyIEFQwU1NWK4wG3RUcOOddbz1NhvXt0DAYccmfdh0NQkm4j7ikyE0rUh7i4tgwLgzRq8nmHKnhDL4CSEJ2AQ3dFjX3JQEpy05ZxizbG3LcNdXI3rHSCehMBTHOTgC7U1grwZpU4Qr7IoEMzki23rZ8dIQ4yM6t/92B6E33wxMQCGPV0xQVy3weWa/9deEw+PEXWUFa76yt5fNT/+CUhNeaxvreNO1NxDIDrC5fw99R4unfVDyQFccBuKWhgXABOzpzvDM8y/x4PiDPKYAACAASURBVEM9VNQ0cujoMMVcdvoNXWSUphqjlFHzhMywEydWaMzZPOENwMfCcMXfLoZ3fgbiYUYn/50uUtwGrBAoIS+bgnxKBRKechRTP5uBPKZKdZhE19dJ9u+hceOfIJy/hdmBTSEK9nGq2qFjGIhAwabs/YUCZIvqPGJYzeUvC/iW4Gu7nfRwK6QGmHP9Xdx835V84Ld8bJwDrlNEa6j1CWgwQ88BU6qbpiKcMP6TUqgSZ1PmMslpSPAE6GRtgrwOxTzkEhq+yBgiNwm+NAgzhc+p3sdSjO+a4MVf6Bzog0W1/YRWHIOWRrDZqPFoNHl1PPbZb/QwER2J8fCvfsl1195IZUUdf/Vnf8Lk3qdL3k73lr186uMfR0RH6N0/wPDw2cWF6bREDYjmIHpwkNe72mfJROjAKlFlelvN2n1wZgkqCHwcuPvT9fDuzyJZgUjvQmTSNAMbgFAz0AKyQiBa5oFj8am1mcwcR3GyGyMN+Zfpe+kpuvb3cs+Cr2FvrkVy3ZSyPRHITODUoNIJNQIyQhGgVlQecR8qmMSGCrxOMLt7m9gdIT72p19k/Z0L2LojQX/POO9/RyvXLBXUOsEU8RTHWSR3cgGS09n3OGn5KZtUQtyZDu74BgU5m6o8omtQzACJGOST4MtxPIDRLPwWdRLqd+I1wqb6nsqwqnU79vuugYULqA6O0+qR+GyXDxFSgId/9DCaDlUVDbz6yI/OaTPFVJ7NP986q7IMSs41Nh0LpgDrQg09M7f4dMPKCbwH+Oi94Pn4e5B8CEEUJnbjz+ZYB7Q2Au8AeaMPVm0A/w1Y9kF5/E0y9YEzvZxRYAByh2kIZSi0gTa5CXvj/4+wt6OUYIAIcixBsQ/kEMi81WwqjxUiVIUSTOtQSuMYyqczG9HU0MDffW4BAS+8Y22ARCZA2NSgpDytxHYy6Z21IMlU0jyrBHgSPCFkbT1F3yjFcchEgeFJGB9BBlsQVKJGIUhcCHc94eowV3pjHCxA12E49ugwbe2HYV4bzsYaFsaTBLyztu74tCgmivzy+z/HLs69sJyw2wjPqWRyKEa+MDsmkpIlQg2rd9nUogSmw+R0G1wNfGQt1H9pI4T+wFi6H3Y8Rl1OSWaut4D8/fmI1reB7T5gJUiXEU9mVsowH6AJGHwYel5FJgaAOKIlDFWC6nYX/jYn9pAGWhfYe7GIsBGHr4aqbEpln2AFVWeMc5k0zsODIvk2YJGAB2fHPT8F4VovAcPD4RECj0GCp+s7fK442ahREqqaCS5Zycj2PWT7IR6FwkAO58gAzJ+HETODmVApfXZEe5C1HTYi21SZr9gYaAMj2PMx8HkRrU34AodRgV+zFNMV6yyAdh7inNR0cgkNm5guU+jSRMkpdgWUqjiGkpwkVpC1B6X+npxL7QY2AoveUQtr/gRJq/EgBMhFJggEwB0CVrmh/beB9yPlQgCEUO4LcTzKbxLGdzKx6UH6Hnuc9MAkDqlRGYD2K924rm3EtqIBT8VqIIikHWS7epglIBYi6uZT5+jDhlU+LI2lAuewSoeFURkwc2fS5ekShbAzpSin+k45ey8MA56qQp+0n7OtDwhsVDVWUhuCmAbpJKTHoCoWRTCJCghXU7JAQ/o1WNpA9Y0NvCkzSKwAvvkgGnzgkEinB1FfA5WBM+/8UoYdFcw5ggoIuICev9jE7ErPKS18BiUF5lBpdGbPj1pUXKBZaeZkVAFXd9hxvfmvgHusga+7yY8JXAKYC3LFKuDDqOJbxsOSfhzG90E8Rmaol7Ej3XRuOsT25+JEBpQ9zyeg2gfFRI6l4R7EIi+SdQg2IORKlIsG44nTYVInGVOFIo6ipFuzWMTU+S2JiqrrB7yzvJ/uKf0pSlj3BDKTxn9TSzCdQYWefj/yBCeKuaSrzk9DnZNoRQGXWQuuWAQ9BTaj7pFUJd1FOIC8fgWiwU9o0T5CiUloDcDVbUiXD0EAaAXb7CVCYYfAGhupCR0tggq1naWRQueLklXjChRxTM0OPIYiRDMI+WR0ANd+8D2w9BPKvmeKBMUcxbEMDqO3pnA4kHiOh54Rf5zNn/9DIvuPITSNoQj0RiAZVSRcj0pPHZBwMAUTL0DWD2vbBxA3OJBchSBoxXQggCKM5hhJqkYxvac55qkYA/pnhwZwTpDS9PpODVeyIE75Q32jA6k0JFM6ew/20dM/Sl1TLS3zGrDZ7USTGcJVAcJ+O24X2ARUOY31DQ40S8JLbIjaBoIdIZYuHkHPgt8LpPOQnoCKajDL6Uob2CrBU4dcGUJ0NEAiCh47MuAGHMZwMMsHz1LYwNnoRriz4JAqjbxMhNPinEbBqS14lCToRKnHpsrsREWmffF9S5nz6b9CDVJFSBIQxVHsxQSJDBQnIbBvD+LK/wGWQ36Uzn/4Ip/7tx4mjO3EULkjC1CZC3OAoB06NdgBDCeh+Cw0rIkzZ10fokKbIq2Y1e0mkdE045qVazwTlNYT61LGqWQnpkhlJiaSkMoUEcKG22sjMilJZzVcbhs2YWP/rhF2vNJF1+G9HO7czJGul0jGB3H4g1Q3duDw+IiNj+KvaqCmtoNAoAlfRTVXX7eWDde2s2ZxgEYvOIQwhowDWb0AsXABwSuiEClAkwv8lUibH2GOLVEAsiDdCLIgHOCtRrW7c6lRIM1o0VmeMyQE2QobWtIGNs0K9p3Fp3yuKLn6jBlQ7UWpk+bnABzPyXWhcj9utcE73+ll7T/+X/C2W5KFicRhZCrFWBK0GCx7IYHt5gfA0wB7Rtn2o6PsRxFqyNhXFao462IBHgm9mlWGwQF0T8D+F6Dhiqex33Y9wvYeY2dpBBOgv0QuGmfSribImaACaPTC3tkcQ3Mc6g6ldEglQSuAruns2tXD8Mgko5FxBvr7eeGFXzMxMYbd4cdX1Uw8lSJXcOCtrMft8BDpOUB0cAvQydTo0mIqTqTLKpObHprqqvDy3E8bqWpeyIprb+QjH3kr77qhA7swBDjpgGATXLlaxZjWhqGtAuGrQuJUdmRpA1EEYSR9SjeIClQMgEOFCZAHYVq8Zy8rSF2SGkjDsFQ2njFm8+meF0omQlMyck1590zZkCkJ1gJ3rYa1f/E2qLmDKXKg8S8Bh58j1qfRF1PS3pxNEHpwL1TuQ+sWxMYUwYZQvVJML+5aYFkFdKXgqK7U9ALK4TGqw7ZXIPAf3awa+jLe9T2QzVEc78cm4mSO7mfXY8foTkxvzzQhprzf4If3vwWe+kEpV+vSQSYteejRKHrAS7pYpKdnhKcfe5TBnm0UczH0gs5Az14KuRjKknq6bneme0kVMHOyGK89TFxTZGgXXnQETk+Yom5Dzx3jxKCkDOhHifUd5YX/fhKv188NqzuYa/Zw7e2DzkFVJDQliT15AGe7E9/9bYjWNhD1QABJEWG67oQbJSEa5GdKjMcz5Gdx7pAG7JPKGD7EzDq1XqYoWTU2s0qMmqfH4wrTWDm6Zse6uatcsPhOVEUYDFuP2oqIP4/cs5NUQt2fLBAbgtBOoFki4pJGt8pJNvsLe7B8g8MpGNGVl9eLFW0YBV6ehJ5fwOLnd7N0zm6KOowmQLfD8AQMxmGgaJH5dHCi2geEgfUL4Kb7gFlKhEeODvC+936BnHcF2YIOoy8Dv6R0g5INJZuPA2Fuuebt3HPdtSTyUexeQVVDFZmihqvSSzKfIzI5wo4dr3Do4FZy2RgebyWTYxHik1GCdUu56Za78BnNYkQ2Qf5nvyHyixdxJ1Wr0H8bAeGF3x8bY+EfA3VBoBGBmWViur+KBgEmUSO1gEQzJuZZ3KhVR6lL45RJ8CwoiQjNtDoPVgVnk0zMun4FlBJiB7b/Kk/tP32BynsPQ/N9ULAjfLXI4ij0dyJ0B8EGaOwGfwpcZrloP9hq4drlMPhr2I0a0hkUyUaAuG7dX79xHCnUUB8EIhJ6x2Cf0c8zihUzmEIR7yl2P7MbfV6VussD9W5YtA5qrirlSl1ayOVGyOX+FTA97AconQT9EF4Ffh/0bKGm4Qr+6Av3c/PtIc7EN1l5J5GJIrlCjoDPRySWYs/RSSITNm64rgmvUe0ov3WUXz24n5d2qEE7APwvkMnA1q/m+MChV1iyeg/t6xqoCLnwVXuxuzzYqoIQCIDXo8hQANiMAGyzzdgshdkf4w1QAfqNjpJVYzixxeVUqTBnvARKNe4chK6/OErrt7/EgrXfoqGphpbrbkX4fDBwGMZGCfhh3gJwjIO/AWgCaQcRB/KKm/ycWAxBoIhMR0lt5u8p1PISK+PFPG6P8fswikBP6KniQz3/VSgmHwNGIe2FivkwZwUqxWRWYw7YroGKdaANgb4PMj+e8dpiyQ3U3n0vodY59D+1hpWhBtbfFDprRVuPgJaQA3CoMeWuYKm7gkQSGiqBFGz+wSCb/u3/44e79nEUyzlnOrpe1mDbIxq1j8RZWBunLayylHI2gT/gpibsI9zoJpfIkstBw1wn7UsbWHJbK0K4T3NkswRlEpwRSlaNTT+bkdpOACsLI4u67mEUCY0CBzPg2Q/z9g+wKjTAvQN9VDdXoiVS2PQEFc1Q0WGHSgF+HRnQEcOQ2wFdB5Tt0BQoilgWKiMIgiDWg+HF6lesY5Xmjxu/R1FEONXrLUIg5xkbyqFUCaPsjG6HqmYIVDOrTUl2Rw3r3vo4DTctx9cmSKSg85leDv/bZmbWeMELcxrw1jrxeosIV5aBgaNse6WP66+fCzokYgUOHxwgkc0TDFci7E7SeUl9Y5BgtYOMVuSBnzzBnj09zJ+7mpXL19Jc6UPE4Xvf/QHf2/UAZwrhzaM0gcEx1E0/ANbIUNZgcwJ3AvOqRvni53dSzDin29zsgVkmqowz4pxshGZvDxuK9FxYTZBsqFAXG0ry6kXxyyjgisK6ZydxtE+S1SBYD87FdphfDQsbwKOreC9bFHtbnkAnOMet3sOmbTKLIkgXSpDzolRmM+U+ibJUdaJKtp5pUvQ2gz4fshrqmR/huBfFJqChwYhXO1bqlbp0EKyt5uN/voJ0A8TcMDAGh540S2vMBAXksS4GN8OIy03u2ac5PDbBV+wB4nvfTO9ohM17DvDk80+SzAwSrKnHF6ghV9CpDoepCEE6O8rOTY+j51M4vbU0NG/gPe/6DHdfsZanD/yCxAVwd5pzWQE4FIM/+8YrBGtqznu7b2iUSXBGOCeJ0HQkmPU+zIZHZopdFZZzoxFFRCFjnewoTGQha1O9J2qqNJirIRvaEcEAYjKKnFPAcS10BLew48tx8hlFhKYqnkcJbR4UAZqxi2bTpQxKOjjK2TUDtxu0DGT7UVLElBCZ1SG4rQNCeTj801Kv1KUDp1PiBF7cBC8fgdEuSD35FDMvjVSEI1sodm+nKATkEoCdPd3DvNKb5kjPOM9v6WN4vBc4QHJKbbPezlO3VshEONb5EP/8TwcJfe6/yLsujn7XNzrBZHaWq8ZlzAglE6EZNB3CIhkXSjKswyptMIpSmxehyCuAygQRBRUz6HRDMQaFfnAuTCPsTmTdfET1MnC4QThxXJdj4/YXCO2A/lEYKCjV9hjq3cHx6LDjZm+Jkhb3cPbSWQ4B3jjkUqj0oykC0Dzgvhq4ei64nfD8S6VeqUsH+WyG3CRs+9kY3U+9CLFXofCT0jZSPPlqu0mKJrLhDkhXovsmgRdL2mQi3smPHv4lo8mLk+StFeNMRMtGtDLOgQjNcltmpRawKlU7sbzHDhT5mcWRKlAOlAo31DWBr1FV0o+NgHdXDs+VnYh5a5DOm1C02gPr7qT1jytpPXiQ/JYejryg88QBRYJmkQTT5+dBSZwF43im66s8FTagSoLoBl1wAgk2AffXwVvXQ0WHOjExUeqVunSQy+Q48kqOnsf+BmLf5vzzaII0rPg87/30J7j5ugCDhxvw6tU8OLKNRHxLCdvR2bHrF2iF4fM8ntPB7NNSxuWOkkv1SxTBjaKcEE6UepxCDamssVEz0NqLktYCGGE1DnBVgGgCYYNCNyRehpaq/YjiI4jrguCfD72vQO9+il3H0HtHsaNT4VOEar5yxj6PokjRZ+x/AIukzcKxLuO4Kqf8LYDJ/IlFZWpRrQTefz0s+G1U/bDdMDzT9nyXIKQEWyqLyB/l/ElwDoElf8v/+cZ7eccNUI9krFHgj83l8Qf9Z3R4TAetsH/KX2bnOjtq1DVilfsYRI3KMsooHSVLhHNQpBZHEchU5wVYtQm9KNIJc2LmSTKlAqdrjY7wtgSMTsKR72uEX3qVpe/twtZezehjffTuz5MYBy0NdV5IxyzvsNkLPMPxluToWGE14SnLVaFsl2aKvUmgY8Y5mH1XGoDrgHeEYcGbUGF1echuh52zuH6nyyG447YqfvyTuzl84CnOnHMzFV7jZQfqQFwNFStZet29NASV13+oKBjthB3PRpiIbj+Po3Sg7uTUUsBmhUwo546VcT4omQjXCKiWikzSKKeFSUZmmIqOks5qsDzMZne7Imph90ElHQ7H4LCEV7Lg3wdv/8Y4ra3j7NsD3XFFWEnUsM+gHLtRFMk2oB6DJMrZm0SRXRBl42swPntQmm/eOOEMSr02FSMzUHshcBdw0wbgGpBBENvhwOPwzCw2JRWKWZpq4eZr7+RI1z60wq9Rd9GPmaXv9NcRrF+OcAikplNRVU3rwrU4HT6KBSceb5D65hayQhLwezn4PHTH89hG0gwcGmb7jh3k9fNRcTVOrHRpEp9Zj2sWxzeVcdFRMhEuXQILJ6B6SDk/dgPdKEKJYCU1mSRYYezELODqBEYl9IwoAuoCDgO7UI+dvx9WDaiCCjVAH7APRVymBFeB0ljbULKBqW6ZvVNqUI6bBpTi5MQiPIxjqcQicrND8mLg2lVQcTfQCGIQRv4F/v5RFYYzW5HPFdj9qkbH3Lnc/eYvMDD+ESrnVhBuqSZYKfF5dMJhN21tfmwO0HTI5sChg0cDPaNsvalYGke1B7dNUFmUOGOj9B/Zx+TOIxwbPYIsWTGeitNJfKXGhzhQIzOPGpEOOK/jKmM2oHRnyU3gL8I1z8GCQ0o6LGIFK5v2NjN8xo3V4c6H1fEuiSK2bpRNL4JydhxAlU5rwsoQGkUVRx3DynU2u5TUoYhxDlZQdw4VQziCpcqbvZhN2cGskFNlXAQ30GqD5puA69UXchP860/hx7M8T1OiiCzggfVXhBnLhTk8Eme4L4Z/YYhQo59wCBJjkC/AxKTk4IEBevZ24UyksGdSaIkxgr4CV926lkXL21i3sA7pSLIptpstkYMkGOGN0RPQ7HoIajTN8ptbxoxQevOmKzkuYoUjsHJcEZmpwo5ipbuNY1lzHKjHQKKIzFRnO43lpjpdzIpBZrZA2vhsklkaVUzDhZIiQyhC9BnrRVHEauab12KF15gpgSb5OY19RoBHdbhtD6zrVxuZ3AVPXgZORSGgudlGNAWDx2DzS0d5+aX/Qs8cYnPdcuYvXsH8+c1k4hFSqQSR0SEGereQHt+GkrNVRZd6x1xWb6xh2bIVhFe4obGJJc9V4d4yQTrXydl7HXjAeT2IcchvO8ez8aNG2elI1xxFUM4/K8NEyUR4UMKS9ajyzp0wPwtXpxSphICDKOktgXJgmF5jJ2p4mqEtZh2QFFYLADOHOIWyN2amvGtYVqC8sf04ioDNoGoztEegCLkXRZhBVHxjo7GME6s/c9xYLmac0mN7YN1mtcC+bTDVZzlbIXWdCn8cp7OKw32SSP8e9MwPgSNkR3/GvtEg+553gYxida45VVUdKY7TGz1CeFlQ3ZAFlSy8dRnznvwNtoGTO9lMh3ngvBpse8+DCNtQd3jnOa5fxuWIkomwLwnMB7kExCEIuGHNEHjHoDKhyLAPJdVNokjKhSLDWmMbplxghrwkUPO4DytDJIUlWZqfTY+0WWhXoMixiCV5Bo3l3FhEZ3qUzdxoP5an+yCWx1sC3x2FJd+GjjbYPzxr+zWdgKJWIJvuo752BRRHyaVeRU0LoK5iZIZOWScpV4CxHDT7oDiaY/fBIQ5m8uTP2gXFDyyEXBHETEjzdIgY2yqjjJmjZCJ0GONZtIDsAFELwRQsHwF/H4SOQltCOUHMeD5TWqzCqlADlgOlGqXa1mKV+YcTVdgAlsTnxnKIVKLmf1NiNNP/WlAqci+Wl9iGkgptKCLs4dQq1d3APx+Be4cgXXX5BGXYsZPPQjY7Tr54Ls4DPy7/LeQr5/P41nGWVtmYONDNtj3HOJQ3XVjjnN67qwNHQSsy89S+6RCl7Pwoo1SU3rPEnNhdQI0RYiKgogUWN0NdPYz3Q1ufkh4nsKSqGFazdDPcxoMiyGYsT3PW2I0ZiK2h5ngz19iN8ghXG59NZQ1jOY/xbjpCQKnhx1CkGDX2f7pS/SOo8lAdVRAcOrU96WxEJJojlZ0kW8gRCC1laPhWlGEhirqDdqy7AODH5VqG0x3E4Qrg99eyZO1q6uvbGBhMQdSB395A7drrWW1vofflxYyN/Aa0Tac5ggwqBqGH8wuFMatmzgRO47xmeYvCMs6K0onQFJGSIIzcOVkBIgPOMNSHoX4M5vbD6DHo74P+CejXFQGajhKz9WcIJQlWYWWGZLHqeJoSoZlHbNr3zFrIZjN2h/GbSaITWE4WEzmUlDrEmR81F9AehPULYeVBeLbki3TpYWS8n2XhedTUulm5ajH28EeJ57NkY0MUUxH8OswLt+HBgx0nojrE3LXLqW6qwF9lxy2htspLIpUnk8ng8FdS0+ihqb2JOevWIBdexUMPNzK+dx9n7hbzWrVZqyHIMgqij5TseY32WcYbFaUT4SDKg7AdOAKyGauYqtnBKQQVrVCRgJY+GD8CPUdUBkl3VpFfN0ryMqtLg0WCU+dnDav2oSkNOrB6lJhme7M9j5nnbL6mI7yzyRs32GD9zVBzr5sPH87RddDqizJbMZY8ytJl9xITGrLSz3z7MmRlJdHJOMmJOFUFCBRsVOKl0lOBFvaT9OnUtToIN4E3B9q4DpkMNr1AOOBgUTv4/TA2YePlg070wutRLlml5dlw4MBNrbedKmc9PneYoL+ZQxOPkYr1vMbHVMYbDaUT4U7ADvpzoPeCYymwHJXTVgX4QTaqz8INzlFoGIDwYchEYLAT2rpg7yR0ScuuFzQOJo9VjVpikY8pGZreYTNcJ26827DsjWGUmq2heHtqD2aM5cxwnJNRD9ywEGpuD8HbbuXduRfI/sEg35uE0yl1swEu+yR2vQuvO0JtSKe6qg7Nm6CQjDASGeTg7iN0734Wu/TgdTRg888hVixQ29bK4hWtrGgJ0RwAIQv4vX7m1TXQWA26hCQ6kyMHSY48zWtX5EAATdiZR0tFPTUVFVS6vAQrKvF4vQi7G+Hwc2DybOU5yrgcIKScuTtACBFB+R8uV7RKKcOv90FcaJTva/m+zlLM+L6WRIRllFFGGbMRZ2mtU0YZZZQx+1EmwjLKKOOyR5kIyyijjMserwkRCiE+JYQ4IIT44UXa/oNCiHnGZ5cQ4ptCiMNCiINCiLcZ3/++EOKDF2P/ZZRRxqWN10oi/ARwm5Ty3VO/FEKUHr5zEoQQywC7lPKo8dWfA6NSyoXAUuA54/vvAH9wvvu7nCGECAohPnEBt3ejEOKRGSy3RgjxbeNztRDi50KI3UKIzUKI5cb3LiHEpgsxpi5HXO739qIToRDi31EFox8XQvyhEOKLQojvCyFeBL4vhPAIIb4rhNgjhNghhLjJWM8nhPixEGK/cXFeFUJcMc0u3g08NOXvDwJ/ByCl1KWUY8bnNNAjhLjqYp7vLEcQNamdgotMQH8GfH3K551SypXAe4GvAUgp88AzwO9cxOOYzbis7+1FJ0Ip5cdQcc03SSn/yfh6KXCrlPJ+4JNqMbkCuJ//x957h8d1nmfev2cKZga9VzawixQpihIpiVRvLnKR4+7EziZxNpvE65RNdrNX1t+lL99mU5x17CR24sRJXGLHsS1bxSouVKMkShTF3kmQBIjeMQCmz7zfH895cQ5AkAQoUiyY+7oGMzhz2pz3nPt9+gPfEJEwOihDxphVwOeAm85yiM3Am6CzmrPs/xORnSLyfRGp86y7A21LkseF4c+BJSKyW0Q+78z6W0XkCeCgiCwSkf12ZRH5AxF5xPm8VER+LiJ7nLFZ4t2xiGxwJsKpy0uAtcaYPc6iVcBzAMaYw8Aizxg/hk6Mecwec3psL5ez5AljjK2cfzvwbzDx41vR9iG3A991lu9HM/KnQwNaewk0AWUe8KoxZj2wDfgrz7q9aPHrPC4MfwS0GGPWGWP+0Fm2HvgdxxRxLnwb+LIx5gZgE5ryDYCIbAL+AXi/MaZlynY3A/s9/+8BfsHZbiOwELed9n5gw6x/VR4wx8f2chHhxSzzF0cz70Cz+WPAD53/v48OpkWY8/d9z2N22G6MOXmuFZyZv8kY8yMAY0zCMVUAXAf8I/BeY0zbNJt7JzpQyaVcRHajNt9dONmSxpgskHKOl8dbx5wZ2yshfGYrjsgrIsuBBWivpFeAjzjLVwFrzrL9IWApqH4NPAnc7Xx3H5OLTC9n8gyUx1uHd1LLMPmeCnN+dKF1Nm48y/feiQ5jTNQY8yvGmHWoHakGbW1tESJfV+tiYc6M7ZVAhF8BfCKyD/gP4D8ZY5LO8hoROQj8b7SZ3XQZ+0/hEh/A/wAeEZG9wCeB/+b5bjPws4v+C+YORtESkWdDD1ArIlUiEgLeA2CMGQXaReRhABEJiUihs80w8BDwZyJy9zT7nJjonG3LRcQWLPo08JIxJup8VwX0G2Ou5UJBlwpzemxnW3Rhricm91+jyfn5cb3Gx9V2lQStyxNGDeoJtHqTLY4WAZb6/Phy2YnOlBfKPAI0BaFuQQ2ECiCdhlQKk0ojgSCEIsTHYvQOROlPX5JbcMbjmo+5mh2u6Uoe85qbWXnDDWQzGQR9eGwX4Kmqw6W4bf1+6ltFAgAAIABJREFUPwMDAxw+fBgRQUTLoff29l6Co03CNT2uoIY2r56bQ0kvweQKkWXAlx0S/AuUCC8UBlhm4NHfeA8Va5fAicOkWo5w/OgRyhfOp3Hjreza/iZ/++87+ebA7DtUzwAzHtc8EeYxgbvf9z7+8otfnOgzY9uf2srgtrD9pUZfX58SISA+H4cOH6Z/cBDx+cDvJzo8zGvbtpE1RrsUBwIcOXSIjtZW/IEAIsJoNEpna+sEmSJCLpNv32kRY/qGpwXAUdTbuO0iHGdnBp756V7u6o8RiA3S19HLoRNRloQHaIhFIR3Fl+Gsrb0EtWdlgH1cumZqeSLMYwIVq67jOCr9FQBjGRgYg/4oFIWhqBiKIlAsGtdQgtuGNcj0N1Mat+sguB2Hx3D70lg1LYdKBdU1NeRwOxVu3rRpYn+2k+EvffSjE71qkqjxOJ7NakFfn4+RaJT2tjayIqSAtM9Hy549jPT1IX6/rjMywsFXXmHXj8+bADFnUI66cV+/SPsbAb62dQ+nTnWyrLGUsaFBYuOwsqQcJEN8ZIR4avqq8SHgfh98vLaQ/oEY1Wl1I/dw7jrn9j6czbSXJ8I8JpCtXcKeBJCC2DgcPgz7d2Y4uasPv89PQV0xBQ0RypuEG9dCbVjVK4CSAphfomag5DiMD0OhOC1US6A4Ar4glBVDexy6E9r0a0kFLAoap9WrkDOQEyU826Ma3J7YtoGXbdeQBlLGkBMBv39ivcKyMlauWTNBlAlg2apV+NCHLo26LMeBj8nZ5JG5hxzaW+hi1u1+Ppmh5XgXt3UNsKgoR01ZiEBxBRIqpKSogIqI9jyaijuBT6+s597bbqa35QhF249RFdOsiMO4qrTgmmpK0MZu1cxOos0TYR4T+NH3+nh2xxCRSI5kLEvXoQHG95+EE0chOw5SA5H5ULOMnTc2Eyr2U+CDnA+CRVBUDclRyA5Dut8QzObwpXMUFvsJFwlFNUJ5E3T2G4YH02QTPpatC7DhNmH9CsOSckOjCAXOXe1z+Mm2arXtG/woSVoiTIuQ8aw39bPD7ROSaQZIG0PSkRbzcGG7PwYv8n7bgP7xFA9KgEWrl1BU1wzV81m18VZ+YehF9jzRz8seEc5qJYWVVZSuXk/p3fdQu3E78773GMWnkqSAY866QVzpz4+267jTB9tm0QwxT4R5TKDr0e8CL4M/A9kEpFK4slMOTBhiFdC6BHP6JhK+KhLi9BcMFjAUKoRUHNJJSMfAWPmsFIhAOAQRA/F2SPdAVuh//DreuHMVax8WHn4PPFBjaBIII2SNHj0jLrHhec84Z2dJ0kqMac9n+7/X85kBUiKTemzPRZQCi9Bgve1o/EwZGshbhHaCvJiIAYeSsLmgglDDUlh5A/7G+WwuKOR3fFupeLWTlztTDKHj2QL0xoVs4xL87343pe//OPc3V5H7639k5GiGAbTZrHcyG0Ybw22eZUfYPBHm4SJ1BGhHrURRtDdgISpHWb9xGOiBXBvkIkzIDmk/xAIoadpbsx63v2AhJIogIbo9/UAChrvJPJVi56nldJ0s5NT7hXfcYJgfMERECBoIGCZ0ZMPkxl5eO5BXfbbLrdJr1Wyfs572tju7kf5aRSmwEs0suA3NUkijeajbUcdEIVwySfl4OsOOrlE+0bgKlrwbk+kmVFTLB2/5IHf1jfLvX/waX3j8JVpzhiPAc51D3G+KqC9R40ngo7/F6iM7KWp9jcRZZrEhNJd2NsgTYR4OfDAhI6VwG6faCDTbUboENalbWPqx3aqtKwTUVF6GWhLDuEpXFJU/xoEByLbD3ma6jm/km7tWcujXw9y1CVZWwyIxVOFIiGhXvAwqJVoitOE9WedszhbaY0OC7Fnblq9zCauBj6EpV6udZTlUiqoG3ommdfVfpOOFAj4qK8rpG8uQicfJkqYzloSSeqAAiQehcQNSPJ+a6+Ad7Rl+sGU3rdERDLArbhgsqqTe7rBiGXLDLRwPvkZsWiIsoJ4cpbNsGzvX7oM8zokErgXOhxtFaMkwgsoLBaikV4oSWxzXbywoycVRyXLM2bYIJVmbJWWcfSXRxy4FsTiZn8XYlrmF1n1+Fq+D61cK9zQban0GQfAJiFGtOyP6ENszBldNtjCed6/EaEk1N8dEwnJU9S3BvR5+4P1oRYNV6PRUwplpXIXAWlQdbWFmcX8Prl/GBz/1y2zvFn7+/A6OvvIou0+c4IWntvCJympSh/fjb2rAv2E+ZHPseOMo+6OjE9u3pwytqRCrPPs82DHGjrEzjwWVlMqdbAr6qE7tBE7N4AwVeSLMw4FVNn24AS2O/W8i7HYclfgSuETpRy0zXnmsyNlnzNkmgD5GGdxHMIISqbX+jQJ7IdkFzx6m86WFdFY38/KaBrZ+KsKKNdBcb5hXAfUilDqn7EOdKjnP0S35Wbthhsl2RHWWQEogOcdyahajbciL0amqEx2ZRnA899DsvHZ7tqsEfg/4cG0h8WCQPR0j7ENj+045rzR67W04VRPw674M7w5luMkfpNHk+L8Io7k0xx57jM54nNhAH2XLl1FTPZ+RkXFe2r6bIc9U1h/r4+e7j/OuD9oQKh8n+zLT5NouAB5kcc07WdwcYLhlGfT/xYyvS54I83BgUJU1iJJVAa6lzVrYDCrBZXEVSz9q80s564SAKlQN7nb2aVVhG7gyNVS70NlnHE0G6IZYObTNh7a1HGi7nUObItTfICy9ETZeB6vL1IYYMeA3jufQI93lnDOy7h4rBRogY1zVei4lJdegSflLPcvSKInV4ZoNFqIVUr8K7EQJ8veAXwHC8SyEwqzzA1mdEjuB11AJMok7hVYCDx5uxf+tb7G6NUN5Rz9hDD3AuiP7GOo4gRjoqK3n8NZXeX5giO/vmBr0kmHnrp3EMp+iMAAQ4LZ7P8id/7GVl7ptPQYBlgBrCIcXY2praRkIzIoI87nGs8ObxpjpqmRf1ThzXK1q7EclN2vbs5JcCUp2dc6yHpTs4iipzUcfhX60MtoASkMV6ONRiipptbgqcxw1c6ecY1hVuwxYC+HFUFsHKyqpfqiADQ/AusWGRWGhyjkjH3o6WXF93V4ixIARx8aIEmIyC38UlGt6XG1IyUeAP0FHzuIIWiLmFvSqe/xSDALH0RGz5On9fqbwbpPC1S+snfYkWjLq2875TEXTkjt58cVnWNJUOLFsZPtRvvrn3+ZzP/oiKaKoTHszAZqpKKhmOLWNNE/PeFzzEmEe08AqkjYiz1txyd7WVn6Io7f2MOqrK0fJLYybG4KzryFn+wyuAmU/W8XKSpk5VLWOAyOQ2ANtNdC2iv5TG/hpdzGD7xU2robmsKE5BKUIIrpF3OjWSSf0JuvYA3MoARogm4X0HMi6qwR+DXgfLgnaUVzovKYb4Upg45TlU3E+YjRT1itwXl6sc5b1oDW3pkrpZbkxClIxoBBjDCJC2cblfPaR/873tm7lzf7nUXv0G2TYR19qnNn6jecUEVoF7xIkd1/DyKAkV+D5P4CS3RguEcad/32oBOjEDk54m5OoemyteF4ZwarhNiEv62xnH8+cs++Uvh+Lkv3eHWzvquTwImhsFG7fZFjWZCgpEvxO3p/1KmdQKTEDZHKQySoxmhxk50BEdRi1C86bstwwPQGeDdN9dz7pcCYkKaiT5leA02i3Na8N8JayMI1Fvol1LRmGGwq4obGJN/ut5pBE773ZD+o1RYQh5/1sQbKzjLHMYwIJ3HqYGZS4QuhtmUJlrxR6hROoSmyT5Pyo4mqtdlZptRKltSpZ6TGE+4gEcaXTuHPsVuAwnGjBtN7CSHgRI9U1nHxHActuhxWrYfEiQ22lhtxY2TKNOkiSWUhm1EmSM5CeA7NiAnVqLESNFhZekroQlfetwlqd7bFvAj6P9uR4GlXNS4BPpMfxD3RDbSUgiL0/aoL88j13MXrwNLszKU4xRBo/k4tezwzXFBFaE/xczha49IihaoeV0rK4RDk1M9h6oa10Z+2MKdyOCTFcp0mIieDrSTkh9hhJ3MfmIGTHYLwRxheR+PZN7Hu9gqPXQ+VaYdUmWL7cUBgCCeij4wtAIg3xDMQch0lyDqjGcZRcFqBkE+HKCSSfSobLnde70ZEXoAQD+/djrluFpoXLxPq3vO8uCuMh9pwe47X+YV4biXK09eekkruZTdmFa4oIrTXL+iPzEuClwjiuigxM1IrxoURWjE5L3oxf+53NFrZSoJUSA85nG+Bi8z6scmuJ0Ib3dKM2x6NAOYzvgz11JPcso+vJJXTdXsnr9wvl86GsCirLoKbMkPUJSaNEmPZDag64jZNov4rlaPxfE24Aug9VKi8nMU4lQ9CpcAJHj2H+zxdhJAr33Q7zFkCwEAOEGsq4+Y41LBpMMX8kzryRBDsOzqdtzy72dn5txudwTRFhDB3U21Hh+OC5V8/jLWG6TF0r/YU4MwPYOkWsSmwV1gxuoIvP+T+JS6A2mzjl2YeNc7SB3v1Ah3PceRBdCj+5n7ETSxlbAO0NULgIKlcJvjBkgxpDKIWQuSQlZq8spFHb2yE0zKUMvdIR1G+/Btcg8bYTot8HuRznjEdJx5Hd2+CzB6F5Adx/N/Kxh2EgSublQ0QHDX3hOsbGg2QGcxQPxQmPzU4MuqaIENSsD5OTwPJ4u5BDpbQYKv0VMZnsLBFaggSX/KxEWYySqSVPG2hhCRFU2rRZL/Y4Vu0+BeyA7CE4vAYO14JUEiufR2x+ExQHoEh0FwvQ4opzADk0QLoWdWP50EzwlWiQtbX4vu3wiXsrhIBlJZrD3haDeBaynozy+Agc3AdHjsAL22B0lLFonK7yZfTWXU/bYJDWvhQnoh2cTh+Y1Wlcc0Ro7SFV51sxj0uIJHrzep0oM8UoZ5rxve8W1rliHTc2FMeGTZ8AtgAVYMphaCEMrdb/KQPCUNoMRZWz+WFXNUZRV1MQnVZGUYEhhobKwJlSodezOy3ChRrRHo/PYpg98RsZj7eq2Ad3roSG5RArhqMx2NUNJ3YxKfs5m4K9OwB1plQODNPbFqM7nWY3fRxjgATT5uCdFdccEYJKhaPnXSuPSwurEk8HP67UN9VId66yCdOt5/Voe5FAQym6ULI8iCqGfvf76DyI1s7gWFc3bK5QvfNupw/bvMnCS4LWAizTfDcJkWKoKAQTh45RSE3XAMCeiMCmW6AwAL0n4UDH5BMYycGOE9CYhbplUFoG61fCokboPgkHt+K9N6y1uYYoI+ljwBhdJC6o3+c1SYQ2ZDePywE/KqHZVLypEDQjpQaVRY6jI1aAWq2iXJzWUFatPseDyd6LcJwrH2vQuoNeAgygKrL10YMb1r4F+DFwBxqEbauQT0eGZqgXhkD8fshOLxJOSJVrlsAvPwTDXfBc15kdxjPArgHYPwhFp2DxarjxFrj/Aaitgb/4c3j9+TP2HQBWUshGRnmMC6ucc00S4YUiiKrUtrFNnkxniwCamRpBZfIhziTDUrTf9/XobbwT9UJXoCPQhpKhjU+MMrcygi8+NqC2wE7UdFSCkl8I9SCXedZ9BvhNZ93vAq+gecf1nDk9TSLGrDvOmSnfBaqKMBs3wt0PqNdqy354qXP6ODcb8BkbhIFtcLobOvvgxjXQ1AiBMGRU5nNL9PugsoT1g4OsI8kxZh8xckUQoQ99DOyMZIMz3g5Y36MlwQrcXIoOLk3bymsTVt4YRcnrbGqxk7ssK8C3ELLrcAsyZJ1tY+id0It2qDh4jv3lcT6UoU6ScfRer0Ntg1lUIrQlzEaAH6EkCGpY+Fs0CPsPcYnHEpx9T+OW5jqFjloQDeBeLLBq43LkfQ9hSucjnaPw6hGITtOkZCpyGeg8Bk+chq0vQXkE5ldBMAbJOHQkkAyY+aXIjbUsPJThQ62neDWV5PQsr9FlJ0IB1gvc0wQltVoNvrsXWvuhdxQSWVWeLkTvnwkcs/lEZFvM+d9GwuWDs2cK+zidr+FiN/A4mH7I3oHKJz2oT3MQlV0a0ISwebi2xGPkJcMLQxsqAcZRKTCCEqAtqGbL8J5AmyJNxc+BzzB9IHYULZqwB3gUtcLamIFNwHuCsGJ+Hf7GGuRUF+bl3XDq8Cw91AkYOgkjQSgPw4ICWOzUtewBloQxzT6keiEPFma5bc9xBji3UWQqLjsRlgDvWQS/8qthytY0EqhpIDUWItqVoO9wB72tUf71qSGeibqlQG0NZdCBsNaoFcBGgUGj3rGpJojpILjF6L2dzbw9MvKYCWxYzEwwDjyHOjIa0EfJtuLZjipsv4AWjr8LldV/yPS1SfI4H2wRND96r5ehmo83ZL0AJcGuabY/jsrla5xtM7iVffrQkduJqtEDzjZjaEvQkhTUbdnB+u4xqlN+gsc6wCRmHbNoAMmlYTCNGQTqQJbXwMoyJBHHvHEQSiopDQkfESgx8M+z2P9lJ8IyYN1yWPChW2HlA8AaiqilghAL07thz09h+Hv0PJOl0Q+3LgL8EE9o28i2IejN6cx2VyHcvwT6euHoIHwhPf3AejGC2+HMVtubzUySRwidnjIwq5CFDBrie4LJUqQt6zWMPqor0cd0Pzq9XSrd4NpEAJ1WStGruBAltBrc6pO2fMZxVCafigHgBfQ5WYpbotegVmAn+3uCBC360AIKO1r6md/yMh8DPuB3M1nOF5oznRo+8bkHTCAJK0LI8R6kfxRTPIQUR3igJMKq0ir+ub39nNfGi8tGhIIqPncHYf2mImheg+EGhHUYggijWjepa5BKybIOWNkA994OwRAkE9owrbsTBvogGYO1i+H66yA9Cte3w/MvnZ8IvcU5vX1085gp1qMWpz3oozUbWM/uVKRR6e80WpfkeuBTKOk+St5yO3OEURtfESrFBdDnrhSVs732wX1MH3aWRa201c76Nvjaj3po21B7+lSkUZIETYSsQiNjbsfVwrzBUt5QHe//eJbb5EsfIB1R6Djgrp9MwECCUqC0enb3yEUnwmLn3WaP2v6oPnQWSeO2EdwYgAdvgMZb5kFoAVAPphqRYQwdSPdJONFOeQ42VMFNN8DKW/wQ8TllRAzJPsN4P6RGoboRAosgnIOSXrhtLzw7PHOFzaoKc9csXwr+hyDbibbHPl85o8VQ9W5IjcPoIaa/crYmUIrZEdhp1Pw+DKwG/0LI+pxlu2axn7kNH+ooyQAH0OdvE252iUWAs1tgx9BAo2aUzEpxiczWG7Ipe3Hcomre5y6DEu2PUeK8FTVlTdc/2UuATuG1ibyijHPsMG57sWmFl9jsJuWLSoQF6MWyMf4FuK197GnF0RlqrcANC+G668HfUAlEEKIgx4FOZPQgHDhA5kQ7NQVw341Qv1lgcxOEQhBLQyxJqHuQUH9Sp7JaME0gPmChj1sX52jayYw8SLYm81y2C5Yv+Ri/9l/+X/qPDbLlme/TP3iQRLIPMq24VtQ0atldRmHJBhoX30hXTxvjo82edWx5/jCwDL11o6jyNVOHRxS1Pu0BysG3AuQuJ3TiD3F9m3mcDz7URfUCOnK3oPWcYXLB1HNpQ524vn1wu9CUo/bGJmd5GlW725jcOqkEJdAOVIrsBN6BGj4sqdqXJehR1APdjVu4LYR6vX24GTE2i2zI+R0VAN2zS6m4qERY6bxs5qc1n/c5J2mVoHJgUQXMXwjV9QKhIIYUQguwH0a6Ye9J2LePdM8I5WXgvw5YX4VZMQ8KgkgijRmPI7XFMJaCRAbKUlCRwWSzyGCa1Svj3L0TvsP5pTyb8Tp3pcECHnz4fv7qD+oZHarnwEf/O21dw5zo6GHry/sZGIiSHI9DKkehr44blq2jpqyCXM7wXM7w6um1YBrR27cDnX4WQsXNEC6A8ShEh9DbeiYYQ0mwFmiE7DzwV4H/FyD7H8ATl+IiXHPIotPPy6g1FrTmXwjtX2JJxzZqtbDl+aMCh42qzu2ofG77GeZwiWe+s33Q+VyBkmHOOdYG4CGUcPagd8cb6CjX4dYz96HEmEMtxX3Ou7Uih1A7ps/ZNuJsb9XwYuBm1AU3G1wUIrQnX4/OBuW4P8YWTyrD7YE2AJwehYZ26GwwVO44QqB8C+b0AAM7OgiMC0XpEP7uPkJB8C3ww6pizKJqKChAxEDYIAUlUK5dbyEIvlHEN4jJDkGgj4Y18FAj/LRTL+b5fsPcDs7Isfl6rVdcUgG33hvhViJgGvjNX19HIgGJBGRThuywoSLiQ7IQG4WNLVV874Umjg8O0x2NMtzXxXDHPgJlNdTfuI5sAIZ6eki81gXZl9BbPsL5cwC6Ue9yGeTCkLsBN1ksj5kghxKg19/+PEpyN+JIT7jNVZc6r411QdavWsxP9nVxuD86kb3dglsUzcb7lqDEGUMJpQTVDBejI1yH1rdY7XyXRcnMNo6y5GolUlusrQfliihuffIUrmRY4ZxzOzr9tjvH70GJdza4YCK0zRxtynsxensuQInQdq+1na1yzud+dIaKpmHoqD5cg6M9rGz5OW9sS/Ljl6G5Au5YIywtg9owMK8Es7YJWVgOEgYyIGnwF+HW0yhEL2kh4vdhKseRG8Z44G54xw/gm+cxd9ni8NYgO/fM8RnGu48A73X+d66ACGUV3uwDq8AoqoD5txWx8b4b6R+F7ih0dqd5fXcv+P0snF9O73CKXcdbebE/TuaITfMHfTzbcYuzTocO4HHP95uA96Bq8/Nn2SYPC4Ne4ake3R+hEuHH0dEcRkfhDuBdjX42feBW6hfdyvMH/nViGxsuY8vm2pAcm5SQRAmtABWI7sQtnN/kLGsGFjeWMjYwTn8ySyduvSIbFhd29t+D22nbku8oSsAhVPK0SZnefif7mZk5zIsLIkI/KnoW4Zbc9Lb/LgdCAgnj1gKxXW0Tzkm3oxd1bxuUtcHK55O0x+D1LFSOwalRw7uvg80LoCYEsqAcwg16FJMCyTlHrcGdG4rA+EAyUDAK60ao7Ezynpfh0bZzh/pmcduW2ws+13Bi98uQ/Qz4bSeLyVYjY5wlMjn1XYJC3QKd+VcDEOQ9dzaRSkEgAB1dYa6rv45yfzH75q1lsLefeHSY8YHVEGuH3D5cU/50OA08hU54TWib8f8HPeKzuMXX8piKAjQa8xCT+4D0A/8X9QQ/iBJBHUpU910/n8pN90B4BdWRYqzkPo4+FyO4tcdtgLZVgf24nWvqnf3awvkJwC9Qv7CMdCyFL5mlB7UDdqGEGMe1//Wiz6NVnY3zfb9zLNtFpwe3Gx+oh9tGpc4UFywR2qDMJG55TJucnQXE6HJLLpXOemn0trVlPa3dYpeHebqBJ4eh8gRcXwM1lX4orQBqwIRAxnEtBMXOu19fomXhhWIoLoa6JAurob5NxfpzIYeSu5Vm55qqfF1dGPyOldSgg+ghQ/Hw4sRHIxg5gzKpqHKDIapqYNGCAOvXNNM13ExXb5bevgT7DvbQeqqT/dtfZKQ7jIbg2mM2oXeIfYz60emzH1gGRQuh+CaQQ9D7Jcg9y/RRcHMbEeCPUJX0kSnf7QQ+h6vBlaNVrCsra6GwHjLFFBiXIkZw23LZAmtW8LHeXOsTsB5dW4myA7UJ9hmo3n6aiHObjeLGB9ia47bD9SjKK1XOvg06wrZQ20mUNIeZHLhlq1LOBhdEhIbJ8US2bojV/b3VX2w5n7AT7V2OqqDnS13rBl7qgY+OAEUFKEVFQLz0ajux2jj3cd2zEZAiCJZA8SDVlYZlKOmeS+W1AzBXPcfFyShkWiBwPYhv2nguYwyCh/nOIEGwzGicFQRDablhXbmwDsgZP+lkER0dizl+qJmna4p54vEkJ/s7gTYk8BFql/0SIyNREl0vaToepWiWyUIgqAetKoHKjSBfgO73g/kxGvZzinzJDEUOfd7+J0pQ/8TkoKjtwBeAe3EdD/hKYNQPA0Okxt0A9jFU+qrCfYatZAhuw9Z+9Am1aXzWvudHCbEwq8epQ59zWz27hzMDtsY4e5j+xUx8uCAizKEeoXHcGsGF6GzRhkqKjbhepDCQ9mnXsEDOrQh3PrQA40kgPLU3Rg43F8SWcR9zzijuLA9BygfDhujYzIo7ZTi/U+VaRQlQZbIQOwKlRRgWItPcHiIaBmuM/TwNZNIbxsgkadInhlAYFi8RFjcLt6xexyfuW8g/f2MZz+/YwX3v+DS3vnMNRwbgyZcf4sD2VkzPKOTmQ7ZOidaWCGoAbq8D30dg+GEYHoRTu6D378FsJa82K1mVAX+DZpX8VyZrO99HpavbcIjo4EnwP4eJF9MxOjSxXg4VdGIo0Vmhwd4lMXQKOoZbWM36EUpQLcuGytSgqvMQqgJ3cHkFkAtWjUdQETWIziQRXINnGUo8TahKnAVGsvqjh5i5yhkHTAEQzOI2bC5Ch2vI8zmgdkMSIAmMqDQg0SS0wtEuHeg8zo5qn59qDAwNg+8Yku6F0xn6ulK0DcVpH4jSuHgZzauXUr2gAhGVDuEchOhg6tfGiLPcgA/KmoWNzRXccPcn6Wn5OJXzA4QrYDQOt99UxnN717LzGLR2QscJSB5Cuy+djkNvCuaXQL0fIgVQVQ/+dwEPQs8Pga8Ar3IhvW6vNfiAT6PW2L/1LM+hkmEFjop58BSmpYs3CfLz1JmW9bCzjdX8oujTeRq101lZ3LultRX6UT6ocF45VCq83FrYWwqfyeHa+rzzbgI3Jk/QC9KHziYDzDxbNAMECvzgz0GuF3w5MLZQ1ogTOQ2YLEgcQz+S7UASMRiOwpZejjwJPzt9YcUa5xI6c1meePJlVlRkKG5aQF9PksdfPMSzhzvZPTBCj0lRSISHbn2Yv/vW31K7tAoRwUzKkZpZKv0EMRqnQ63TuSfUICxosLekoaIU3l0n3HUT7D0BL78Jz22HVzIwejAO6X0Qa4EjxXCkEqgFaYSSYij2Q/mHIXs7pF6H5N+gZQHmLiHais5/hGpbT0/5/hW0esytqRxjqTjHiU9ysIDbR9BHTfUAAAAgAElEQVSm2Bnc0PdzdRPOMNlzPeDZx+UmQbiEucYDaCK27U12msmpMjNBBhhLigZLpwYx4SwiNgckxYSlUQSII7TB3oPQkoEe6N0CP9gKW3Jzz/ExWySBf+qK0/5Xz7OixMeeWI6nU5MtbTHiPP7ao0Q+G+bTv/pR7njPXUhYPcxKgWchQa+72YsJ+6KcUf5YpUaDiKGoUFhdBW0ZuD4AtTdDR1OEY4eb6WiPk00dRv2GRvuTRO+AxAoo8kFhAwQeBm6H5LeAv2f2PsVrC41obs5BJjsVxlAi7Md1VkxNMLC9BAtxCTE3zXozwZVUSf6SFl0YQqvM2VI/s0Ua2H0qywNdCegYRSqHoK8fRgLakLYjDc2noKYEenvhQD/dP8nQfxzSadjVAY+m8mrxTDEKfC8LhcO5CUurFyH8FAT8fPOZf+XlV57kH//4d7nvQ/dCTQQpmY8aRdxbaoLbrAiohsXpDz7JI+P8cciz51CaZx89zk+2HEGo5cF7NlG0Sui6vpbX9vn50fPDxBNtqKOkD/gZpG6DVDMaIGIzU1eiDpdTzMWp0VtY9S7gf6HSoVdbakNV1To/VAcgNMWrmcW19dm0PG8oy5WCYmZXC+mSV595qylrIQGiMTiZgy2w7Z8SPN8CWQODMbilIcrSGmjtgQN98FpCCXg+OqD59PzZYzpvXLE/yN/96edpmreYT/32r3FipI/P/dmfs+PRf+X9m+excvMaKKuHqiYoXwBVi5B0DAoKoWQeUICRKTLjJMIDlQyNPqwOYXbuHOGTn/g9njvyGDCE0MT2PR/mnvWf4n0fu5FVG6ooq72Tp38GrZ170Ud5L5pw1YzeCfWoxboaTffvBX7CXCy76yXDX0JDaL7i+d7G0F6/spLlvgJK93VPquBkq1Hb2I0ISoTVzvIrxfBwK1pQdqa47PUIzwdJG2gz0A/Hn4XP7tAikRYlrVDdqoPgtWfsZube6TzOj1+45x5++X/8DgC/9NOP8Plvfpltw2Ns3z7G9p0tvPf7L1FcGKCyMkL9oloaVi8nPR4jUlZByZr1cOM7kMa1uNVobJTNlAhED1me+PleHvnTL/HcETe7wdDB8aEv0vviKTZ9+Jt84qESlq2sZMOSd/LlL3Wwc6AIM1E+oxB9dBOoX/I4Sn7Xo4WhpqvHPHcQAt4P/AzXWLAAlQTDN99IpnOM2L7JueF+VG3WHC5Vj/2oLlDF+cvevR1YDDzMNUaEfcPAT6E3Bv9+HN6c8v0o02eB5Mt3XjwU+oUPfeIjE/9XFLkJd1ng8Qy80W4oIU0laZq3R1lefpxECurCsKLuadbf9TOq730n1C2EcBjKKpD5KyBYjHr9Dfh8iE+zTlt+8iQf/9RneKO3bdpzimYe42v/9n3mLftVbl8Nm24Is6tpKZ0DJ+jChxvlBm6Y7yE0zmETcBNzlQi9UuEDwG8Df4Car8I4vquG+dQWQ8XPXp+UrpbDreBuY/xsz0LbXfpyGh3KgHeh9c0/M4vtrngi7IzDnjfg5Sz8gLmYA3z5UVlaTPOKpRP/11fUTWQNgD4U3ofltRwUDepYlYxBZX+SO4+9xJ1PvEF1SRHlhWHKKstpvHktodIqfOFScv4A1FQhjdX0jw7y2T/8y7OSoMX2N5/kR49+kKVlZQz35TDxFJWU0UuWLAHc7NdCVOHPord8HA3eqOHcvs5rG5YMfxE1FGzFKZ6QBQZGiJQ3UTrNNqO4RoUAk3v+lOGm4M0U3mrVbxXNaOHXy1J95lKiC9iR1UzTuTl/X34Mjyc43dHN9QCJHO3dPed0fjnBTYCGVnQAB1Lw7+1xyolTAVTTzs3P7acuKFQFgphQgLJ5NQyEfGztH+TZE1MDN85EOv5znn/6b/n4Xf+L+GAany9JmgzZifyGbtwKduKcTTVuKZAVzvczL+l+rcBLPtWoVFiOEsgIQMspZFH4DIIwuAWWwc0cK0Clxdm2wY3gSpE2398ry88Wi9Ca6bPFFU+EPWgA6B6uHEPsXMNYKs2219/kXR/+KB0nu9i2e/YuKJuV4M0Gfj4LkayhiBS+sRRVA60TRTunSgg1RY08cMc7efrlxxges3sZ49ipr7L3zQ8xv6SawgpD0hd1ijjsws1AtWVEM2jwSAZ9/Gw7sGscZ6k47FWR73HeW9Axypw8zWAqM238rTcP3zpDp5bZnylsxRl7eiEmV86eLZpRMpwtrngi7EN9fHnHx+XFE89u4T/9Rgff/db3eHHP1ouyT1tfzsp+Z5PL1i3ZyOf/9Avc//Bmfve3qvnSv/zlxHcZ2vnhU3/DktIlHD6yl57cDjRgyts31+Y/gGacj6JqcYRr3posaH5bDjXoTcNUtjrUbajgkQSGBkf4Ue8QB86y26nRIBeq2k7l58Rb2BeoRFsATLLdzATGmBm/cHutvC0vAbMCzH1gSt/mY5/ltWM21+tqec3kt1dU1JmPffS3TFGk4m295gGC5rGvP2Ustj+/15SHayat4ydiCig3EJjl/gMGfNf0uNYIpq8GY+oxpgBjOPOV83x+Csw3wBwKYH5TLvvzNqvXQjDb7G+pmt3zekVLhMWoJNjF3KwPeCVhaKiH7/7HV86/4kVG87wl3PngZneBMQQCk1v+ZImTnSQBzhRXSl7DJYTVf8/xU70BTI04NQMyXNAVvZzYjGsfNLOJpuatqeOXHBHUMNuFjmUecw8FwRA+n2sYKS8ro6ai7jKe0VUGg0oRtlT0OVYDbfXZiKqoV1PdnqXAR3EzXGSWsfJXtEQ4gA7QlZCUncflQXR0hPhYjLI6bRQ72D3E6HheP5gxDLNKoKlEc3GO49Z7upIxD40b/BjaGgD0J5+/9MdkXNESYZY8Cc519A/1sXfboYkb4fDeo/QNzbQTXh4zhSUOH6oS/xiN1LiSUQp8EvhjtLCsrVB6IbiiiTCPPOLZcb797e8wcDxK+6E+/v4bf09ytgagPGaFKLCFc/f4uRKwAlWJC6csn600CFe4apxHHgCPbvkuTV9oJCPC64dfvNync3XBFv2bhV+ojsk9jq9E+NHcIIPGPVbx1qS6PBHmccVjPB3lz776CBc3GWuOQFAd0qaD5FAWCXJGCKW1rTUC69Cm8FcqbM36I+jPC6GB1N4g8dkgrxrncRUhT4KzhuA2eyxG9cgS51Vw5qqgPPkJNPXuSkYUDcJvQdNvrQvtQlTjPBHmkce1DEuERc6rBK2MUIxKhVNgp5r1aDjKlQo/KgUa3FYgb6V8xhWpGucVoDzyuDgQ0e6cEw2Gc2DCTqHwGGf0r7XPXgitYJ0B/o0rz3FSjSZJOkXcJqrgX4haDFeoRJgnwTzyuDgwAmmnln7aaTYsZbhS4TSikCWSeuDv0C4vG7hyyvGH0HrjVah9sBx1nBRxYSQIV6hEmEceeVwcDKbhrj0QNJA2cF0YFhQ6TuRxyGWU5OpxCylkgSVoAQM/mrp2GFU9T73tv2Ay/GgV7XlALSoZVqNEGHkL+80TYR55XMPIGjjiSRo+koSpPTr/YZrtQqg50VY0SHBllMGrREnPjzrBR3D7Io+h6rJtMzob5IkwjzzyOAO2X/mVhn4uTU3x2RJhP9oebK5i4eU+gUuE/Lhem7jmxnWWkt6Mx1WcumV55JFHHnMWV6TXOI888sjj7USeCPPII485jzwR5pFHHnMebysRisgjIvIHl2jfDSLy4ynLFojImD2miBSIyEsikveWzwIi8rCIrLrEx1gkIvvP8t3X7PFF5JSIzCoNVkR+ICKLnc9/KiKnRWRsyjqfEZFfvdDzvxqRH1cXV6VEeBYi+33gn6Ys+wLwjP3HGJNCS61dyWmUVyIeBi7pA3MuGGM+bYw5eCHbishqwG+MOeEsehLYOM2q/wL81ws8xasV+XF1cMmJUET+WESOisjLaC1Fu3yJiDwrIm+KyFYRWeksrxGRR0XkDee12Vn+iIh8S0ReAb41zaE+CDzr2f/DaF/HqR0JHwN+8eL+yqsLIvKYc90PiMh/9iwf83z+kIh8XUQ2Ae8DPi8iu51xWycir4nIXhH5kYhUONu8ICJ/LSI7ROSQiGwQkR+KyDER+d+eff++iOx3Xr/rObWAiHzb2fYHIlLo2e/N0/yOXxKR7c55fVVEpuv6+ovA4/YfY8xrxpiuqSsZY2LAKRGZ7mG6KpAf17cwrpe4neBNwD60+E8p2grhD5zvtgDLnM+3AM85n78D3O58XgAccj4/ArwJRKY5TjPwpuf/YmCb8/6IPabznR/ou9ytFi9zm8dK5z0C7AeqnP/HPOt8CPi68/nrwIc83+0F7nI+/wnwRefzC8BfOJ9/B+3V3oAmKrSj6aH2nihyxucAcCNaTs4Am53t/8Vzr7wA3Ox8PoVmVV2HSgFBZ/lXgE9N81tfBNZMs3xsmmV/DPy3yz0++XF9+8f1UtvK7gB+ZJSVEZEnnPdiYBPwfZGJNOmQ834/sMqzvNRZH+AJY8x0XQYbmBxw/gjw18aYMc9+ADDGZEUkJSIlxpi52gXosyLyAefzfGAZ2ivrvBCRMqDcGGNLRX8D+L5nlSec933AAePM0iJywjnW7eg9Me4s/yF6nzwBnDbGvOJs/2/AZ4G/Osup3Ic+fG84Yxxh+n5DU++Nc6EXWDnDda9E5Md1epx3XC+X08AHDBtj1p3lu1uNMZPq5zoX5WzVgOJA2PP/LcCHROQv0eIUORFJGGP+zvk+xBn1eecGRORudLK5zRgTE5EXcK+dN7o+zIXBZmblmJylleP899vU6P5zRfsL8A1jzP88zz6n3hvnQpirr50vkB/X8+C843qpbYQvAQ+LSERESoD3AhhjosBJEfkwgChucLb5KR7jpohMR5ZTcRQVwXH2f4cxZpExZhHwReD/WBIUkSqg3xiTfqs/7ipFGTDkPCwrgVs93/WIyHUi4gM+4Fk+itPGwhgzAgyJyB3Od59E1ZSZYit6TxSKSJFznK3OdwtE5Dbn8yc4d7X4LehkVwsgIpUiMl1K1SG0x89MsBxVKa9G5Mf17DjvuF5SIjTG7AT+A+0M+AzwhufrXwR+TUT2oPaE9zvLPwvc7BhsDwL/ZQbHGQdaRGQmF+Ye4KmZ/4prDs+ixutDwJ8Dr3m++yO0k+OrgNfw/F3gD0Vkl4gsAX4ZNbLvRdtb/MlMD+7cE18HtgOvA18zxuxyvj4C/LZzbhVoKbyz7ecgWjv0p855/AxVl6biKeBu+4+I/KWItAOFItIuIo941t3s7OdqRH5c38K4zirXWEJiKEaFVx/qdgijFRud8rDBIigMOZVuc5DNgM9AZQjKKcA/aYM456pxYTzvKbTsThqtl2ZPIeB5+RF8lCBUkyNIEmHcJBmLxRiPRUkm4hif59xtWds0Wq03A1SBrwbKAqpTD7RB1LVE9BtjamZ8wa4SiMhcTzjvBx4Eft8Y88nLfTIXCxIOGylW87oPvd0n+pJEIhAKkcWt7DwJBvyi1fyDOD2DjUGCQUxx8URJLkF14yxuyS67fDYwU97t55ncmPZYprcXc/q096sZj+vsbIQCrEX7/dmmAUtQ324AKISqm2FFE7S3QOfrkHgD/APw0G8E+K3ND7KGjZTRCOzA8BM0wsV74cQpt62XIAv0oK6pk8AxdEqrQotJ1uHWJ8thCBMlRBnHWci+ZD0vvnKanU8dJfF8HE6g5uNN4L8Xmm4ux+8rJTYep6+lj9woFN0Fa2t035XAK5+B6JcnTu6aquSRxwRaUY/l5y73iVxMBK6/nqIdO4igIRuluD2bDKoXR4E23MZHXtSij0sz+ojbbVqNoQNAhCAqzoyiwkoGfZana7buJWKc73Oez5as7XsKNeRnmEzWuSn7tgJR8ktfIvm73qidmY/r7Igw6ey6EGWeBOq3iQALQJqgsEJ/QEcbJJ4DfgyZHng9FOGORauJNN3ACioopgWhwPkZ9nIUoLQmGLonXZQkWnhxAC3EOO68htABjqC8XAr4Oc0R2nmlr4RtP4+S+R7KpDg7KIBcAEZknEhRlmCVoXaxHqfep/s66Kw6OtdlpTkCY8zVqhKfFZZoYujzM4re24Xoc2XbmExnH5McIJAQ7RsMKhnmgLTIhFIVdPYTxO0XYlspn7FPJrfbtJKk3VcAfYYtK8TRZz7mvJxTAtxq2t7fOu01mOG4zt5r3IVGCTWgumOh82qAmqVaBrwUCEYgEUWFU6C3s4E2uY0lNDNOimLCQAWGBYwzSjsJxvCxhmJClGDIYhhCyFCOXqAsepECaNDRHvQClqKC6irnlAJAFMOpoSiZV3FJEOfcG8FEYWRnmpHqNLIA1jaqUWQQNWgcjaL1ydtmfYWufkRQU3s3egda20Q/s2oUnsflRw7XrGQltULUomWtQ96GR1bwCIh+TqHPRBxX2LDGLEt4lsj8uGQ1XZVor6prSdqq1F4C9b58zvdZXHHJbuf9jVOXzRazJ8IEcBom2KlAX/4SKC5xxe9gBPcXAONyM8cKN9NMhJAZJybLWUAL41TTzhg76aCXISrxs5gQwjwMBUAHEVQVtv1mQqhI34I+lxGjFzEqOlhhYBfQO8ZkE2QIZbtV6J0xDhSCSatg24Vqz6fGUX/ZFjQEfI5h6XtKufXLtbSeHCIWT5PN5UimMrTuTBBrQUWLAWA3KpLnzrk7RQCXRO3UnwVKwV8cwJf2k+5IzmxfecwIUzu6Gdzy9uO4ZJNmMhmFDUREhylmYFQmhopSXBu9NbF7CSqNS17TnY8X2SnrWxXXSotWJc7iEqF4/rewy96K8nZhcYQjuIY6Zw/ZAJxMQPp6mF8IqQzaQKAIGF+IWf2feaG8mg6gSYq4j/t4t8lRIscp5xRh0sSJ00qaJqKEACGCoRRhjAXkSKAzUw86q0XQngwC7BLYbiCXhUBOpdHUGGpEDKBGv43gfz8Ub4CRDlTaKwRy0BmD3gLIdAA70eSdF52DzTHcPX8Vf13zAU7W9JEgTYYsKVLsePA4J1LdxDNpomNpDrzZR6w1SyAeQKIBul4cIdNjyI1AbhRyKShpgHlr/dSsKKZ3MEHGBzXNJZRUl5AcF8qry6kuqSA4VsCxV9vpO97HQN84g71x4h158fOtwkpZXokKXJI5Y32j0mABrp1uHFUM0s6+IriqryWq6Rwb09kIvd/Z13TnZi1v1u7o3d7HmfuaajecLS6MCA0qQvU6Z5QGxsD0qbA4thwS40BVGKqbIfY+aLiNAWDAmXsGqGEha1llRimRTooIUkCQfpKcIsESAs7soG5eHzmK0EGIoBbQGCoZDgkM5VARMYGKhIPAMOrxuA7YBL53QtVtEK6EkSB6RZPO7+iDTBJVh/cAO7j8LbsuE4ozhRRTxxoqcG8Rwya5jvFQjGwoR7oox+l395MgR5AIQohDXe3Eh8fIjA6SHBykvzdK06IyFi5qpKi0koFUgkC4gIrCSoKBCMOZcQp8QUK+MLm0n757lzI2FGc0luPg0U5+8pNdtL7ZCwfN9Hd5ECj0w8hbUYquXcyWIAyQE0gZV0oLidvG0/aIVyFFH50Uk8nKSygz8Rxbac6qt5YEfSitePft3ca774uhRFx4Zon1XlShZz0OdAC7YWgI6A+B7yYoXg/mNnisQNerFiiGV++GraURSswQizlKKb00kCFLnJPECACNGFKkGEM1sB7n3Q8sBuoNHBQn/+YIGilUjbq5hlGWrAQ2gLwXlt0HBWH9ylcCuRVoWOYRdCc9KPm1MKf9w5mcV1GxLx9BwpRjwKi1qF6SeP17GxvmkWtIYIiSZYg0GUIUEnQMG4YChGLUwOEnGxgkRxwwpIM5Yg05aAgRpJq+m1OsvXcbj776Ai99dSfZn3rIrkTwLS+jbNE8yiuqaH38dXJ9czJR6Jyw0tZ0oTFuzAmTWMXaFMlCgV9lCpvfWoY+Tn5nHUuE3mNcSF/hqd5j63n2hvZcap/lhROhQa+EoFOGtaoeRJ0TqRD0VsJYNRCGl0bhtRLHCAGpr8TZ+vEulkgX9XRTSpz5wDgpUiTpRS9Ct7O7IRzpD5UEi9GByQGJBKrm+qBgDcxv1o0TCYjdAcksVC6CkrDaAEfGIBdHVfxDaMx5BpUme1EynFTVbG5hw4ZluKnfOj8bhxgFP1AAUgCmAiSLjlIUIeTEiUKAACE72FSDqUIk6Pyvfn4/dfhJAxmCJk7hRGppA2WUUl5fTuHDhcRyhtcHdsKxHAjIhhKue2Az61esob6iih+Mxzj53Tcu/dNyFcLG+026NMJZmcsYyAj4/BM+UKqAEgNBcVXWqIExccNwAWyIrnVczIYU7SlZEvTaAmcs8c0iJnoqLowIfahHxMZGB53laZS1BoGWKPQ+A4ltwONgboLkrcB6SJTBd7bz5gd2sTp8jHVkqSFIFX7GCTCOXohhVFPdhebQdaGDU44OTEbgaBbSnUAVFCyFdy6B91JAKWlyGHrrVVA96exncAD4CUqCo6g02ImmZDc6/0/p+zrXUFdXjRKhzseGFBiDICApkCFgBCQE9JFte4PkkW4Kq+eBBPXeqC7HlC0CqsAEEcrRG6YQFduLsLe4IYNWikoDBRgqEROgivnc5ltP+70Zeo8bTr6wD06mMCejnNqynUxnL2WhYvr2teRJ8Cy4ULXRJ3oHlBmoF40pTKHCSBYVQsYde6JVv6ceywqb3qGZauebGhs49ZXzvM6Gif2/7UQYZLJ/3PrhU6gk1YITdpJBYy76UQ/Ed9BA701w4ASJ/lba5/WRI00ZScpIECc2odWOOrvrR4nsFOohLkNnpzTQ5wQZyRJYVq4O4TKTJYdhRHTbdrRkRmsSTf55EZ3WcijbZlHpNuYccK5mITvIZt38HYMBk0GIgvSSpI2x+CniXT2USYDkwV6OfHOAgT2wuOYklQVQ2AjFN0YIvHMxZukqpCAC1IIpBCnCDXJS6MNRysSjY9RvKBJASJHqiFKSDVPgKyY1NAh9MH6ijyMv9rmhPXlMi0lSmfG8eVRjETcOMCsQMGobzKLP4BBKeGM56GyDolJortQRTKByg7UVWnXWGx9oVXQbvuMNuLYea6/TxNoKpzn1aTEh3K5bd8Hz4YURYRK1p42iE3wl7mS/DJ3wt6F66CSMo4RYDOkkJHWzChOnVHoQzMRuUuiM1IiSm/VadYsqYuRQF3IamA/zyrT4WdrAq2TZLypFDmRhfBRlwwNoGvhBdDQiqPRS5eznJMqcczyEw5jJCo+QxkgnB7NP8+pPD3H6qSzDb0J9DmKt0NWjN/2GI2q7rfBB49Y4DccOIA+OYe4rQ0rrQErAFMC0dTYFY/TptJXTEhznlYNP8ugfP8Gh54bdmEZwTTN5nBNW8sqh1/WMUBNxiUicCAwmrj8Me7ZJJGGgBzJhN8DZBmVb8ssw2SPtDYfxvk/VzI1nf5OkS2duFM9nLyY5g2pqwOeD3Owf4LdWhiuGimlNaKhMJVoDpgJ9It5EJcMOdFoBNACtD1LlMBomR4qgjEyk1NnfagM/G52t7IW1FqmJKcQJHIygdosj4qTkpSF3EnV6nHbe21ASPO2cb6lzzhUoAfZw9kJfcwQlJWFWrqzFEqGQAOmnI/c6T3xnP09/DjpaVWK3nj0fmoJVikoW8Rz4WqHimxA+2ookdsJ750FxBVCvEt+U+IeJB0MywBsMjB/gtV0v8oO/+jGHnhx+m379NYY0ZHtR81UIm5A/OZUkp/+nYWJMLKGBO8ZxIFAA4dVAoco4gwbaBOJGBRpxtLSpROhD6w1Y0hVUi82iXuosrjRpXWITVCaeN889Y8l0kgSYvfDogbdej7AXNeT5gSaIrIclq2FkkxYsiO1Hw1GO4jhSaoF5EC+H9ihD63YRJc4A+hBZEVvQByuEqsIlOHnFRmXKHj+MlbridJuBDnF4bAitvfEKSsID6JM7jBJ3FJVa6/RUKHHWGUJH0Jv1N8dQWBikoiKMq2+OAh10tRxjxxdgf6sumXrL1aGXLoZeygqcf04AR5PQOQrLR0FGUFdXuaMCT7whdDLW/22++qV/4Jktpzl1Is3JORjHedEQRWtAlzgvm1Jikx3i6EAGcTMRgmgKagiifkgKJHwqfFf6obZYSWPEQFzg/2fvvePsPKt73+/avU+vkmZULVm2XOXejRvNx/QWuCS5BAhwcyAngcOF3Jyb8kk+wDn3kHASigMEDr0aHBtjG9u4W5ZsS7LKSBq1GU0vu/fn/rHeZ953RiNbI9sCS/P7fLa0Z+937/22Zz3rWeu3fqvuGLS0zK4JtsNHcAyhzDZaAZmdDJll0KyTY9+sOveIU7zB3O0tXoKW1ks3hHXUuHQAIehZDjdFoN4NR7ph89lw4DIo14EtCfjoWsj0Qi4GW/xMvqFODh1c1sL7YIYzaNnrYdTWph2eUzuOb2n0/6IlNo2jWZWDqOGzy+ccGsywLAtb3WCnvLyzExlOWyMIUKvVqdUKzGTATAnEEBqqU+jXUzof7LKmhJ7yTpwJvAxmAmRPDiJ7oGMaQlGQlSA9zifHEfph+x088YWf8KOvZ2ZpSC3iBDEJ/Bi3wNhKycRwC3l9uIbQGpoWYBmYTih2wEQjNEehya9Z5KBxDUcQOCIwWFMC/cwNUNLvNjGoWyNr189BqFiW9zSzS1tsWtomCCxHR9DVWxvuuMX5nB819PkTP1Uvj0J1DiVY57U0ZynqxZ0FnJuAobNgggDPrlnP1m+vh1/3qk98T5HJj0QpN2uAVmT2cUWdr6+jjmcOPf5GcWKLAKLnslZEqTBp9EuSKJ+wA91gN3py47g3Qw03WTKJnvjTfGkcCvkJ+ItA0Jl1qwgpOkyMpTU9bXPvtxB6j1rCrb1+foAKyJEJ2HoAxsehxQfxAizrhM4eKBaQQ3vh8S1s//Iu7t2in+vBpUdNoJELG7Wcm4lcxDGQBv4DV9HA8lIsI9oONstqsgHFDrTN2nrgbKiugHhEI2DrgGbR4TICjIoKEB6eQMNPI+g4s2UotojqhKgAACAASURBVINJAjWQ1quJoAZvGDV0NuHqQ2+waWf/C57PNTr7ZgulwdXHTqCrjxO8MV4eQyju/1FRA7UETb0nRAdKliX8IrKKrdd0wa+TQAWejzN1IMb+Zr0WNjYY9jysR1jCLRz3FozbbBdjaLYa9OS3o7PHKBoT3IeecMsQ9aFX8wAuWXExFMWGc9poanZKbkwQkRywl+0/HWJ3dn6983agF/UC21Ej2IMuf/ADh4aBJzD7gkiwAiYPXQnoaYFcDfpH4fFpals0YnERGmruROeofWgeawS9hCGYKbdcTBi/AHy4tXLgLrnsOLByMlZ837r1PnSMNAHL1CFZFdDrcqmBXmdJPALsFGWfbRlB+bg7UUMYwo1HOsttis7fYee1AjrLeQ2h4JaMWepICbfY2XqENh1tpW/iqA04KYbQZjDschN02r4AuASil8GSpJsWr4lu3gQ0ME0Pg/hXtVMjCCRhIkJma5S7z4cdTvw8ZdQzXyc6GGqokzaOD58jHmSLWizNpgyuK20HXy+aadmNGjz7RRF0ZjHoEnobiwbQg0AQ7LpGZdImGRvYwp135nmc+etHl6CnugWdsJejRgxwmPB12D8BKQ2SiwGaitA05q4mjmh+7VbnI/vQS7ofvZfsGC3gjicrAXUaRzJeGEH0gswnzWI9Qi9Jr4Ke3BCuGz4K1TSUu5WyVhK1dSLqO2zGUWraj1uVlcb1ML3pYa98lA1J5XBZ1OCyAfKeh933Aq5aBMyuyYvwklZzCzOEKeB69GQNofG4iyF5K7SfDb290BsQgqzDkKbIAAXUVvrNFKvkGbouzXH4zCnYcQawHL7axl03QqJLj6dVYLmBMQM50dlIg6kBGmmhk1EKVGcmlQzqRY93oCKx1i23itN13FhDHrWaCfRi2bjgImZg6qBn1gdiKHCY3z50gPsPHJutYuPvdonchZsZLJX0/kzmITTk/IYPaABpAIpgpkCKelna0EvWhWsA7cRqx6lFEL0lI842QXQf0ywyawA1IFnPcwuvEfRygW262J7saWA/lKJwdx329EJnVClpRQPjORgbgeoeNBFqWRdzBQStIXYy1LP0v2pz/rdj1u6Hl49TxI3LeBIpM0vJl6DRsSBDmOiCS/5bjFAtTr0Upl4KsbwHzllSo9NXJU6dNnMundxMXfrJ8Qtq9DOIOl27mabavAl6x2FHDDgTHi4y/TcwfSvQCwdXQV9Iz2fCOLw0gThCiAYa8dHOKEWqlKizx+j7jzbD+CWov74PHQ07UCa1LU3JohdhGjdQu1ivPwuRsI2Y6/J4oHKQX/yyyrZjrEGtY20167zKINNoVGIQ9RjX4NAs6mBsraSHq2GczxxwvtPKIaZQx8aWcFkH3oahOtDJNuZ8vt/57GmPKh7amgOblPBmWO0qCmazmjNo0rEG+TQ8dxCea3NeLzrfPe48JtAxZ42XjWVZI2jTyV7xQmsk7X55iYReYqLV68Lzv4X9vN3uBLEgQ9gZaeQz699NjCUkWEqCZTSRJcEAwhC6xtkAchWwhVGeZZB+hlG+0Rac6rUuy2lxfONvoX72VcA1kDkHHo9A3OElbTCQEj8xkgRpIkwDFbLUyIJMkDeQF9geguEOMENoqdxBlMu4CaXRWFT1Z1+djRtfWVx5ZTeWHVhnlPsf7+fOu1/4HrPMowqzqy1taeMgespTqEG021i3zRpOe1lsIH4ENYQR1NilUGPXjzu+bczQiobWOE37tM4HGw/0en9er8zCelRerXzLZRvEjdkNohdgHJ2NbNDeenE21mdVnYq4TYa8nJoAzoyIe2NZj9Ru7zWIc0tNvIbbHudLVGZdkCFM0splvIMQ7Qjd6K1ZBPM8yMPATpBngTI5tjLFTqbRm3YCZ3kfAFb6IV6FnMNnyaLNSFaghmscptfBL7thKqzlPn7jc8qzEhSIUiBNAR8VpklJjbVGl9WPB+FAABVUvQeNAaadAxA0qGrjE4s4CuGwXU8FyDHO409nGZl44c9Mo9fXS//qw+XT59A7ZRoNzzYwOyRkV0nWAFoFtSncsWUJ23YsbsZdfdlxk0Gn4sVohwdzjRC4Hp8nyQm4BtAKD9VxQ0h59OKEcJWnQC+G9exs4iKK61lmmR0DtEkOa5Dt73vZ0WbO3745n7OxEi9erCD5RbAgQ+gjSZgLUWuiMERAgggD1NhEgQp5nmSSAcYZJo1ODDUcyksQst1A9AjkHmGmu+AkbhZ3BBiC8pnw3AVwdgiaWULUrCEozVSpUmKKNEcoEyPCAB2SJolht4EDadTD3IlrBHVnHYo8ixH2Y6BUK2Cj3WXKjB6HVamiVzHj/G9QJ/wR1JgF0eRJGh0XKsKl8BaY2HFj4/RjqJfXjIZIVqFL7QAa/cg7n6+gTopdVi9eWg8srcJ6Vta4eKtMxPOoG2UvB3F0N4xS3QrO+yHcpieWJ1VEL5pNhtiEZAAd0w6ncEagxVvdYpcHtjjZfq81bLYo2T7sMcwXD3wJnKoF0mcqwH4MDUDEkWR6AuE7lLiTLUwwDNQ5OCsG24Te/EuAUhDuiFeZMM+gPkPZ3dAmOSro1C+QTkHf2m46/dfTyC000E2AAIYJShygwgF89ONnF3X2YErjGrQdYn7XwBGRXRwt88MXtsoZQp4KU8e5zpzCpWvuQw3hU7i5qS5gGTpuwrj9v6zYl6VFldF5cAA1qvZzNsaYQMfVM+glDqP3v23stXhZPbDGx/IF5yYX5i6RjXETJVVnGxEn6+VkLr36d7bcK+z8HXTeD4L4wPSjtf17UFfdfudcT8/ul3Xt55Oi8RZI15lt1LHHceJu4YIMYZU8ZR4lRBhDHsM4wr3Ab9lDjQfRicGer0aUUmEfGtAWxiI1fjnLt/VDog5tRq1lDEj5CDQ30ck6wtWbqflvoMw51Ig7sdYaPjIIo8ABxDxNQJ4hWv4VUprEWBLmfFgkn80Lnw82XpSkRhU/Ql9llL1bj++zfnTeeQ715LaiRrGOLmlte1RbvWiVjq0gFzilWqgBPOx8j9XDs9WQMdQBWYd6h5YON81iyPcozOdJzXh+uEW+NuZWBSoCUwYOFSAagHpI6+MiRvkzHWicwlFECa+F9S2wMQir0TFvaxYeqsP3XgPjD6DE7v24lSLgxiPrHC1H7U3ezN1/PK/h2V7a0DtqbMGnakGGsMgoE3yRTqoIOSzrsYKZyRp6yep22VIAWgnRwTouZYrngge5D++NuxyWbKTj0m46LkwRb4vRHlnK0uAKuoO9dNBGE0GSuBNZFD9NphEjjRRZBbKWMOfQVCsRDf2U/LE6yCzimBARYiFxJmmhKEIt+KIfA9QgpVFvcC9qzOx9Oo06+P24Rs8WG1RxM77DaDRjDxpbjKLL4XNQWmjYB811t6f1KtQTzODG7hfhgXcJ6fWovP/bBEMAXQIDZKswdBhSFQivhoawOihnAhuh6wKIBKElCpfG4BbgGlwla4u3++DmNfBfl8D2GNoMrQ919+dmk8H1VO3+WENps83eBilzUQWkG506X2FDWCbDJNvoYHZsx3IiE7j6wwncUILGB6PASjrpYwng91rzyEZSqz/Btedv5My1PlpwZxZv/4JRo33tIqI6eVWBIsJk3UeRZeQrCXKD+wkV+8iHt71kbtHphnrd4K9rO3AfSRKBJKH24/uspZZuR5eoXlRRIxjA1bjrwk2gWIXCftwuCZO4K60OtKwLcWOGvc7v7XG2X0yQHANWRf4oZYM5sBUlAgTK4DsCwTR0pmDjUtreJqw/By5Lwn/CVd1rQ4VQgKMksjDwRoFgDP7kZjhktQAO4Bpga9hsgsbSaqwhtBxCu//Hkq02OCTYk7A0jjgPb5DaeqhL0XBEBbf0L0WQClVKGAJMA79mlCL9k1Camb6jsPwWVl18Mef1aDwoiM70gzUoFaBeMmSmYHpSiEagqdkQjgsSgtGC4dA4ZArCdDrFyOFL8E/nIP4daNhy9KhcxDHR0BCiIaV1QNBCgkbCrcf32THmN4Le973VXGXUoAVx75cDqGGzSWpbZlpEV2tSc5ONPc532pYOizgGFmoXgkDEp8vilMCSOm0XGj50mfA+ny5/Z3lws4zg3LWrPu8C2uJwyNbM2uWwd3Mvr9HryVrBQ9ul/hVa5S3IEEYJ0EKVKVyKQyPQg7AM7URcwpBHlzVxApSoMYVxyLY5ngO2j0JlJk4XgegSqgEolmEypAKQB8dh5x7ITYGpCNkpSE9BMgldnUJDqyHaoOz2QyMwMQ1TU4Zyph1//XLEn8c0lWF8+8t3tk5x9PYm6Omx0gntTFMl9yLUGYssL97mZRpXqzeKyzu0DsEuZmv5Wi/TsjZs4y6DRoJ60IKGecdGAELtUB48vv1fBJox9gnEo7r+7alCb5xAq4+wGMqqTknE4/mNCezBaD8hI4xNaivf5iYIBg0FhCersKMPvZg1XPUY6w3aGwBm63gZz992dWc/47W3LwMWZAiFJlJOEdM4euNrGx5DyNmjAuoVaDVbYSYMYCeB+4uw+TCehEUV9vax7d7LqcXjRMIwNQhjeyuk905BoQbBANT9IH6kJcb+JQGauoTGNkiXYXgciuPAcBbKQiW2AipXqc8eyUFx/8wx+Buha1UnkYY4FSoUx9JkDmXIT9VO+5iiMXVMvYT4fUALrSylZUWIoZcpu1RDk4ch3BJY2xklh0pIetlOljzwNOotWjWnFGqqh3BLW71IJeBtn0rQeWOM2/95hKHvsug2HhecDHFQIBmdUdqdTBseGAHp0Oy9bQ5ZAB4xhq3jMLRDmN4MuSePQNLPho+0s26DoZiFgSNQG0c/bNl3e3GXCU4/sJk6ZCvYMFfX35KSM7ht9F6mWsoF0mc0rO3nOcrOfqVQefw6Wt2xH1cEegS9eZuNGsKiwKNTMHjA+51FSD+HufdBnp9Yq8KFh8dgbBTSY2ACEElBIAzBIKa5jWxHJ9meJo4sDVETg8mVYWwahgchk9VMVyYPkw1Q6QX2a4e73hiXXHM1t9z4Phrb2ymSJzMyxNie/Ty3dxc7+/spjU/gS+dgKo8/V6BkDJnTxEJWazUKTBFnDJjGj59IypYYvHwYQnnuS9DEh+XozicntxWdcBtx2QhL0BjhdtSL9K7+3vVmeNvHmrnx2vdQIEXqv93J3255hsy2+fdlOadt++r5oYF3lyF/GIp7hHv74IFzIbLKEb2oQS1jqO0W5Uo9NA777ofcDyB5Bub6v2HlBh+7j0DoEJzfDGPtsHeZ0fhXRfTCWu6hpZnYh82mhXAVmsfRmXFozv8vA11ggYawBGQ4jN7I24HDRo9nUvTv5yvQV4DxOmSD0BqDswWWGj2ukWmUGzGDCrAJhvNwVwRmuhgHUQZiB2StzGcZRpOwrw12dVFd3gnJCgQmITMOQ+MwOArFCsqfyTjf0wJL2lh93cW86R0f5B3XXk5DyFHDrkIhX+bAdJatE2NMD49jDo1R23sI/94htu17lu9vuuNEz++rCo3tPjL+NEEmCXGQUYYpvAL6jDU0MZJBl7cduHSauZhwHjZpFkDvik40M+0tpX3tbfD3XzmP5S1vAm4lQZ0/W5Hksfce4mefnD96eXYA9i96iy5sqVwaddOn0BO/E6qbIbsBNVRWirwP2FyBwQeAbwL/AZmLYf8nCOVbGH4W+ncbmpYItRQsOwfSK2DaD5yBXvhW8HdDQxvE45CKQyIO0SCIH5ZGYGkIMlXIF2EoCzuOwKHHofottCHbS8QCDeEUk+TYDDxlVIE/KXpT7zTw9DaY3oa6g2GgE9JXQ6VLyerdQGaaeSLq29EwufV366jZXIub9gowI39bqcNwAaaGIZoG/wiUx6EwClVL3LAVEmNADoq9+JIrWXbGOrodue+4PQOpEMtTzZy3rFkpQGUwY4bQlPDzO79/2hjC9ecliRFFTJSK5Lhv+Hn6fv7KKNUadJkMbgYy9gLb22ShpWN5Q39B4F1/BH/5uXNY3vwJ4FyMaUYoEZbz+MD7N/D4vQ8w9Oujv7cpGoTMIvFmFry8vjTu8tV2Yi2jjUrGRYdX1rpGA+iVzVAdnGJ0Rwt99w8y+tgWhqUC55zBe89fz6ol8KM3w0ga1qTg/Dhc5Vc6VAqXdG+r/ayil10+11LQ1w2f7DHcsVlUGfYlLtoWZAhzZLgdeBjY5uiRCfCYgfR2MD9DrfNeNL10E9pvAJ39DwHTlrk+C0WOLpW3xVa21CSO+gKt4OtQXfDSCJT2oguog6ivbCVmSswKDI0eZHR4iqrf5u2diKtxngs0IDSAnvButdyd/XPZUacupB4kRJy6+ClTZmf/CJXjJFSfKKZxC30s7erFki5eBIC3vwH+389fRW/Te8FcjqEZpIQxNcT0cnP7a/i/v7yDT//BMJlHZ38+GEvpamIRCi/h2laYgOuf+NEImTU8lRJU9qFTk+XvDXL4/nv5dSDJ2P6DUM9DtUT7kjCXtMONwLkpqKTgPDQ8MS9d1ZsU8bzmB1YLJEW0b4dhng0XhgUZwmHgX4ABp+IGgBIUD6OFpU84jzGOmubH0fmiYE/oceEIbl5xFTPUW18YzASYPrSQazNHh8znYozi4Daq9SmU/eQcgOg/s86554/6CbQGfLUiYpJE6CFPmYMM8fzj4y6XxYsE+NdCbQtHXcvedjg8cvxCIJYZEQXORh2O+zj+qOS6ZfDRv+6kt+ljYFZhGERkEghhJIYxCfxczvtX+OCffsY/f+Y5dt3lRtj7Sgsxu69CWFmeMlAyqpZ8FDw3vLcm2HsRWlHn5gIIroHKPkca6kAG/MPo9GWdmSmyW/+R7J49cPV7iN52G6FonatuDnFJDM7AcIb9Pc9PH0VH9Pop4mzovLkZ2DGIJiKoMNPV6QSxIEOYBSbnWmnbw72AOm1r0cDPLRC4HoItaqJGgVIdtYbHHZMpooVaB50fcYp3qmnUFf8NKjp4fEubyshzVIv70KrV2ZBj/nH6wOeQoTLs4IHM8+z9+dGFxuENkLxeOX2jW2a/19gFn/piC9/810kev+/4J5Ac7q1zKXqlnzrOz15+G5xz4aXAFRhKiAygga0YQjtGmjHmKhJyBR+94O285vu/4C1v+gw77tPUzG+nTmEJVx9uLXDRzESJFPO5W7jCB3XP8xQ6S10MyfOhpx125aB6CPBnoDqK2+jcIg+xBtbcspqb3xqkLQrXNcK5OKIOHuWbY/KxHSsoom7qOPBoEe4YhJ9vqjH68xpssuzUk2gIK5bf4y3UtjpiMVRGawUaTL0Jlq7QTQ45mzCMm0peEIpomX0Q7YpRReOKe1lIcKA+OUZl8hngZueVY9wMpy2SQILn6eMH92+j+MDsdyMr4K3/EmCiVmXT7RzlDb7/s2v5k7e+mf7ql3j8vhfz0F0cAX6FLq6WcvxJQH8IrnnTEmJcAsRBLOnMhkVCCBHHM4wgspozk+/mQ5/9CR9/+mHqp3qLhgDM0DsK4lBNLHHvKDa0wiZLbCPDlcAG4F2w9FJY1wSRMhyMQyYMVIpQGcctJAaIQOpPWfPJj/HZDyZ4fdQ4nUQFjBz1q7MogcY4izRBnNVaDvjh5jxfeXiCJ3ZUqG8twfN5mFSal9PG7SWfquPfWKDuc+5/h3tZD6Pp8AiqyRoGkhBY5mgzer3xKMp7uAC1jgtiZRRRKQvvBVwYJF2nOPQkulBvYT4W/OkMcWIZuxlk1yNHe9mrLg/yxiuW8j9+0s/IHJfNtxQueW0vPq7i9W98jB+89wH2f+v4ftegPMED6Ng73tTFNW/y8fprbgEuxpgQImVcZqKg028eYQKkDWOCiLTwuqs28u0PPsxTX+DU5hf60QbEOZgt5Qxu1f4cWAfLh/ocNwCvhcuugtcl9IwOlKCtwTGEuQmoTaGT6EoInAtrb+S8D72T/+sPG3hb1BDxxPDcHtYuZgyggGP9qAA7R+Dhx3fzgx/czQO//CVMByD4DvBdCqUkbud6by+AE7MNCzKEYbTmcxAVS2117EelC5Jd0OpXepDtozRtHG6YtTNxNM7wGjTt/syJ7PKJp4fKBRjfs4sKewjSiDGCiA+DzI0SnsaoMVYsMN1/9DvnXRnhHFrI7OvX6+dBaj20dUSAVq6Iv4vP/o8Mn/U/zeA3FvbrC8nf3vT6Dhp81wCdIHncmpNmXGauXTKVsWZ2qW81n/jPZ/PD3l2MDFR4+O8Wto+vGsyKx1v1ApuWsFkRmOUICGrTOoHr4YyPwLt7tDVvAvVfCmFY2QHDEchNH0FDEVfABVdyxUdu5c03xbhhKazHEDBgnNie/UWDLntFg38zHiCovXhgb40vf/tRHvzul5nedTezaCaVNcBrnZ20TBJbh3csRYYXx4JrjZuAQ3U1iJeKtuysB/S9OEH2U2ErrvRYRDz52wrQA/4lULPFqSeRuVAD9m8eJJN7guZ4EJE4mKXosmrRCPqoU2Wcg0M5igdnvxdbDa+5OoyhwPhmjvKkeq6AVLQCDOE3Xbyj5R0U/meNr575HM/+U30Od/Sl4/Ib4bbXXQSsASOIpNHB3oAb7fdW6+dADMb4iHA97+zs5Q0fPkyeSTr+7tMv7879vqAOsyf3eVKw8yGGSv7cAv+5Bz6MVt8NoYu6pEBDFzS+Bu7ru5jJe6u0XnwmN7z9TD5+U4iL7Xd7jCC4xs/1/NT9OFyAzTumeXzTTh566Ek2P3Ifxf2PML+KjG2zZ5UNvNkdb8echWHBHuFKYE9dj2OVH84Sb7uDJhLkOUiWcdRrtPNyBqg6zZ174zDxdpj6DZoiPInYvmWSrc/dz9WXxanTgk/8iFl9cnfi9xQifjJM0L8vrTkqiwi8+S/g7evX8quBQYbmUFCiZ8Hr/yBEF2HUZ+ggbtbwh6mPcOlfbuWL59/Fj7/SR64PndwzaAYtBNIEVCGRgFWrBIqGZx554f08fx186Ys3sLblnWCWYEgjTOHKggRxPR83qC2UMCIY046YNhLiJ0EAOEUNITDb2M1dkM5jNEJALwTeAh++Et7qbOoT9bPXGVhjYIMYLjxDWPcXPRx6ew+3rYdrUtCES2cxjvsnxtkHcb3QPLB9qM63fvY0d37/h+x7+h7I7OKFO850oAFLyzgtohbGSnfMPcbjxwJrjdUQrg1A3Kj3vMLZvShgaKSZOiMOE8x294vidNccc75kBYS6gItRUuJJTNxJAg4cHuLASB9NoQqp5JrZyZ/TGgEiRAlWfLMSIWfc7OOP3nUOcS4jGHwACffPGl4tq+G85a200A7GjxEfYlqImVVcKOv5/I29XPuaR3h0eA8TkzkKA3VKYyWWtkU4s7uZVNXPyoalXLD0WvqGtvK+d9/OvofmJ+CEwvDxv7mc89Z9DFjpZIpz6A5H0Ok6ihv/soZQgCpCTcsVZjoIncoX32Y35/OUjmEwGoB1cMNl8HdBSBrXZIaBDse4dRthnRg2dgmVLrUBs7xAHAMo7m/tzMKDz0yz6YltPPPEY/RteYjpPY9y/BJRVpnSoEbQZnTszXqSlsYGFZFeL9phrt1ow6QeIOjIQ5SosBaly0zjGsIwDn1GnEb1MRi5BLWsO05o318cAefhTBzR5dB+YRh/dwO1sB+/BJF5C7tOTxh8hAgRmDNIzr+phauT1wJn05DYQ7RtE3mPx9jW4+dM3xqidIMkEASkjCGLGB9tspZ3+Zq5uStNrctHeX0RH9BEI0la8ONHabXn0LrkQa7+2C/Z9/jgvMm05jVw7rXXAVdgzKjDGbSNaKxxS6CDz5LhvE1wvXrwYU5tOVcrehbmKINvZfLnavu1A6vgDSmNwgEzFBcvvw/Ab0R1IsFjAI3L+XM2fKYM//FEmW98/pv03fNVKG5n/sryF0II2IhygK2QW5nZ7fnsdV04FmQIa6h3ayXT6+L2qvBTZZB97EVXPjY0G0JFYFoFJlbpyd0ITPjg0NVQvAmVJfYacnt/Hu8xBVHKThOOYBpICBpaoDYMmfv0O9sugmU3tNF97kraEr3E6ASSGrtYDBHio8ooRzi8u+waoS648so1+J0agIqvGV989ueWr2qmh7NwSWuqJyPUMBJEiBMxLXSLir7aiLJbSOWoWBrwSQcXXLGUb68ZpDqPglpiNSRbuoEWkElcDScrYVz1/B3wvObtE2n16e17pyqsgUAPN4SOEZWM0v+txHcG7HzU0g0XebprHWtoeOmAugw2M5SXI3V4bLfhP+7fx29+9TD7Hv4FTNyNh8i4QCjHVe+XHG5s0LIDbCPXk2AIjfOBJbhkddu1LGfcsrus83dF3N1tA1aKjxRBotTZQ4VgExQ3orPQsOeHlqF8w+Oloq1GZXOtSoWAKUEqDTkbdijCyF4YyU0S8OdIEkVoxhB/oW8+rSC+Iv0cpv+Z+kyoJnUubDxrLRoICbA3N6ldWC1a4aYbLqCB84AWDAZxVDRVjU4NlZEEQhK9UVsAMPgRfMyWW6izpK2JWLeWbc5F+8YEUWnQ/Z2JQFu9Jtt4Ku68lke9xRI6UKyek1f07lT2CH0QiMMy0cDeGmCN6Hyl/S50ANseqBWgAVbE7VL3hTFjBGeIz1BG+Oa2Ol/+p/vY8ot/p37ktygx6qWiy3n4cbtdh3Cv4UvryrYgQxh0diWG3kaTKI1ym9EQ+bPoat8PlMXtI5EXlUsq5+uQKVGfUvoRPWhMopfZhnChxxNHz4u9oAlgCoZ3QvUZZrzN4pOwbW2O/A27kCVXAynExByK6UxkYyGn5NSCVDhi6uQ8Gd6qQKaWA/8AECItGSTqceCLMJLJUmGSoDEOly+P7VWn1CSQWVrrFSDjGMYGdAaz7kWeat5Q8t4PFp1w6W3LaWcNmByIFeSwHcWtjLFdjxRwl0+29yS4TOMcp7QIpfjgPIFrDFwBgQvhrE44K6SOSgnoz8D4CATSEMtC8wRckdIrAi/OsPXSYNLAX/90lC996nOUd9/O/PWZJ4rVqHkO4V5Tm1ixJPoCJ02qfzkQ+TKE5gAAG5tJREFUcKp1jogWuu0VVRYeV/7qTHhGwq7gAuPAr9Fa5OedfX6PbkcrThDR+aEiC7s/CyivbTvqksaBHJTGj/6e0Ufg/m89Q9MbvsxZZxwkHroF4QKMiWBETaKcpsawGijz7OE0ZY92X6UAY5UCldAoRapMmmlmOdFZ2DEwwA52ciYdCFWK5ImSwk876naEMI6QllDDJVTZ+lQ/buufRjrDKwnHhNKciydLobk9gY8q7jRrl0WTKMHDjyvgb6kWVuwuxez2aJaIe4qiHfisoeE8WNUpXBSC61BOYF70DB1KwVDKYKqCLwvVQVgaNM7VmD0SvJ6fNY/2+UgdPv3NA9z+55+AyZ+8zAeSRAsw7fUrooamjrsaqKAT20kwhFFgPRGGKfKYwDdzsGcMjO3YXUYtpNOT2PR69n0z8CPUGNol7xjal9G6kRa2GcrxYj9qAO2S7QWaWKX3wdf/tszWuzfxvj/fznW3bKcj+DFErnV22ilBOg2Dhnvrgwz9ZHSWxpUvBEXxcZgJJhinf2qE+hyGw/ZtQzz1lq2kpI7P1EhLlkZytGAIEidAA+IYQuNk9lyDWAYiGMLgVH60hM4lFkuQntOSKdoJ4biPGkP4JYAtxlOvJYveWBXUKNoSiRg65CO4mWXb7Nd6FqcmAl3w+lu1oHQFGttfjZ5ta8hyGMYQxuowVYRCANrjQtAzAOczgMU6jEzA5FSNQ8NZbr/7MD+7/Xsw+YtX4EhWot6gbVpiPf0KLiOghBrCE5vYFrg0FhpNkCNSYjOGvrtQHuBZuA1oJ1HF2orzeifqQewAtjA77rcT9Z5tmzqLFtSAPs/x3acLiL/WgNEc/PpBqPcUGEn+jMs2wBnNURrkEhBdxHl596cLdqUHGLh7tvGJL/MTioUYZJyDHGbXkdHZYQxgeKJIf2GIkegycmTIkqOBImMUCBKkiQaaaCJCA0IjhkYMVcSJ3RliYOIIzVSYYNuRPJmBo5MYjSt8JGIh6gzhn0l02Dih9RAsVcRyy4LOb2VRT7EBQxyZRbY+NbHcD59G8GHYXIH798O1DXBps1Ctw3gZpkQYzMKj9w6z48nNrFm1ihtfsxrT7dMcsJltAEtlePiRHD/+6WaeePIhBoZ2MDl5iHL6lZpYfKjigxPvmmnGbB/WhJVwJa8XjoWJLmAYJ8PjwBMTwA+Bu9Bppgs12jnU6DWgHm0UV457HS650GJszr4H0UapZ6PNKu5gtgyxFyvQ4z+BBj1V4N5HYKClzu79P+fyM8Ns7P1LWhvPIe+vEggG6MRH7TQyh+NjRUqDs2/kUrrOQHWaWMBHlrKy5Ofkl0Z2wo6hKS5bkSUrWaaYZJQsIUYJ4KeBFJ200U0LbZTxYTBOJtc4SQwhCWJ4ku3c/pvfktt1tPRC84YAjfjxM0mVAkX8xEkhM7HIpGfrMMapLlHvcwo3huiwuGfXoJ1yaECpulsQfv4s3PP3Qzy1QnjbhUn8ARhJV6hFhfFslnvu+Cm7n3qQwq1v5ZIrl2MIYQtAygiDw7DzmTwPPrSXH3//e/Tt/RGzWfcptHb2neh5PYQG7a3IQx43sWW7oB9PoqoJlXTOopkG66LY3p9eQ3iSYoQlYI/Ao8CBvehyN4N6es+iRs+KQ7ei4gqr0HsuBZzvHM8juNzHuQa8BT3ubvQ4n2R+QxgBuQU4BOYEO5XVRuD5beAv1ihN/IzsaISu7uuoJ4JEl7QzEd/AkQXJhL66USpWqc/h7pVLhqHqNM2BMHlq1IMcLSW9E/b1FxlbkSVPgVHSlClRpUqIEC00UaRKFSFIjGbiWA0SMQIUQQbpYz///anv8PDtj82/f9UKE0wwxREqRMkTJkiAsKOaYwg7US0tYVLffpA6o+TJU6ROA8sJOtws9RRfmnzT7zsGMHy/Ltz702mqP/0aD0TTbOtuJhgOUSxliMdqhH05JscO0xAydHa0E28LUUHD9lMIdz0N3/vmVh698weM9T8A5lGONjiXQNdfELjlTFZsDBMvFwiXCqQCghjoPzzBdEXIlwJkdxyCkTEY6Yf0j1BDciz0oh7VEGpswuhMbGV8bQWRDbOcBEJ1CdWC3gOUqignZo/zZp3Znl7J2ccG3CYsnWidjm3lNxcRNKb9EGpc6+jxz4dOaLhQK1RG7uHE+gtVoD4Ee3xQrxTIFb5D18jD+FuaaayvY3zddRyQfS/+PacICgM1ahOzb6TwGX4q4Ro5qkxTY3q6enQ39UE4sKnKtusPE0HImzIlUUMYAQxZImSIkqWBHAlyBE1AKzzEIATYzwG+PraJn37yJ5jfzO8pFCuGHEUKlKjid/LEOcLkZqg0hqhDkg/haKUwwSj9DDNOkeXU6cZQpkaJOomZ/Oiphxoalv/OAJTv7gP+DQrDjO21tbk1Jh0OZyS8nvMvv4ELL1rH2k63LmeyBvvShicOTjF2eD+YYZDzINwOgRAEgxBdQvNl7+GK91/MLdfA1UloITqjzewDDtLNCDBahafG17JjHJ7bCX3/dCs88A/At49xFFZ7dBy3G3Y7bqLEGmSvnPbCsSBDWEQdtN11MBlcPtJ83qjtvdSKTRzq32HmN9qCeo8taAraKu7PHXQWZ0PnOdDZBdmlkD8Re+XQjwIJkEbIhkpM0Ie/DOXJwwSqhjHzyvTs+H1EdUayyYEPfN2GKZlkCB/7C8MMbC+pTu6sD2o71d31IVp8YeLECJkG4hIiQoQ4EaI04SNG2cAoaQpSZZg0feVRhkdr/OrefTz1nQPHNIIEoB4DJTr5qDs+ZZYsQQwxMviII7RhaEGFWcPoElmNpGAoImSpkadChhJTp/DSeAT4CsKh59HGZoyiS9S5VR1+Iu3ncOP7/pi3vbaT3iBOhkRY4Td89Dph1VlX8d0nLmDnznHaumKcuayBtliAlpjQmYQN3XBGwCZiYG6EfRWwCgMBuLVDKHbA8+vhr84/izs/83n4jh9t/jQXB1BjaKuHluImvWI4ZR64DICT4BFmgDuqMLwdeAyNBc53H/mBK9ASkh7cc++tcpqLFc7DFgp4lb/noheC18PaNbC8FbgEnu6HzJxz0NsB0TAcGIKCx2O080i9Dr4o9JwFq86CpgTEQjbfOEB6+EGmJ06jEjyrWWCNYQjK1Tr9mYMMRwbZ219Sas080YLCNti+u8L61YZIIEnYxAgQQQjhI4ohTBHDFFkyUqCPCR7YtYu7vrab4YdqmCdfZN/aVeorgZ88ecr48BGkhiFLnjwZooRIEkCIYmjADowgEeI04ENooZ0ISaadpE75ZeW6/X5hCBgcwancCqFLzPlCPQHCSy/iypuW0RsGjIdVa6BBDO9sF258Y5zRN8ZnfLKjMUdwAVd2a4aj64zRCHCBGP5hhdD4hQ5+uPS/U/63i2DsW6g+udfTG/H8RhX1ssLoSLZyXLbC5CQYwkIdCk+jQcIn0PZ186EXbdx0Frp8to3lQI/Bj6ud2QpcDpzrbDuN5eKqrP/c+GAIuBhCK5XsO5GBUg73jHsPrhWaVkB6KfjLYAIQMpCqqXRYLg6xtdB2NgSXqLGsVsFfAZmCUuUAkwdPn2QJCfS8jzMjjlH2w57+CjWpMGnrJ+c7JX1wYDO0txq6W/1UJYjf+KlKWX04E6AkJQoCk2T48ZO7eOivpyjfdZz7FgEThDTTjDBCCD9xYvgJUKXCCANUKdFDiTZKDhurAWgmhSFEmioQpZUaIRKUKBJm5IRLvn7/UQeYMqqonOqBI8vRwTgX19ByxdUs79S/vPqBxjFeArSIrQniKKa1/unW3HlvkVm3i3i2N8LZYvjHTmj/+2a+ftlHmPrMpbD946gI83ywTd2acAnyNglz4ljYp4uosd6FGqljxeVa0CxyCDV4lvYTRst8LkWnhFUgl0DLVdDYCQE/FPIwvQ9yW6GyGXgQ9TwDqLHcCKyEXBZ+8xiYu6BwJ/N6pgNHoLIcwpdD13Lw90IkBNEpiBoIN4A/Bb5mSFegMAC+DDRUIVCCagmm9p+69IqjEEQnL9tkeznUgzBsaUyTaH3lOjSj70Udqofh0FCNJa05mohq5tH4qFKmIBMEKBOlwJ7xSR74nxmqxzKCtomxrYQDiEGySQgQoE6NICESpGigCUOZCcYpUWaSNBFGaHTqLQ2t+GgmNrO8ChIEOkkQweA7lQnV9ppVwdVqnOsxbIAL/5xb3r+KVT6whffWeFnmzNwKE2+dMcw/N74QxH6HEZZgeJ/fMHWb8I3nL8T81RuhthXN9M/3SS+5zcYFrTd4ErLGFNEKjkMcm9IC6jc3eD5TQPexGe3ftwRYDS1nQM9SWOIwMkrAdBRGgzBi1DGphdFYZBD1HNvRSeEw5A+j3ukx7uXiBAxsgmABwkFIrYZwD4RWQEMSWpvB54dMGTLDUI1CoAixAMQMhErqBZ82SKJyb12op24r0UZwRSd7gWtQz/EASn+qoJNfBibG4GAmDck4SIyIiZKXNKNmgGwhTTFbZ9f/hurPj7EPa9Dypd3ofeaM2dAq6OiIEydG0ESJS4ImWknRDdRZjZ88afwEiZJErWkFoY7B59Q0BzAEEGoEMTRgKM7fSPLUgA9YIRpiW94Mu9agXoXtoBaB3ndx/d/ewAfOUrr73GoSi7mvvRzrJK8xPBv4A+CRW2D3v18Ou1agGdO58KMeluWLemX6T9LSGHAJ3D50KVVgtiFqBNajCRJb627QgdWlnThbgXOT6ljU0Mq45+uQzqhXVn4WakMQqkK8FQLXQHYUyg+jk0TI+b4VvCh/sjasj+IOyOShdiOEzwLp1F0MAvUo+BLQ2AzhsKrltBRgaQJiTdpY6LRAA3rtrBRxDl1JqQI/NEAoCvVOqK5AwxhTKDe0BY1jRyFdgOl4Fb+vRl2EaYr0jU9xpB/SB6D6M+YnwTdBx39JkR0pkXu6NGtyD3ZAKhKmmQaipAgSI0TQ2VEhRhcx2nE1jxIuF26WZFMdQwlhGj9poidEN3h1IAp0tkP6Qpg4O4m5bz1U9zCj1yhX0/Led/EXN/tYh5kJ8Z3sYJARLds9XwznrxZ2X7kBdl2F9vKYa9iSziOCyyX0lk2eGBZmCC15vISeyzNQg1h2/rdL3/W4GV8rINsBTa1aMbgeLZpJoQniQznYtx9NavUDz6FeX5MmLwI1KO5xDKGtZV7C0Xy2F8IRqP9SS4NyRZgsga8TAnUoHoLgJLTVoSMOPV3QVYJVB7T51+kCfxxMj2ZnfVGoZ5mpRgt0Q6IZohGot0NxOUSCPmLxEJnJKplsFV8cGjvDSCRKpu6j6iuRxc9EKc/hQQ15sI9j1+JfCUsua2fk2Wly/tFZb5WHYGqyAu0hfBKmQpUSOSJkUQvehasu43doNBH0xiwABYxTliVMUuMIObIzSYFTEU2oKNNAMzy6wcdAajVMXAicAcnziH7sNv7wzxq50lkte2X1TxZmFuqiV/GyFNz5uhTZu18LA3eg9bMWQdRqaE+8+Q3hiR3AwgyhV3erDbVmSdzMdiPusqrkHEMCWKVG8DLUECZQG7kLeG4a9j8GHACJapKiPglMQakAw0NgnkONpIVBq0kGnN+Mclw9IH17Qb4H+QEYOBcOtoJUIbAPuv2wfDWsugA2LoPldQgPw55TWaVpDkIhCLWDL+UjnghTKVTJd9YIIDQ3hvH56hSKJUolQ7ECxlcn7CuT7BQCZR+xeILmhlbErwOqhp8SQrpSp2CLOo5VDnoV+N4IpVCZgq+io9hzzSs74flH0xx6Y5pOf5kkefLkSJLHR8IxfLZvRcCpbdYuZ+pTBBEqqAs7xBSHmCaP7xQW5m0GXo8uhtPrYWjNGmo7QxCP0fb+s/jwZ6J8IAoJhyrzO7CDs+AzwtVieN0twg//9DrM5z4LU99EExNOn49Z0vz2YYPKtu544Vi4IRx2fq8RjRe1oDEIP2ocm1BjnUENYRvIGbCyDhvqunrKAhMC+yqwZwfUtwDj4O8Cfw5KTv28KaMexGznQFFH7+mlKEWnj+OKk1ZHIbdN9QqLTj1+eBjCMRguwpEwHAoJFQORXYa++ZJspyiM8RMKhQj7g8SjMfxRoaMJor4AMV+E6UqaYnmMQrlGKQ/lClSpk0wKsViS9sZO2oMdVKlQokzIBPGLkAg1sHRJBRP3U2kzHB6f0PvFVr2dCb4/hrYLGvHFQxSqRq+rt4IrB+n9MFasMBYvYsjSQJIaJXyUEIrMViwGHTBJVB9xChinyjjjDHGQI+QpkjiF9SjDwFoD42JoWysk3ttLPd1Lz2p48/Xw0aihDbB0l9+VEfRSbDYY+NOYYepjYe6J/BH841IY+QJqCKZwRXetJxjw/G1pNAvHwgzhJK789G6UXW3lvm35n93POjM10SYBO/wa+w7gKtIVDBQLzHgJ1SDUrMyY/c4X6meyCz0/x1nrXccRqNnNrEGWQWP+z95ns2TOgslY5Y3TA5UylEohpBbEb4SWRIJWf5IoAUL4qQSqGONwxHxgipAvQCVjyEWy1HNHqDdXSaUa8ft9BCRAkADNoRbi3QkauluJrk6yq3M3B68ZYHo8TXmijq8HOi5vpL2jjYg/QefaKMOvnyI3dUirrxyV9uQqH7VQkBHy1BDCJEiSoQEfPjJUKBDAj8YBawSI4KMZKFJijFGGGWeEAQYYYtjhFZ7aaMEhEaUMy94j9ATh9XG4DW274eX8/c7hJE7aMFyQNGx5lzD66OXw403o6N3GbKVx+7/VnzzxA1mYIbTSb6BL0eNVkGZ+Pvt8WJDdcZSnXzZYPqg50dzTqxu1wRrph6bJxPz4Ez4qyyskO8NEJUiNGtl8nqnxGlWvbmQGKhWoVOpkYxkm23IsXd1CW3sb4WiAIBHqhBERGn0NtEe7ia6P0tbezsDEYY5MHyHcEqS7p4NYOIbfRIidFaO1qYPnYtMUf5zW8MtlkOiOkvYJg+TIUaJOACGMnwGK5MgwTdDUqUuFKhUSJsUyeqmIjwlKjDNFhimGmWCECUIEj1m4dKrAL9BshPMFWhuVFHANunA7mZ6gqtgc+5fsOwWBEkInsL4LHrw2AXdcBpU9zO7p4aXRWO/rxPHSWIiLOLUwCNwHJlyj2l5jtD5BLF5nKhQkl8tzaHuGUj/qYgTQGIfVnxwBwpBeUmfITBAnSigVRMJQrlXJ5wo0poqEYkG6w11El8SJN8VJppP4E4ZkOEoAP0b8+BMBGlYHyYTb6WtOE4r56F3fwpk9K2nydyKmTlHqZPEzRo4saUYZZogjFGSSoilQpkyjtNDLYfwkKBGiTJUKRcbJMuaUOg0fT3D5VQwDNApcZOB60Ryj33GeTqYnKCL09fWxadMmAoGjzY6tC5lCb6V+gYwP2BEA2YQSisdxk197YSYZ5uUVLsA78/6+WcDaT0RGeXkaELxa0WuMaftd78TLjcXrunhdT1Ec93VdkCFcxCIWsYhTES9tYb2IRSxiEacAFg3hIhaxiNMei4ZwEYtYxGmPV9wQishyEdl2jPe+JiLrj+M7rhWRXx7jvfNF5Hbn+XtE5DkR2Soij4rIuc7rIRF5SEQWs+QniBe6jifp96Mi8qCI+EXkOhF5xvMoishtznbfE5E1v6v9PFUhIvtFpHWe128VkU8t8Lu67HgWkaCIfNMZsztE5L86r5/UMfs79QiNMf+nMeb5ua+LiH++7Y+BTwNfdJ73A9cYYzYAfwN8xfmdMtpv7x0vbY8XcaJ4GW7oPwJ+YoypGWN+Y4w5zxhzHnA9SlG9x9nuX4C/fIm/tYjjhDHmDmPMPyzwY58Avuo8fxsQdsbshcAHRWT5yR6zJ8sQBkTkfzsW/0ciEgMQkQdEZKPzPCsiXxCRZ4HLROQWEdkpIpuBN8/3pSKSBM4xxjwLYIx51BhjBcIeRwu1LH6GtpRfxInDLyJfFZHtInKPiEQBROQ8EXnc8cZ/KiJNzusPiMj/JyKbgD8TkbeJyDYReVZEHnK28YvI50TkKefzHzzGb78HmE+8663AXcYYy9f/LXDDovd/YhCRuIjc6VyjbSLiNUQfE5HNjve2ztn+/SLyz87zb4jIv4rIJhHZLSJvOMbPvAW423lugLhzvaJonZglA560MXuyDOFa4H8ZY85ED/JP59kmDjxhjDkX7Yz8VeCN6CzReYzv3YjW3cyHP0abjVpsAy5a+K4vwoM1wJeMMWeh3Ne3OK//O/BJY8w5aH+v/8fzmZAxZqMx5gvAXwE3O9f4Vuf9PwamjTEXodfnAyKywvujIhICVhpj9s+zT+8Evmv/MMbU0ZZi576kIz19cQswaIw51xhzNq7BAhgzxlyAet3/5RifX452EX098K8iEvG+6VzbSWOMrU/6Ea7g20Hg88YYq0900sbsyTKEh4wxjzjPvw1cOc82NeDHzvN1QL8xps8o0fFYLa66mEeSQUSuQwfYJ+1rxpgaUHa8yEWcGPqNMc84z58GlotIA9BojHnQef2bwNWez3zf8/wR4Bsi8gFc7aSbgPeJyDNoA4gW1OB60co8csUi0oVWjc2VjBxBG8IuYuHYCtwoIv8oIlcZY6Y97/3E+f9p1ODNhx8YY+rGmD5UCWDdnPfnjtmL0bHfjSqM/rmIrISTO2ZPliGcy9qej8VddA58ISigdTYzEJFzgK8B/8kYMz5n+zAvb3Xy6QavBIZ2Zn9xzEiwGmM+BHwGWAY8LSItaG3Ux2zMzxizwhhzz5zvOOo6O3g78FNjzFyxtAjHJcy2iLkwxuxGO5JvBf5WRP7K87a9/i907V9srM+9lu8G7jbGVIwxI+hkudHz/kkZsyfLEPaIyGXO83cDD7/I9jtRb2OV8/e7jrHdDmC1/UNEetBZ673OBcXzXgvq2p9GCoOvPByPYVJErnJeei9aGHoURGSVMeYJY8xfoV7BMtSb+7CIBJ1tzhCRWdpYTtzXP3eZhd4X3+VonMGxQyaLeAGISDeQN8Z8G/gcahQXgreJiM8ZuytRjSgvdjPbmzyIJrxwrvul6Pg/qWP2ZAWUdwEfEZF/A55HYwzHhDGmKCJ/AtwpInk0AH6Ue2yM2SkiDSKSNMZk0BhUC/C/RJUuqsYYO7tcB9z5sh3RIrz4P9B4UAxdDv3hMbb7nENtETQj+CyqR74c2Cx60UZRlai5uAcNqdwLSudBDeksoysiHUDBGDP0ko7o9MUG9DrVUc2rDy/w8wdRgb4U8CFjzCxvzhiTE5G9IrLaGLMH+BLwdRHZjt4XXzfGPOdsftLG7Ku+1lhEPg5kjDFfe5HtfgJ8aq6nuIhXB0TkAuDjxpj3vsh2HwfSxpjbT86eLcJCRL4B/PL/b+9eTgCEgSAMT09WYj/2YROCdmAH1mIH40E8iGCEQDDZ/zvvdYeFzcP2lKjrJXW2h0RdsZ5t4WbJqPfnW6+t40II1sv2Jmn9cMZ017mwwU/ZnnX/jOShdM9WPxECQK4WJkIAyEIQAgiPIAQQHkEIIDyCEEB4BxVLMMPTVDwqAAAAAElFTkSuQmCC\n",
      "text/plain": [
       "<Figure size 432x288 with 9 Axes>"
      ]
     },
     "metadata": {},
     "output_type": "display_data"
    }
   ],
   "source": [
    "# call your data loader for train and val set\n",
    "# !!! remember 'show_sample' option in the get_train_val_loader, this will print images \n",
    "batch_size = 32\n",
    "train_loader, val_loader = get_train_val_loader(data_dir='./data', batch_size=batch_size, augment=1, val_percentage=0.1, shuffle=False, num_workers=2, show_sample=1)\n"
   ]
  },
  {
   "cell_type": "markdown",
   "metadata": {},
   "source": [
    "### Step 6: Create your AlexNet model\n",
    "- Please note that your input image size will make difference on your hard-coded feature sizes in FC-layer\n",
    "- Always be aware of what size input is used, here for convenience we will follow the original paper and reshape image to 224x224x3 (refer to _shape in **step 3** above)\n"
   ]
  },
  {
   "cell_type": "code",
   "execution_count": 14,
   "metadata": {},
   "outputs": [],
   "source": [
    "# create your model \n",
    "class AlexNet(nn.Module):\n",
    "    def __init__(self, num_classes=10):\n",
    "        super(AlexNet, self).__init__()\n",
    "        self.features = nn.Sequential(\n",
    "            nn.Conv2d(3, 64, kernel_size=11, stride=4, padding=2),\n",
    "            nn.ReLU(inplace=True),\n",
    "            nn.MaxPool2d(kernel_size=3, stride=2),\n",
    "            nn.Conv2d(64, 192, kernel_size=5, padding=2),\n",
    "            nn.ReLU(inplace=True),\n",
    "            nn.MaxPool2d(kernel_size=3, stride=2),\n",
    "            nn.Conv2d(192, 384, kernel_size=3, padding=1),\n",
    "            nn.ReLU(inplace=True),\n",
    "            nn.Conv2d(384, 256, kernel_size=3, padding=1),\n",
    "            nn.ReLU(inplace=True),\n",
    "            nn.Conv2d(256, 256, kernel_size=3, padding=1),\n",
    "            nn.ReLU(inplace=True),\n",
    "            nn.MaxPool2d(kernel_size=3, stride=2),\n",
    "        )\n",
    "        self.avgpool = nn.AdaptiveAvgPool2d((6, 6))\n",
    "        self.classifier = nn.Sequential(\n",
    "            nn.Dropout(),\n",
    "            nn.Linear(256 * 6 * 6, 4096),\n",
    "            nn.ReLU(inplace=True),\n",
    "            nn.Dropout(),\n",
    "            nn.Linear(4096, 4096),\n",
    "            nn.ReLU(inplace=True),\n",
    "            nn.Linear(4096, num_classes),\n",
    "        )\n",
    "\n",
    "    def forward(self, x):\n",
    "        x = self.features(x)\n",
    "        x = self.avgpool(x)\n",
    "        x = torch.flatten(x, 1)\n",
    "        x = self.classifier(x)\n",
    "        return x"
   ]
  },
  {
   "cell_type": "markdown",
   "metadata": {},
   "source": [
    "#### Step 7: Make functions for accuracy/metrics to decide how your classifier is performing\n",
    "- In classification, you can use top 1% and top 5% accuracy \n",
    "- F1 and others can also be used see sklearn for more metrics \n",
    "- You want to keep track of computational time to report how long it took to run your training/test"
   ]
  },
  {
   "cell_type": "code",
   "execution_count": 17,
   "metadata": {},
   "outputs": [],
   "source": [
    "# set accuracy to measure how well the training is going, loss alone is not useful\n",
    "def calculate_topk_accuracy(y_pred, y, k = 5):\n",
    "    with torch.no_grad():\n",
    "        batch_size = y.shape[0]\n",
    "        _, top_pred = y_pred.topk(k, 1)\n",
    "        top_pred = top_pred.t()\n",
    "        correct = top_pred.eq(y.view(1, -1).expand_as(top_pred))\n",
    "        correct_1 = correct[:1].view(-1).float().sum(0, keepdim = True)\n",
    "        correct_k = correct[:k].view(-1).float().sum(0, keepdim = True)\n",
    "        acc_1 = correct_1 / batch_size\n",
    "        acc_k = correct_k / batch_size\n",
    "    return acc_1, acc_k"
   ]
  },
  {
   "cell_type": "code",
   "execution_count": 18,
   "metadata": {},
   "outputs": [],
   "source": [
    "# you want to know how much time it took to run your training/inference\n",
    "def epoch_time(start_time, end_time):\n",
    "    elapsed_time = end_time - start_time\n",
    "    elapsed_mins = int(elapsed_time / 60)\n",
    "    elapsed_secs = int(elapsed_time - (elapsed_mins * 60))\n",
    "    return elapsed_mins, elapsed_secs"
   ]
  },
  {
   "cell_type": "markdown",
   "metadata": {},
   "source": [
    "#### Step 8: Define your train function\n",
    "- Here you will use model.train and use gradients\n",
    "- Also, you will use criterion to compute loss \n",
    "- Compute metric to know how well it is performing\n",
    "- save them to display mean for each epoch"
   ]
  },
  {
   "cell_type": "code",
   "execution_count": 24,
   "metadata": {},
   "outputs": [],
   "source": [
    "def train(model, train_loader, optimizer, criterion, device, epoch):  \n",
    "    epoch_loss = 0\n",
    "    epoch_acc_1 = 0\n",
    "    epoch_acc_5 = 0\n",
    "    model.train()\n",
    "    tims = time.time()\n",
    "    for i, (data, label) in enumerate(train_loader):\n",
    "        data, label = data.to(device), label.to(device)\n",
    "        optimizer.zero_grad()\n",
    "        y_pred = model(data)\n",
    "        loss = criterion(y_pred, label)\n",
    "        loss.backward()\n",
    "        optimizer.step()\n",
    "        \n",
    "        #calculate accuracy both top1% and top5%\n",
    "        acc_1, acc_5 = calculate_topk_accuracy(y_pred, label)\n",
    "        \n",
    "        # accumulate them to display the mean for each epoch\n",
    "        epoch_loss += loss.item()\n",
    "        epoch_acc_1 += acc_1.item()\n",
    "        epoch_acc_5 += acc_5.item()\n",
    "        \n",
    "        # if you want to display here as mean for after some iterations then please append them!\n",
    "        # You code here if you want to include this!\n",
    "        \n",
    "    epoch_loss /= len(train_loader)\n",
    "    epoch_acc_1 /= len(train_loader)\n",
    "    epoch_acc_5 /= len(train_loader)\n",
    "    \n",
    "    return epoch_loss, epoch_acc_1, epoch_acc_5"
   ]
  },
  {
   "cell_type": "markdown",
   "metadata": {},
   "source": [
    "#### Step 8: Define your validation/test function\n",
    "- Here you will use model.eval and no gradients\n",
    "- Also, you will use criterion to compute loss \n",
    "- Compute metric to know how well it is performing\n",
    "- save them to display mean for each epoch"
   ]
  },
  {
   "cell_type": "code",
   "execution_count": 25,
   "metadata": {},
   "outputs": [],
   "source": [
    "# define your test function (same as above but no grad. or optimiser set)\n",
    "def validate(model, val_loader, criterion, device):\n",
    "    epoch_loss = 0\n",
    "    epoch_acc_1 = 0\n",
    "    epoch_acc_5 = 0\n",
    "    \n",
    "    model.eval()\n",
    "    with torch.no_grad():\n",
    "        for i, (data, label) in enumerate(train_loader):\n",
    "            data, label = data.to(device), label.to(device)\n",
    "            y_pred = model(data)\n",
    "            loss = criterion(y_pred, label)\n",
    "            acc_1, acc_5 = calculate_topk_accuracy(y_pred, label)\n",
    "\n",
    "            epoch_loss += loss.item()\n",
    "            epoch_acc_1 += acc_1.item()\n",
    "            epoch_acc_5 += acc_5.item()\n",
    "        \n",
    "    epoch_loss /= len(train_loader)\n",
    "    epoch_acc_1 /= len(train_loader)\n",
    "    epoch_acc_5 /= len(train_loader)\n",
    "        \n",
    "    return epoch_loss, epoch_acc_1, epoch_acc_5"
   ]
  },
  {
   "cell_type": "markdown",
   "metadata": {},
   "source": [
    "#### Step 9: Set up your model to run\n",
    "- Model parameter (identify what is in your case, here it is num_classes)\n",
    "- learning rate\n",
    "- optimiser\n",
    "- loss function to be defined\n",
    "- call model\n",
    "- set things to device caugth "
   ]
  },
  {
   "cell_type": "code",
   "execution_count": 26,
   "metadata": {},
   "outputs": [],
   "source": [
    "# call you model \n",
    "model = AlexNet(num_classes=10)\n",
    "# parameters and functions set\n",
    "lr = 0.0001\n",
    "optimizer = optim.Adam(model.parameters(), lr=lr)\n",
    "\n",
    "device = torch.device('cuda' if torch.cuda.is_available() else 'cpu')\n",
    "criterion = nn.CrossEntropyLoss()\n",
    "model = model.to(device)\n",
    "criterion = criterion.to(device)"
   ]
  },
  {
   "cell_type": "code",
   "execution_count": 27,
   "metadata": {},
   "outputs": [],
   "source": [
    "# check your model if you want: \n",
    "#model"
   ]
  },
  {
   "cell_type": "markdown",
   "metadata": {},
   "source": [
    "##### Step 10: Now you are ready to call your training model\n",
    "- You need to set number of epochs you want to run\n",
    "- To save checkpoints you need to define best loss to infinity (you want to save only if loss decreases)\n",
    "\n",
    "*Note: This can be replaced with accuracy as well, both loss and accuracy is better!*\n",
    "\n",
    "- Save losses (train and val) and accuracies for each epoch to plot later. Alternatively, you can look into tensorboard to see these in real-time (https://github.com/tensorflow/tensorboard for details)\n",
    "- For each epoch print your loss and accuracies \n",
    "\n"
   ]
  },
  {
   "cell_type": "code",
   "execution_count": 28,
   "metadata": {},
   "outputs": [
    {
     "name": "stdout",
     "output_type": "stream",
     "text": [
      "total steps per epoch is: 140700\n",
      "Epoch: 01 | Epoch Time: 1m 16s\n",
      "\t Train Loss: 1.502 | Train Acc @1:  44.32% | Train Acc @5:  89.84%\n",
      "\tValid Loss: 1.088 | Valid Acc @1:  61.00% | Valid Acc @5:  96.17%\n",
      "Epoch: 02 | Epoch Time: 1m 16s\n",
      "\t Train Loss: 1.017 | Train Acc @1:  63.89% | Train Acc @5:  96.59%\n",
      "\tValid Loss: 0.797 | Valid Acc @1:  71.74% | Valid Acc @5:  97.99%\n",
      "Epoch: 03 | Epoch Time: 1m 17s\n",
      "\t Train Loss: 0.818 | Train Acc @1:  71.50% | Train Acc @5:  97.87%\n",
      "\tValid Loss: 0.691 | Valid Acc @1:  75.69% | Valid Acc @5:  98.33%\n",
      "Epoch: 04 | Epoch Time: 1m 14s\n",
      "\t Train Loss: 0.707 | Train Acc @1:  75.28% | Train Acc @5:  98.43%\n",
      "\tValid Loss: 0.581 | Valid Acc @1:  80.00% | Valid Acc @5:  99.00%\n",
      "Epoch: 05 | Epoch Time: 1m 16s\n",
      "\t Train Loss: 0.634 | Train Acc @1:  78.01% | Train Acc @5:  98.72%\n",
      "\tValid Loss: 0.494 | Valid Acc @1:  83.14% | Valid Acc @5:  99.26%\n",
      "Epoch: 06 | Epoch Time: 1m 14s\n",
      "\t Train Loss: 0.569 | Train Acc @1:  80.25% | Train Acc @5:  98.96%\n",
      "\tValid Loss: 0.461 | Valid Acc @1:  83.78% | Valid Acc @5:  99.36%\n",
      "Epoch: 07 | Epoch Time: 1m 15s\n",
      "\t Train Loss: 0.522 | Train Acc @1:  81.90% | Train Acc @5:  99.17%\n",
      "\tValid Loss: 0.405 | Valid Acc @1:  86.28% | Valid Acc @5:  99.56%\n",
      "Epoch: 08 | Epoch Time: 1m 14s\n",
      "\t Train Loss: 0.476 | Train Acc @1:  83.50% | Train Acc @5:  99.28%\n",
      "\tValid Loss: 0.379 | Valid Acc @1:  86.81% | Valid Acc @5:  99.60%\n",
      "Epoch: 09 | Epoch Time: 1m 16s\n",
      "\t Train Loss: 0.439 | Train Acc @1:  84.74% | Train Acc @5:  99.44%\n",
      "\tValid Loss: 0.320 | Valid Acc @1:  89.04% | Valid Acc @5:  99.65%\n",
      "Epoch: 10 | Epoch Time: 1m 14s\n",
      "\t Train Loss: 0.409 | Train Acc @1:  85.84% | Train Acc @5:  99.51%\n",
      "\tValid Loss: 0.309 | Valid Acc @1:  89.53% | Valid Acc @5:  99.73%\n",
      "Epoch: 11 | Epoch Time: 1m 16s\n",
      "\t Train Loss: 0.381 | Train Acc @1:  86.97% | Train Acc @5:  99.61%\n",
      "\tValid Loss: 0.291 | Valid Acc @1:  90.19% | Valid Acc @5:  99.78%\n",
      "Epoch: 12 | Epoch Time: 1m 14s\n",
      "\t Train Loss: 0.355 | Train Acc @1:  87.56% | Train Acc @5:  99.66%\n",
      "\tValid Loss: 0.250 | Valid Acc @1:  91.52% | Valid Acc @5:  99.80%\n",
      "Epoch: 13 | Epoch Time: 1m 18s\n",
      "\t Train Loss: 0.333 | Train Acc @1:  88.47% | Train Acc @5:  99.61%\n",
      "\tValid Loss: 0.249 | Valid Acc @1:  91.79% | Valid Acc @5:  99.85%\n",
      "Epoch: 14 | Epoch Time: 1m 16s\n",
      "\t Train Loss: 0.311 | Train Acc @1:  89.37% | Train Acc @5:  99.70%\n",
      "\tValid Loss: 0.231 | Valid Acc @1:  92.14% | Valid Acc @5:  99.88%\n",
      "Epoch: 15 | Epoch Time: 1m 15s\n",
      "\t Train Loss: 0.295 | Train Acc @1:  89.68% | Train Acc @5:  99.74%\n",
      "\tValid Loss: 0.221 | Valid Acc @1:  92.80% | Valid Acc @5:  99.90%\n",
      "Epoch: 16 | Epoch Time: 1m 14s\n",
      "\t Train Loss: 0.278 | Train Acc @1:  90.47% | Train Acc @5:  99.76%\n",
      "\tValid Loss: 0.202 | Valid Acc @1:  93.26% | Valid Acc @5:  99.89%\n",
      "Epoch: 17 | Epoch Time: 1m 16s\n",
      "\t Train Loss: 0.262 | Train Acc @1:  90.87% | Train Acc @5:  99.84%\n",
      "\tValid Loss: 0.159 | Valid Acc @1:  94.90% | Valid Acc @5:  99.94%\n",
      "Epoch: 18 | Epoch Time: 1m 13s\n",
      "\t Train Loss: 0.245 | Train Acc @1:  91.44% | Train Acc @5:  99.85%\n",
      "\tValid Loss: 0.196 | Valid Acc @1:  93.10% | Valid Acc @5:  99.92%\n",
      "Epoch: 19 | Epoch Time: 1m 15s\n",
      "\t Train Loss: 0.232 | Train Acc @1:  91.74% | Train Acc @5:  99.87%\n",
      "\tValid Loss: 0.157 | Valid Acc @1:  94.71% | Valid Acc @5:  99.96%\n",
      "Epoch: 20 | Epoch Time: 1m 15s\n",
      "\t Train Loss: 0.222 | Train Acc @1:  92.23% | Train Acc @5:  99.88%\n",
      "\tValid Loss: 0.137 | Valid Acc @1:  95.49% | Valid Acc @5:  99.95%\n",
      "Epoch: 21 | Epoch Time: 1m 15s\n",
      "\t Train Loss: 0.212 | Train Acc @1:  92.56% | Train Acc @5:  99.87%\n",
      "\tValid Loss: 0.122 | Valid Acc @1:  96.10% | Valid Acc @5:  99.96%\n",
      "Epoch: 22 | Epoch Time: 1m 13s\n",
      "\t Train Loss: 0.200 | Train Acc @1:  92.97% | Train Acc @5:  99.89%\n",
      "\tValid Loss: 0.125 | Valid Acc @1:  96.02% | Valid Acc @5:  99.98%\n",
      "Epoch: 23 | Epoch Time: 1m 15s\n",
      "\t Train Loss: 0.193 | Train Acc @1:  93.13% | Train Acc @5:  99.93%\n",
      "\tValid Loss: 0.118 | Valid Acc @1:  96.44% | Valid Acc @5: 100.00%\n",
      "Epoch: 24 | Epoch Time: 1m 15s\n",
      "\t Train Loss: 0.184 | Train Acc @1:  93.53% | Train Acc @5:  99.92%\n",
      "\tValid Loss: 0.110 | Valid Acc @1:  96.54% | Valid Acc @5:  99.98%\n",
      "Epoch: 25 | Epoch Time: 1m 14s\n",
      "\t Train Loss: 0.181 | Train Acc @1:  93.80% | Train Acc @5:  99.92%\n",
      "\tValid Loss: 0.107 | Valid Acc @1:  96.48% | Valid Acc @5:  99.99%\n",
      "Epoch: 26 | Epoch Time: 1m 13s\n",
      "\t Train Loss: 0.167 | Train Acc @1:  94.06% | Train Acc @5:  99.96%\n",
      "\tValid Loss: 0.129 | Valid Acc @1:  95.60% | Valid Acc @5:  99.99%\n",
      "Epoch: 27 | Epoch Time: 1m 15s\n",
      "\t Train Loss: 0.162 | Train Acc @1:  94.27% | Train Acc @5:  99.93%\n",
      "\tValid Loss: 0.088 | Valid Acc @1:  97.15% | Valid Acc @5:  99.99%\n",
      "Epoch: 28 | Epoch Time: 1m 15s\n",
      "\t Train Loss: 0.159 | Train Acc @1:  94.43% | Train Acc @5:  99.96%\n",
      "\tValid Loss: 0.084 | Valid Acc @1:  97.26% | Valid Acc @5:  99.99%\n",
      "Epoch: 29 | Epoch Time: 1m 14s\n",
      "\t Train Loss: 0.155 | Train Acc @1:  94.71% | Train Acc @5:  99.93%\n",
      "\tValid Loss: 0.077 | Valid Acc @1:  97.66% | Valid Acc @5:  99.99%\n",
      "Epoch: 30 | Epoch Time: 1m 14s\n",
      "\t Train Loss: 0.150 | Train Acc @1:  94.85% | Train Acc @5:  99.96%\n",
      "\tValid Loss: 0.075 | Valid Acc @1:  97.58% | Valid Acc @5:  99.99%\n",
      "Epoch: 31 | Epoch Time: 1m 13s\n",
      "\t Train Loss: 0.144 | Train Acc @1:  95.14% | Train Acc @5:  99.96%\n",
      "\tValid Loss: 0.079 | Valid Acc @1:  97.54% | Valid Acc @5:  99.99%\n",
      "Epoch: 32 | Epoch Time: 1m 15s\n",
      "\t Train Loss: 0.142 | Train Acc @1:  95.09% | Train Acc @5:  99.97%\n",
      "\tValid Loss: 0.075 | Valid Acc @1:  97.87% | Valid Acc @5: 100.00%\n",
      "Epoch: 33 | Epoch Time: 1m 13s\n",
      "\t Train Loss: 0.134 | Train Acc @1:  95.30% | Train Acc @5:  99.98%\n",
      "\tValid Loss: 0.079 | Valid Acc @1:  97.62% | Valid Acc @5:  99.99%\n",
      "Epoch: 34 | Epoch Time: 1m 13s\n",
      "\t Train Loss: 0.137 | Train Acc @1:  95.32% | Train Acc @5:  99.97%\n",
      "\tValid Loss: 0.081 | Valid Acc @1:  97.43% | Valid Acc @5: 100.00%\n",
      "Epoch: 35 | Epoch Time: 1m 15s\n",
      "\t Train Loss: 0.124 | Train Acc @1:  95.62% | Train Acc @5:  99.96%\n",
      "\tValid Loss: 0.061 | Valid Acc @1:  98.07% | Valid Acc @5: 100.00%\n",
      "Epoch: 36 | Epoch Time: 1m 16s\n",
      "\t Train Loss: 0.131 | Train Acc @1:  95.57% | Train Acc @5:  99.97%\n",
      "\tValid Loss: 0.058 | Valid Acc @1:  98.22% | Valid Acc @5: 100.00%\n",
      "Epoch: 37 | Epoch Time: 1m 13s\n",
      "\t Train Loss: 0.122 | Train Acc @1:  95.86% | Train Acc @5:  99.99%\n",
      "\tValid Loss: 0.071 | Valid Acc @1:  97.80% | Valid Acc @5:  99.99%\n",
      "Epoch: 38 | Epoch Time: 1m 13s\n",
      "\t Train Loss: 0.122 | Train Acc @1:  95.79% | Train Acc @5:  99.97%\n",
      "\tValid Loss: 0.070 | Valid Acc @1:  97.79% | Valid Acc @5: 100.00%\n",
      "Epoch: 39 | Epoch Time: 1m 15s\n",
      "\t Train Loss: 0.114 | Train Acc @1:  96.16% | Train Acc @5:  99.98%\n",
      "\tValid Loss: 0.055 | Valid Acc @1:  98.39% | Valid Acc @5: 100.00%\n",
      "Epoch: 40 | Epoch Time: 1m 13s\n",
      "\t Train Loss: 0.121 | Train Acc @1:  95.99% | Train Acc @5:  99.98%\n",
      "\tValid Loss: 0.061 | Valid Acc @1:  98.29% | Valid Acc @5: 100.00%\n",
      "Epoch: 41 | Epoch Time: 1m 13s\n",
      "\t Train Loss: 0.109 | Train Acc @1:  96.34% | Train Acc @5:  99.99%\n",
      "\tValid Loss: 0.061 | Valid Acc @1:  98.07% | Valid Acc @5: 100.00%\n",
      "Epoch: 42 | Epoch Time: 1m 14s\n",
      "\t Train Loss: 0.112 | Train Acc @1:  96.24% | Train Acc @5:  99.99%\n",
      "\tValid Loss: 0.051 | Valid Acc @1:  98.35% | Valid Acc @5: 100.00%\n",
      "Epoch: 43 | Epoch Time: 1m 13s\n",
      "\t Train Loss: 0.109 | Train Acc @1:  96.28% | Train Acc @5:  99.98%\n",
      "\tValid Loss: 0.055 | Valid Acc @1:  98.35% | Valid Acc @5: 100.00%\n",
      "Epoch: 44 | Epoch Time: 1m 15s\n",
      "\t Train Loss: 0.108 | Train Acc @1:  96.39% | Train Acc @5:  99.97%\n",
      "\tValid Loss: 0.051 | Valid Acc @1:  98.46% | Valid Acc @5: 100.00%\n",
      "Epoch: 45 | Epoch Time: 1m 13s\n",
      "\t Train Loss: 0.107 | Train Acc @1:  96.40% | Train Acc @5:  99.98%\n",
      "\tValid Loss: 0.056 | Valid Acc @1:  98.22% | Valid Acc @5: 100.00%\n",
      "Epoch: 46 | Epoch Time: 1m 15s\n",
      "\t Train Loss: 0.104 | Train Acc @1:  96.49% | Train Acc @5:  99.98%\n",
      "\tValid Loss: 0.041 | Valid Acc @1:  98.80% | Valid Acc @5: 100.00%\n",
      "Epoch: 47 | Epoch Time: 1m 14s\n",
      "\t Train Loss: 0.104 | Train Acc @1:  96.56% | Train Acc @5:  99.99%\n",
      "\tValid Loss: 0.035 | Valid Acc @1:  98.91% | Valid Acc @5: 100.00%\n",
      "Epoch: 48 | Epoch Time: 1m 15s\n",
      "\t Train Loss: 0.099 | Train Acc @1:  96.67% | Train Acc @5:  99.98%\n",
      "\tValid Loss: 0.034 | Valid Acc @1:  99.14% | Valid Acc @5: 100.00%\n",
      "Epoch: 49 | Epoch Time: 1m 17s\n",
      "\t Train Loss: 0.099 | Train Acc @1:  96.66% | Train Acc @5:  99.99%\n",
      "\tValid Loss: 0.040 | Valid Acc @1:  98.88% | Valid Acc @5: 100.00%\n"
     ]
    },
    {
     "ename": "KeyboardInterrupt",
     "evalue": "",
     "output_type": "error",
     "traceback": [
      "\u001b[0;31m---------------------------------------------------------------------------\u001b[0m",
      "\u001b[0;31mKeyboardInterrupt\u001b[0m                         Traceback (most recent call last)",
      "\u001b[0;32m<ipython-input-28-ac149adf7b82>\u001b[0m in \u001b[0;36m<module>\u001b[0;34m\u001b[0m\n\u001b[1;32m     19\u001b[0m \u001b[0;34m\u001b[0m\u001b[0m\n\u001b[1;32m     20\u001b[0m     \u001b[0;31m# call validation function\u001b[0m\u001b[0;34m\u001b[0m\u001b[0;34m\u001b[0m\u001b[0;34m\u001b[0m\u001b[0m\n\u001b[0;32m---> 21\u001b[0;31m     \u001b[0mvalid_loss\u001b[0m\u001b[0;34m,\u001b[0m \u001b[0mvalid_acc_1\u001b[0m\u001b[0;34m,\u001b[0m \u001b[0mvalid_acc_5\u001b[0m \u001b[0;34m=\u001b[0m \u001b[0mvalidate\u001b[0m\u001b[0;34m(\u001b[0m\u001b[0mmodel\u001b[0m\u001b[0;34m,\u001b[0m \u001b[0mval_loader\u001b[0m\u001b[0;34m,\u001b[0m \u001b[0mcriterion\u001b[0m\u001b[0;34m,\u001b[0m \u001b[0mdevice\u001b[0m\u001b[0;34m)\u001b[0m\u001b[0;34m\u001b[0m\u001b[0;34m\u001b[0m\u001b[0m\n\u001b[0m\u001b[1;32m     22\u001b[0m \u001b[0;34m\u001b[0m\u001b[0m\n\u001b[1;32m     23\u001b[0m     \u001b[0;31m#save your checkpoint if best (remember your stopping criteria!!!)\u001b[0m\u001b[0;34m\u001b[0m\u001b[0;34m\u001b[0m\u001b[0;34m\u001b[0m\u001b[0m\n",
      "\u001b[0;32m<ipython-input-25-fac0db3d8c27>\u001b[0m in \u001b[0;36mvalidate\u001b[0;34m(model, val_loader, criterion, device)\u001b[0m\n\u001b[1;32m      9\u001b[0m         \u001b[0;32mfor\u001b[0m \u001b[0mi\u001b[0m\u001b[0;34m,\u001b[0m \u001b[0;34m(\u001b[0m\u001b[0mdata\u001b[0m\u001b[0;34m,\u001b[0m \u001b[0mlabel\u001b[0m\u001b[0;34m)\u001b[0m \u001b[0;32min\u001b[0m \u001b[0menumerate\u001b[0m\u001b[0;34m(\u001b[0m\u001b[0mtrain_loader\u001b[0m\u001b[0;34m)\u001b[0m\u001b[0;34m:\u001b[0m\u001b[0;34m\u001b[0m\u001b[0;34m\u001b[0m\u001b[0m\n\u001b[1;32m     10\u001b[0m             \u001b[0mdata\u001b[0m\u001b[0;34m,\u001b[0m \u001b[0mlabel\u001b[0m \u001b[0;34m=\u001b[0m \u001b[0mdata\u001b[0m\u001b[0;34m.\u001b[0m\u001b[0mto\u001b[0m\u001b[0;34m(\u001b[0m\u001b[0mdevice\u001b[0m\u001b[0;34m)\u001b[0m\u001b[0;34m,\u001b[0m \u001b[0mlabel\u001b[0m\u001b[0;34m.\u001b[0m\u001b[0mto\u001b[0m\u001b[0;34m(\u001b[0m\u001b[0mdevice\u001b[0m\u001b[0;34m)\u001b[0m\u001b[0;34m\u001b[0m\u001b[0;34m\u001b[0m\u001b[0m\n\u001b[0;32m---> 11\u001b[0;31m             \u001b[0my_pred\u001b[0m \u001b[0;34m=\u001b[0m \u001b[0mmodel\u001b[0m\u001b[0;34m(\u001b[0m\u001b[0mdata\u001b[0m\u001b[0;34m)\u001b[0m\u001b[0;34m\u001b[0m\u001b[0;34m\u001b[0m\u001b[0m\n\u001b[0m\u001b[1;32m     12\u001b[0m             \u001b[0mloss\u001b[0m \u001b[0;34m=\u001b[0m \u001b[0mcriterion\u001b[0m\u001b[0;34m(\u001b[0m\u001b[0my_pred\u001b[0m\u001b[0;34m,\u001b[0m \u001b[0mlabel\u001b[0m\u001b[0;34m)\u001b[0m\u001b[0;34m\u001b[0m\u001b[0;34m\u001b[0m\u001b[0m\n\u001b[1;32m     13\u001b[0m             \u001b[0macc_1\u001b[0m\u001b[0;34m,\u001b[0m \u001b[0macc_5\u001b[0m \u001b[0;34m=\u001b[0m \u001b[0mcalculate_topk_accuracy\u001b[0m\u001b[0;34m(\u001b[0m\u001b[0my_pred\u001b[0m\u001b[0;34m,\u001b[0m \u001b[0mlabel\u001b[0m\u001b[0;34m)\u001b[0m\u001b[0;34m\u001b[0m\u001b[0;34m\u001b[0m\u001b[0m\n",
      "\u001b[0;32m~/miniconda3/envs/myenv/lib/python3.7/site-packages/torch/nn/modules/module.py\u001b[0m in \u001b[0;36m_call_impl\u001b[0;34m(self, *input, **kwargs)\u001b[0m\n\u001b[1;32m    720\u001b[0m             \u001b[0mresult\u001b[0m \u001b[0;34m=\u001b[0m \u001b[0mself\u001b[0m\u001b[0;34m.\u001b[0m\u001b[0m_slow_forward\u001b[0m\u001b[0;34m(\u001b[0m\u001b[0;34m*\u001b[0m\u001b[0minput\u001b[0m\u001b[0;34m,\u001b[0m \u001b[0;34m**\u001b[0m\u001b[0mkwargs\u001b[0m\u001b[0;34m)\u001b[0m\u001b[0;34m\u001b[0m\u001b[0;34m\u001b[0m\u001b[0m\n\u001b[1;32m    721\u001b[0m         \u001b[0;32melse\u001b[0m\u001b[0;34m:\u001b[0m\u001b[0;34m\u001b[0m\u001b[0;34m\u001b[0m\u001b[0m\n\u001b[0;32m--> 722\u001b[0;31m             \u001b[0mresult\u001b[0m \u001b[0;34m=\u001b[0m \u001b[0mself\u001b[0m\u001b[0;34m.\u001b[0m\u001b[0mforward\u001b[0m\u001b[0;34m(\u001b[0m\u001b[0;34m*\u001b[0m\u001b[0minput\u001b[0m\u001b[0;34m,\u001b[0m \u001b[0;34m**\u001b[0m\u001b[0mkwargs\u001b[0m\u001b[0;34m)\u001b[0m\u001b[0;34m\u001b[0m\u001b[0;34m\u001b[0m\u001b[0m\n\u001b[0m\u001b[1;32m    723\u001b[0m         for hook in itertools.chain(\n\u001b[1;32m    724\u001b[0m                 \u001b[0m_global_forward_hooks\u001b[0m\u001b[0;34m.\u001b[0m\u001b[0mvalues\u001b[0m\u001b[0;34m(\u001b[0m\u001b[0;34m)\u001b[0m\u001b[0;34m,\u001b[0m\u001b[0;34m\u001b[0m\u001b[0;34m\u001b[0m\u001b[0m\n",
      "\u001b[0;32m<ipython-input-14-ca76bb18024b>\u001b[0m in \u001b[0;36mforward\u001b[0;34m(self, x)\u001b[0m\n\u001b[1;32m     33\u001b[0m         \u001b[0mx\u001b[0m \u001b[0;34m=\u001b[0m \u001b[0mself\u001b[0m\u001b[0;34m.\u001b[0m\u001b[0mavgpool\u001b[0m\u001b[0;34m(\u001b[0m\u001b[0mx\u001b[0m\u001b[0;34m)\u001b[0m\u001b[0;34m\u001b[0m\u001b[0;34m\u001b[0m\u001b[0m\n\u001b[1;32m     34\u001b[0m         \u001b[0mx\u001b[0m \u001b[0;34m=\u001b[0m \u001b[0mtorch\u001b[0m\u001b[0;34m.\u001b[0m\u001b[0mflatten\u001b[0m\u001b[0;34m(\u001b[0m\u001b[0mx\u001b[0m\u001b[0;34m,\u001b[0m \u001b[0;36m1\u001b[0m\u001b[0;34m)\u001b[0m\u001b[0;34m\u001b[0m\u001b[0;34m\u001b[0m\u001b[0m\n\u001b[0;32m---> 35\u001b[0;31m         \u001b[0mx\u001b[0m \u001b[0;34m=\u001b[0m \u001b[0mself\u001b[0m\u001b[0;34m.\u001b[0m\u001b[0mclassifier\u001b[0m\u001b[0;34m(\u001b[0m\u001b[0mx\u001b[0m\u001b[0;34m)\u001b[0m\u001b[0;34m\u001b[0m\u001b[0;34m\u001b[0m\u001b[0m\n\u001b[0m\u001b[1;32m     36\u001b[0m         \u001b[0;32mreturn\u001b[0m \u001b[0mx\u001b[0m\u001b[0;34m\u001b[0m\u001b[0;34m\u001b[0m\u001b[0m\n",
      "\u001b[0;32m~/miniconda3/envs/myenv/lib/python3.7/site-packages/torch/nn/modules/module.py\u001b[0m in \u001b[0;36m_call_impl\u001b[0;34m(self, *input, **kwargs)\u001b[0m\n\u001b[1;32m    720\u001b[0m             \u001b[0mresult\u001b[0m \u001b[0;34m=\u001b[0m \u001b[0mself\u001b[0m\u001b[0;34m.\u001b[0m\u001b[0m_slow_forward\u001b[0m\u001b[0;34m(\u001b[0m\u001b[0;34m*\u001b[0m\u001b[0minput\u001b[0m\u001b[0;34m,\u001b[0m \u001b[0;34m**\u001b[0m\u001b[0mkwargs\u001b[0m\u001b[0;34m)\u001b[0m\u001b[0;34m\u001b[0m\u001b[0;34m\u001b[0m\u001b[0m\n\u001b[1;32m    721\u001b[0m         \u001b[0;32melse\u001b[0m\u001b[0;34m:\u001b[0m\u001b[0;34m\u001b[0m\u001b[0;34m\u001b[0m\u001b[0m\n\u001b[0;32m--> 722\u001b[0;31m             \u001b[0mresult\u001b[0m \u001b[0;34m=\u001b[0m \u001b[0mself\u001b[0m\u001b[0;34m.\u001b[0m\u001b[0mforward\u001b[0m\u001b[0;34m(\u001b[0m\u001b[0;34m*\u001b[0m\u001b[0minput\u001b[0m\u001b[0;34m,\u001b[0m \u001b[0;34m**\u001b[0m\u001b[0mkwargs\u001b[0m\u001b[0;34m)\u001b[0m\u001b[0;34m\u001b[0m\u001b[0;34m\u001b[0m\u001b[0m\n\u001b[0m\u001b[1;32m    723\u001b[0m         for hook in itertools.chain(\n\u001b[1;32m    724\u001b[0m                 \u001b[0m_global_forward_hooks\u001b[0m\u001b[0;34m.\u001b[0m\u001b[0mvalues\u001b[0m\u001b[0;34m(\u001b[0m\u001b[0;34m)\u001b[0m\u001b[0;34m,\u001b[0m\u001b[0;34m\u001b[0m\u001b[0;34m\u001b[0m\u001b[0m\n",
      "\u001b[0;32m~/miniconda3/envs/myenv/lib/python3.7/site-packages/torch/nn/modules/container.py\u001b[0m in \u001b[0;36mforward\u001b[0;34m(self, input)\u001b[0m\n\u001b[1;32m    115\u001b[0m     \u001b[0;32mdef\u001b[0m \u001b[0mforward\u001b[0m\u001b[0;34m(\u001b[0m\u001b[0mself\u001b[0m\u001b[0;34m,\u001b[0m \u001b[0minput\u001b[0m\u001b[0;34m)\u001b[0m\u001b[0;34m:\u001b[0m\u001b[0;34m\u001b[0m\u001b[0;34m\u001b[0m\u001b[0m\n\u001b[1;32m    116\u001b[0m         \u001b[0;32mfor\u001b[0m \u001b[0mmodule\u001b[0m \u001b[0;32min\u001b[0m \u001b[0mself\u001b[0m\u001b[0;34m:\u001b[0m\u001b[0;34m\u001b[0m\u001b[0;34m\u001b[0m\u001b[0m\n\u001b[0;32m--> 117\u001b[0;31m             \u001b[0minput\u001b[0m \u001b[0;34m=\u001b[0m \u001b[0mmodule\u001b[0m\u001b[0;34m(\u001b[0m\u001b[0minput\u001b[0m\u001b[0;34m)\u001b[0m\u001b[0;34m\u001b[0m\u001b[0;34m\u001b[0m\u001b[0m\n\u001b[0m\u001b[1;32m    118\u001b[0m         \u001b[0;32mreturn\u001b[0m \u001b[0minput\u001b[0m\u001b[0;34m\u001b[0m\u001b[0;34m\u001b[0m\u001b[0m\n\u001b[1;32m    119\u001b[0m \u001b[0;34m\u001b[0m\u001b[0m\n",
      "\u001b[0;32m~/miniconda3/envs/myenv/lib/python3.7/site-packages/torch/nn/modules/module.py\u001b[0m in \u001b[0;36m_call_impl\u001b[0;34m(self, *input, **kwargs)\u001b[0m\n\u001b[1;32m    720\u001b[0m             \u001b[0mresult\u001b[0m \u001b[0;34m=\u001b[0m \u001b[0mself\u001b[0m\u001b[0;34m.\u001b[0m\u001b[0m_slow_forward\u001b[0m\u001b[0;34m(\u001b[0m\u001b[0;34m*\u001b[0m\u001b[0minput\u001b[0m\u001b[0;34m,\u001b[0m \u001b[0;34m**\u001b[0m\u001b[0mkwargs\u001b[0m\u001b[0;34m)\u001b[0m\u001b[0;34m\u001b[0m\u001b[0;34m\u001b[0m\u001b[0m\n\u001b[1;32m    721\u001b[0m         \u001b[0;32melse\u001b[0m\u001b[0;34m:\u001b[0m\u001b[0;34m\u001b[0m\u001b[0;34m\u001b[0m\u001b[0m\n\u001b[0;32m--> 722\u001b[0;31m             \u001b[0mresult\u001b[0m \u001b[0;34m=\u001b[0m \u001b[0mself\u001b[0m\u001b[0;34m.\u001b[0m\u001b[0mforward\u001b[0m\u001b[0;34m(\u001b[0m\u001b[0;34m*\u001b[0m\u001b[0minput\u001b[0m\u001b[0;34m,\u001b[0m \u001b[0;34m**\u001b[0m\u001b[0mkwargs\u001b[0m\u001b[0;34m)\u001b[0m\u001b[0;34m\u001b[0m\u001b[0;34m\u001b[0m\u001b[0m\n\u001b[0m\u001b[1;32m    723\u001b[0m         for hook in itertools.chain(\n\u001b[1;32m    724\u001b[0m                 \u001b[0m_global_forward_hooks\u001b[0m\u001b[0;34m.\u001b[0m\u001b[0mvalues\u001b[0m\u001b[0;34m(\u001b[0m\u001b[0;34m)\u001b[0m\u001b[0;34m,\u001b[0m\u001b[0;34m\u001b[0m\u001b[0;34m\u001b[0m\u001b[0m\n",
      "\u001b[0;32m~/miniconda3/envs/myenv/lib/python3.7/site-packages/torch/nn/modules/linear.py\u001b[0m in \u001b[0;36mforward\u001b[0;34m(self, input)\u001b[0m\n\u001b[1;32m     89\u001b[0m \u001b[0;34m\u001b[0m\u001b[0m\n\u001b[1;32m     90\u001b[0m     \u001b[0;32mdef\u001b[0m \u001b[0mforward\u001b[0m\u001b[0;34m(\u001b[0m\u001b[0mself\u001b[0m\u001b[0;34m,\u001b[0m \u001b[0minput\u001b[0m\u001b[0;34m:\u001b[0m \u001b[0mTensor\u001b[0m\u001b[0;34m)\u001b[0m \u001b[0;34m->\u001b[0m \u001b[0mTensor\u001b[0m\u001b[0;34m:\u001b[0m\u001b[0;34m\u001b[0m\u001b[0;34m\u001b[0m\u001b[0m\n\u001b[0;32m---> 91\u001b[0;31m         \u001b[0;32mreturn\u001b[0m \u001b[0mF\u001b[0m\u001b[0;34m.\u001b[0m\u001b[0mlinear\u001b[0m\u001b[0;34m(\u001b[0m\u001b[0minput\u001b[0m\u001b[0;34m,\u001b[0m \u001b[0mself\u001b[0m\u001b[0;34m.\u001b[0m\u001b[0mweight\u001b[0m\u001b[0;34m,\u001b[0m \u001b[0mself\u001b[0m\u001b[0;34m.\u001b[0m\u001b[0mbias\u001b[0m\u001b[0;34m)\u001b[0m\u001b[0;34m\u001b[0m\u001b[0;34m\u001b[0m\u001b[0m\n\u001b[0m\u001b[1;32m     92\u001b[0m \u001b[0;34m\u001b[0m\u001b[0m\n\u001b[1;32m     93\u001b[0m     \u001b[0;32mdef\u001b[0m \u001b[0mextra_repr\u001b[0m\u001b[0;34m(\u001b[0m\u001b[0mself\u001b[0m\u001b[0;34m)\u001b[0m \u001b[0;34m->\u001b[0m \u001b[0mstr\u001b[0m\u001b[0;34m:\u001b[0m\u001b[0;34m\u001b[0m\u001b[0;34m\u001b[0m\u001b[0m\n",
      "\u001b[0;32m~/miniconda3/envs/myenv/lib/python3.7/site-packages/torch/nn/functional.py\u001b[0m in \u001b[0;36mlinear\u001b[0;34m(input, weight, bias)\u001b[0m\n\u001b[1;32m   1668\u001b[0m     \u001b[0mtens_ops\u001b[0m \u001b[0;34m=\u001b[0m \u001b[0;34m(\u001b[0m\u001b[0minput\u001b[0m\u001b[0;34m,\u001b[0m \u001b[0mweight\u001b[0m\u001b[0;34m)\u001b[0m\u001b[0;34m\u001b[0m\u001b[0;34m\u001b[0m\u001b[0m\n\u001b[1;32m   1669\u001b[0m     \u001b[0;32mif\u001b[0m \u001b[0;32mnot\u001b[0m \u001b[0mtorch\u001b[0m\u001b[0;34m.\u001b[0m\u001b[0mjit\u001b[0m\u001b[0;34m.\u001b[0m\u001b[0mis_scripting\u001b[0m\u001b[0;34m(\u001b[0m\u001b[0;34m)\u001b[0m\u001b[0;34m:\u001b[0m\u001b[0;34m\u001b[0m\u001b[0;34m\u001b[0m\u001b[0m\n\u001b[0;32m-> 1670\u001b[0;31m         \u001b[0;32mif\u001b[0m \u001b[0many\u001b[0m\u001b[0;34m(\u001b[0m\u001b[0;34m[\u001b[0m\u001b[0mtype\u001b[0m\u001b[0;34m(\u001b[0m\u001b[0mt\u001b[0m\u001b[0;34m)\u001b[0m \u001b[0;32mis\u001b[0m \u001b[0;32mnot\u001b[0m \u001b[0mTensor\u001b[0m \u001b[0;32mfor\u001b[0m \u001b[0mt\u001b[0m \u001b[0;32min\u001b[0m \u001b[0mtens_ops\u001b[0m\u001b[0;34m]\u001b[0m\u001b[0;34m)\u001b[0m \u001b[0;32mand\u001b[0m \u001b[0mhas_torch_function\u001b[0m\u001b[0;34m(\u001b[0m\u001b[0mtens_ops\u001b[0m\u001b[0;34m)\u001b[0m\u001b[0;34m:\u001b[0m\u001b[0;34m\u001b[0m\u001b[0;34m\u001b[0m\u001b[0m\n\u001b[0m\u001b[1;32m   1671\u001b[0m             \u001b[0;32mreturn\u001b[0m \u001b[0mhandle_torch_function\u001b[0m\u001b[0;34m(\u001b[0m\u001b[0mlinear\u001b[0m\u001b[0;34m,\u001b[0m \u001b[0mtens_ops\u001b[0m\u001b[0;34m,\u001b[0m \u001b[0minput\u001b[0m\u001b[0;34m,\u001b[0m \u001b[0mweight\u001b[0m\u001b[0;34m,\u001b[0m \u001b[0mbias\u001b[0m\u001b[0;34m=\u001b[0m\u001b[0mbias\u001b[0m\u001b[0;34m)\u001b[0m\u001b[0;34m\u001b[0m\u001b[0;34m\u001b[0m\u001b[0m\n\u001b[1;32m   1672\u001b[0m     \u001b[0;32mif\u001b[0m \u001b[0minput\u001b[0m\u001b[0;34m.\u001b[0m\u001b[0mdim\u001b[0m\u001b[0;34m(\u001b[0m\u001b[0;34m)\u001b[0m \u001b[0;34m==\u001b[0m \u001b[0;36m2\u001b[0m \u001b[0;32mand\u001b[0m \u001b[0mbias\u001b[0m \u001b[0;32mis\u001b[0m \u001b[0;32mnot\u001b[0m \u001b[0;32mNone\u001b[0m\u001b[0;34m:\u001b[0m\u001b[0;34m\u001b[0m\u001b[0;34m\u001b[0m\u001b[0m\n",
      "\u001b[0;31mKeyboardInterrupt\u001b[0m: "
     ]
    }
   ],
   "source": [
    "# start your training by first calling train and then validation\n",
    "n_epochs = 100\n",
    "STEPS_PER_EPOCH = len(train_loader)\n",
    "TOTAL_STEPS = n_epochs * STEPS_PER_EPOCH\n",
    "print('total steps per epoch is:', TOTAL_STEPS)\n",
    "best_valid_loss = float('inf')\n",
    "num_batches = len(train_loader)\n",
    "val_num_batches = len(val_loader)\n",
    "losses_df = {'train_loss' : [], 'train_acc' : [], 'val_loss' : [], 'val_acc' : []}\n",
    "# specify a checkpoint file to save your trained (optimal) weights\n",
    "ckptFileName = 'alexNet_CKPT_best.pt'\n",
    "\n",
    "for epoch in range(n_epochs):\n",
    "    \n",
    "    start_time = time.time()\n",
    "    \n",
    "    # call train function\n",
    "    train_loss, train_acc_1, train_acc_5 = train(model, train_loader, optimizer, criterion, device, epoch)\n",
    "    \n",
    "    # call validation function\n",
    "    valid_loss, valid_acc_1, valid_acc_5 = validate(model, val_loader, criterion, device)\n",
    "    \n",
    "    #save your checkpoint if best (remember your stopping criteria!!!)\n",
    "    if valid_loss < best_valid_loss:\n",
    "        best_valid_loss = valid_loss\n",
    "        torch.save(model.state_dict(), ckptFileName)\n",
    "\n",
    "    end_time = time.time()\n",
    "\n",
    "    epoch_mins, epoch_secs = epoch_time(start_time, end_time)\n",
    "    \n",
    "    print(f'Epoch: {epoch+1:02} | Epoch Time: {epoch_mins}m {epoch_secs}s')\n",
    "    print(f'\\t Train Loss: {train_loss:.3f} | Train Acc @1: {train_acc_1*100:6.2f}% | ' \\\n",
    "          f'Train Alabel_namescc @5: {train_acc_5*100:6.2f}%')\n",
    "    print(f'\\tValid Loss: {valid_loss:.3f} | Valid Acc @1: {valid_acc_1*100:6.2f}% | ' \\\n",
    "          f'Valid Acc @5: {valid_acc_5*100:6.2f}%')\n",
    "    \n",
    "    # training loss, val loss and val accuracy\n",
    "    losses_df['train_loss'].append(train_loss)\n",
    "    losses_df['train_acc'].append(train_acc_1)\n",
    "    losses_df['val_loss'].append(valid_loss)\n",
    "    losses_df['val_acc'].append(valid_acc_1)"
   ]
  },
  {
   "cell_type": "markdown",
   "metadata": {},
   "source": [
    "#### Step 11: What went during training: plot your train-val losses and accuracies to get insight (dont forget about tensorboard, have a look later!)  "
   ]
  },
  {
   "cell_type": "code",
   "execution_count": 29,
   "metadata": {},
   "outputs": [
    {
     "data": {
      "text/plain": [
       "<matplotlib.legend.Legend at 0x7f7d2ca1af10>"
      ]
     },
     "execution_count": 29,
     "metadata": {},
     "output_type": "execute_result"
    },
    {
     "data": {
      "image/png": "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\n",
      "text/plain": [
       "<Figure size 1080x360 with 2 Axes>"
      ]
     },
     "metadata": {
      "needs_background": "light"
     },
     "output_type": "display_data"
    }
   ],
   "source": [
    "plt.figure(figsize=(15,5))\n",
    "plt.subplot(1,2,1)\n",
    "x_range = np.arange(epoch)\n",
    "plt.plot(x_range, losses_df['train_loss'], label = 'train loss')\n",
    "plt.plot(x_range, losses_df['val_loss'], label = 'validation loss')\n",
    "plt.title('Losses')\n",
    "plt.legend()\n",
    "\n",
    "plt.subplot(1,2,2)\n",
    "x_range = np.arange(epoch)\n",
    "plt.plot(x_range, losses_df['train_acc'], label = 'train acc')\n",
    "plt.plot(x_range, losses_df['val_acc'], label = 'val acc')\n",
    "plt.title('Accuracy')\n",
    "plt.legend()"
   ]
  },
  {
   "cell_type": "markdown",
   "metadata": {},
   "source": [
    "#### Step12: Calculate accuracies on you test data\n",
    "\n",
    "- First compute the classical confusion matrix \n",
    "- Then, compute accuracies for your test samples\n",
    "- Finally, if you want to plot ROC curve and AUC then this you will have to do for each class as probabilies"
   ]
  },
  {
   "cell_type": "code",
   "execution_count": 30,
   "metadata": {},
   "outputs": [],
   "source": [
    "# Now test your trained model\n",
    "def test_label_predictions(model, test_loader, device):\n",
    "    test_preds = []\n",
    "    labels = []\n",
    "    with torch.no_grad():\n",
    "        model.eval()\n",
    "\n",
    "        for i, batch in enumerate(test_loader):\n",
    "            img, label = batch\n",
    "            img, label = img.to(device, dtype = torch.float), label.to(device, dtype = torch.long)\n",
    "            output = model(img)\n",
    "            output = output.detach().cpu().numpy()\n",
    "            test_preds.extend(np.argmax(output, 1))\n",
    "            labels.extend(label.detach().cpu().numpy())\n",
    "        return labels, test_preds"
   ]
  },
  {
   "cell_type": "code",
   "execution_count": 31,
   "metadata": {},
   "outputs": [
    {
     "name": "stdout",
     "output_type": "stream",
     "text": [
      "Files already downloaded and verified\n"
     ]
    }
   ],
   "source": [
    "ckptFileName = 'alexNet_CKPT_best.pt'\n",
    "# load test data in data loader\n",
    "test_loader = get_test_loader(data_dir='./data', batch_size=4, shuffle=False, num_workers=2)\n",
    "\n",
    "# load the saved weights\n",
    "model.load_state_dict(torch.load(ckptFileName))\n",
    "\n",
    "# call function for prediction\n",
    "labels, test_preds  = test_label_predictions(model, test_loader, device)"
   ]
  },
  {
   "cell_type": "code",
   "execution_count": 32,
   "metadata": {},
   "outputs": [
    {
     "name": "stdout",
     "output_type": "stream",
     "text": [
      "Confusion matrix:\n",
      "[[904   8  10   6   4   3   5   2  39  19]\n",
      " [  5 935   1   2   1   1   2   0  14  39]\n",
      " [ 31   2 835  24  37  29  20  10   7   5]\n",
      " [ 16   4  47 732  40  79  33  28  11  10]\n",
      " [ 12   0  45  22 863  12  17  21   6   2]\n",
      " [  7   2  27  66  30 836   7  17   2   6]\n",
      " [  5   2  25  22  13   5 918   2   4   4]\n",
      " [ 12   0  11   9  20  34   0 905   2   7]\n",
      " [ 28   6   1   4   3   1   0   1 938  18]\n",
      " [ 13  29   6   4   0   2   3   3  12 928]]\n",
      "F1 score: 0.879400\n",
      "Accuracy score: 0.879400\n"
     ]
    }
   ],
   "source": [
    "from sklearn.metrics import accuracy_score, confusion_matrix, f1_score\n",
    "from sklearn.metrics import plot_confusion_matrix\n",
    "\n",
    "print('Confusion matrix:')\n",
    "print(confusion_matrix(labels, test_preds))\n",
    "print('F1 score: %f' % f1_score(labels, test_preds, average='micro'))\n",
    "print('Accuracy score: %f' % accuracy_score(labels, test_preds))\n"
   ]
  },
  {
   "cell_type": "code",
   "execution_count": 33,
   "metadata": {},
   "outputs": [],
   "source": [
    "### Lets do the ROC curve\n",
    "def test_class_probabilities(model, device, test_loader, which_class):\n",
    "    model.to(device)\n",
    "    model.eval()\n",
    "    actuals = []\n",
    "    probabilities = []\n",
    "    with torch.no_grad():\n",
    "        for data, target in test_loader:\n",
    "            data, target = data.to(device), target.to(device)\n",
    "            output = model(data)\n",
    "            prediction = output.argmax(dim=1, keepdim=True)\n",
    "            actuals.extend(target.view_as(prediction) == which_class)\n",
    "            probabilities.extend(np.exp(output[:, which_class]))\n",
    "    return [i.item() for i in actuals], [i.item() for i in probabilities]"
   ]
  },
  {
   "cell_type": "code",
   "execution_count": 34,
   "metadata": {},
   "outputs": [],
   "source": [
    "which_class = 3\n",
    "device = 'cpu'\n",
    "actuals, class_probabilities = test_class_probabilities(model, device, test_loader, which_class)"
   ]
  },
  {
   "cell_type": "code",
   "execution_count": 36,
   "metadata": {},
   "outputs": [
    {
     "data": {
      "image/png": "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\n",
      "text/plain": [
       "<Figure size 432x288 with 1 Axes>"
      ]
     },
     "metadata": {
      "needs_background": "light"
     },
     "output_type": "display_data"
    }
   ],
   "source": [
    "from sklearn.metrics import roc_auc_score, auc\n",
    "from sklearn.metrics import roc_curve\n",
    "\n",
    "roc_log = roc_auc_score(actuals, class_probabilities)\n",
    "false_positive_rate, true_positive_rate, threshold = roc_curve(actuals, class_probabilities)\n",
    "area_under_curve = auc(false_positive_rate, true_positive_rate)\n",
    "\n",
    "plt.plot([0, 1], [0, 1], 'r--')\n",
    "plt.plot(false_positive_rate, true_positive_rate, label='AUC = {:.3f}'.format(area_under_curve))\n",
    "plt.xlabel('False positive rate')\n",
    "plt.ylabel('True positive rate')\n",
    "plt.title('ROC curve for label:  '+str(label_names[which_class]))\n",
    "plt.legend(loc='best')\n",
    "plt.show()\n",
    "plt.close()"
   ]
  },
  {
   "cell_type": "code",
   "execution_count": 35,
   "metadata": {},
   "outputs": [],
   "source": [
    "####################################~~~~~E.O.F~~~~~~###############################################"
   ]
  }
 ],
 "metadata": {
  "kernelspec": {
   "display_name": "Python 3",
   "language": "python",
   "name": "python3"
  },
  "language_info": {
   "codemirror_mode": {
    "name": "ipython",
    "version": 3
   },
   "file_extension": ".py",
   "mimetype": "text/x-python",
   "name": "python",
   "nbconvert_exporter": "python",
   "pygments_lexer": "ipython3",
   "version": "3.7.6"
  }
 },
 "nbformat": 4,
 "nbformat_minor": 4
}
